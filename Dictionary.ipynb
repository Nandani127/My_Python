{
 "cells": [
  {
   "cell_type": "markdown",
   "metadata": {},
   "source": [
    "# Dictionary -\n",
    "Unordered, Changeable, Do not allow duplicate keys"
   ]
  },
  {
   "cell_type": "code",
   "execution_count": null,
   "metadata": {},
   "outputs": [],
   "source": [
    "# traditional list \n",
    "names = ['Abhi','Anuj','Kabir','Anil','Veera']  \n",
    "years = [1984,2015,1982,1989,2018]"
   ]
  },
  {
   "cell_type": "code",
   "execution_count": 2,
   "metadata": {},
   "outputs": [
    {
     "data": {
      "text/plain": [
       "2015"
      ]
     },
     "execution_count": 2,
     "metadata": {},
     "output_type": "execute_result"
    }
   ],
   "source": [
    "# check year of Anuj year of birth\n",
    "years[names.index('Anuj')]"
   ]
  },
  {
   "cell_type": "code",
   "execution_count": 3,
   "metadata": {},
   "outputs": [
    {
     "data": {
      "text/plain": [
       "{'Abhi': 20377, 'Ajay': 35044, 'Anil': 38085}"
      ]
     },
     "execution_count": 3,
     "metadata": {},
     "output_type": "execute_result"
    }
   ],
   "source": [
    "# Dictionaries: I'm associating values with keys   syntax - {key : value}\n",
    "#keys are name and values are their year of birth\n",
    "#one way is shown above\n",
    "# Another way: Create Dictionaries\n",
    "phonebook = {'Abhi': 20377, 'Ajay' : 35044, 'Anil': 38085}\n",
    "phonebook"
   ]
  },
  {
   "cell_type": "code",
   "execution_count": 4,
   "metadata": {},
   "outputs": [
    {
     "data": {
      "text/plain": [
       "dict"
      ]
     },
     "execution_count": 4,
     "metadata": {},
     "output_type": "execute_result"
    }
   ],
   "source": [
    "type(phonebook)"
   ]
  },
  {
   "cell_type": "code",
   "execution_count": 5,
   "metadata": {},
   "outputs": [
    {
     "name": "stdout",
     "output_type": "stream",
     "text": [
      "[('name', 'Nandani'), ('age', 19), ('univ', 'svvv')]\n",
      "{'name': 'Nandani', 'age': 19, 'univ': 'svvv'}\n"
     ]
    }
   ],
   "source": [
    "# Another way, using dict()\n",
    "#create list\n",
    "l = [('name','Nandani'),('age',19),('univ','svvv')]\n",
    "print(l)\n",
    "d = dict(l)\n",
    "print(d)"
   ]
  },
  {
   "cell_type": "code",
   "execution_count": 11,
   "metadata": {},
   "outputs": [
    {
     "data": {
      "text/plain": [
       "dict"
      ]
     },
     "execution_count": 11,
     "metadata": {},
     "output_type": "execute_result"
    }
   ],
   "source": [
    "type(d)"
   ]
  },
  {
   "cell_type": "code",
   "execution_count": 6,
   "metadata": {},
   "outputs": [
    {
     "name": "stdout",
     "output_type": "stream",
     "text": [
      "{'name': 'Nandani', 'age': 19}\n"
     ]
    }
   ],
   "source": [
    "# Another way\n",
    "d1 = dict(name= 'Nandani', age= 19)\n",
    "print(d1)"
   ]
  },
  {
   "cell_type": "code",
   "execution_count": 7,
   "metadata": {},
   "outputs": [
    {
     "name": "stdout",
     "output_type": "stream",
     "text": [
      "{}\n"
     ]
    },
    {
     "data": {
      "text/plain": [
       "dict"
      ]
     },
     "execution_count": 7,
     "metadata": {},
     "output_type": "execute_result"
    }
   ],
   "source": [
    "# Creating empty dictionary\n",
    "empty = {}\n",
    "print(empty)\n",
    "type(empty)"
   ]
  },
  {
   "cell_type": "code",
   "execution_count": 55,
   "metadata": {},
   "outputs": [
    {
     "data": {
      "text/plain": [
       "{'Maths': 98, 'English': 88, 'Physics': 95, 'Chemistry': 70}"
      ]
     },
     "execution_count": 55,
     "metadata": {},
     "output_type": "execute_result"
    }
   ],
   "source": [
    "grades = {\"Maths\" : 98,\n",
    "          \"English\" : 88,\n",
    "          \"Physics\" : 95,\n",
    "          \"Chemistry\" : 70}\n",
    "grades"
   ]
  },
  {
   "cell_type": "code",
   "execution_count": 9,
   "metadata": {},
   "outputs": [
    {
     "name": "stdout",
     "output_type": "stream",
     "text": [
      "My Maths grade is 98\n"
     ]
    }
   ],
   "source": [
    "# variable_name[key] - Accessing value of a dictionary\n",
    "print(\"My Maths grade is\", grades[\"Maths\"])"
   ]
  },
  {
   "cell_type": "code",
   "execution_count": 13,
   "metadata": {},
   "outputs": [
    {
     "data": {
      "text/plain": [
       "20377"
      ]
     },
     "execution_count": 13,
     "metadata": {},
     "output_type": "execute_result"
    }
   ],
   "source": [
    "phonebook['Abhi']"
   ]
  },
  {
   "cell_type": "code",
   "execution_count": 11,
   "metadata": {},
   "outputs": [
    {
     "ename": "KeyError",
     "evalue": "'Sanskrit'",
     "output_type": "error",
     "traceback": [
      "\u001b[1;31m---------------------------------------------------------------------------\u001b[0m",
      "\u001b[1;31mKeyError\u001b[0m                                  Traceback (most recent call last)",
      "\u001b[1;32m<ipython-input-11-5afb7886d802>\u001b[0m in \u001b[0;36m<module>\u001b[1;34m\u001b[0m\n\u001b[0;32m      1\u001b[0m \u001b[1;31m# accessing key that is not present\u001b[0m\u001b[1;33m\u001b[0m\u001b[1;33m\u001b[0m\u001b[1;33m\u001b[0m\u001b[0m\n\u001b[1;32m----> 2\u001b[1;33m \u001b[0mgrades\u001b[0m\u001b[1;33m[\u001b[0m\u001b[1;34m\"Sanskrit\"\u001b[0m\u001b[1;33m]\u001b[0m\u001b[1;33m\u001b[0m\u001b[1;33m\u001b[0m\u001b[0m\n\u001b[0m",
      "\u001b[1;31mKeyError\u001b[0m: 'Sanskrit'"
     ]
    }
   ],
   "source": [
    "# accessing key that is not present\n",
    "grades[\"Sanskrit\"]"
   ]
  },
  {
   "cell_type": "code",
   "execution_count": 56,
   "metadata": {},
   "outputs": [
    {
     "data": {
      "text/plain": [
       "{'Maths': 98, 'English': 88, 'Physics': 95, 'Chemistry': 70, 'Hindi': 88}"
      ]
     },
     "execution_count": 56,
     "metadata": {},
     "output_type": "execute_result"
    }
   ],
   "source": [
    "# adding a new key-value pair\n",
    "grades[\"Hindi\"] = 88\n",
    "grades"
   ]
  },
  {
   "cell_type": "code",
   "execution_count": 57,
   "metadata": {},
   "outputs": [
    {
     "name": "stdout",
     "output_type": "stream",
     "text": [
      "{'Maths': 98, 'English': 88, 'Physics': 95, 'Chemistry': 70, 'Hindi': 79}\n"
     ]
    }
   ],
   "source": [
    "# Dictionary has unique keys \n",
    "'''Since key \"Hindi\" is already present in the dictionary, it cannot have another key with \n",
    "same name. Rather it updates the value of the key'''\n",
    "grades['Hindi'] = 79\n",
    "print(grades)"
   ]
  },
  {
   "cell_type": "code",
   "execution_count": 58,
   "metadata": {},
   "outputs": [
    {
     "data": {
      "text/plain": [
       "{'Maths': 98,\n",
       " 'English': 88,\n",
       " 'Physics': 95,\n",
       " 'Chemistry': 91,\n",
       " 'Hindi': 79,\n",
       " 'Sanskrit': 100}"
      ]
     },
     "execution_count": 58,
     "metadata": {},
     "output_type": "execute_result"
    }
   ],
   "source": [
    "# dict.update({dict}) \n",
    "grades.update({'Chemistry':91, 'Sanskrit':100})\n",
    "grades"
   ]
  },
  {
   "cell_type": "code",
   "execution_count": 59,
   "metadata": {},
   "outputs": [
    {
     "data": {
      "text/plain": [
       "{'Maths': 98,\n",
       " 'English': 3.2,\n",
       " 'Physics': 95,\n",
       " 'Chemistry': 91,\n",
       " 'Hindi': 79,\n",
       " 'Sanskrit': 100,\n",
       " 'Art': 2.9,\n",
       " 'Drama': 3.0}"
      ]
     },
     "execution_count": 59,
     "metadata": {},
     "output_type": "execute_result"
    }
   ],
   "source": [
    "arts_grades = {\"English\"     : 3.2,\n",
    "               \"Art\"         : 2.9,\n",
    "               \"Drama\"       : 3.0}\n",
    "grades.update(arts_grades)\n",
    "grades"
   ]
  },
  {
   "cell_type": "code",
   "execution_count": 14,
   "metadata": {},
   "outputs": [
    {
     "data": {
      "text/plain": [
       "5"
      ]
     },
     "execution_count": 14,
     "metadata": {},
     "output_type": "execute_result"
    }
   ],
   "source": [
    "# Length of dictionary\n",
    "len(grades)"
   ]
  },
  {
   "cell_type": "code",
   "execution_count": 60,
   "metadata": {},
   "outputs": [],
   "source": [
    "# del dict[key] - Deleting any key-value pair from dictionary\n",
    "del grades['Maths']               # key 'Maths' and its value is deleted"
   ]
  },
  {
   "cell_type": "code",
   "execution_count": 61,
   "metadata": {},
   "outputs": [
    {
     "data": {
      "text/plain": [
       "{'English': 3.2,\n",
       " 'Physics': 95,\n",
       " 'Chemistry': 91,\n",
       " 'Hindi': 79,\n",
       " 'Sanskrit': 100,\n",
       " 'Art': 2.9,\n",
       " 'Drama': 3.0}"
      ]
     },
     "execution_count": 61,
     "metadata": {},
     "output_type": "execute_result"
    }
   ],
   "source": [
    "grades"
   ]
  },
  {
   "cell_type": "code",
   "execution_count": 17,
   "metadata": {},
   "outputs": [
    {
     "name": "stdout",
     "output_type": "stream",
     "text": [
      "{'Abhi': 20377, 'Ajay': 35044, 'Anil': 38085}\n"
     ]
    }
   ],
   "source": [
    "# del dict - Deleting the whole dictionary\n",
    "print(phonebook)\n",
    "del phonebook"
   ]
  },
  {
   "cell_type": "code",
   "execution_count": 18,
   "metadata": {},
   "outputs": [
    {
     "ename": "NameError",
     "evalue": "name 'phonebook' is not defined",
     "output_type": "error",
     "traceback": [
      "\u001b[1;31m---------------------------------------------------------------------------\u001b[0m",
      "\u001b[1;31mNameError\u001b[0m                                 Traceback (most recent call last)",
      "\u001b[1;32m<ipython-input-18-2e3048f160bf>\u001b[0m in \u001b[0;36m<module>\u001b[1;34m\u001b[0m\n\u001b[1;32m----> 1\u001b[1;33m \u001b[0mphonebook\u001b[0m\u001b[1;33m\u001b[0m\u001b[1;33m\u001b[0m\u001b[0m\n\u001b[0m",
      "\u001b[1;31mNameError\u001b[0m: name 'phonebook' is not defined"
     ]
    }
   ],
   "source": [
    "phonebook                # phonebook dictionary is deleted"
   ]
  },
  {
   "cell_type": "code",
   "execution_count": 19,
   "metadata": {},
   "outputs": [
    {
     "data": {
      "text/plain": [
       "True"
      ]
     },
     "execution_count": 19,
     "metadata": {},
     "output_type": "execute_result"
    }
   ],
   "source": [
    "# Containership in dictionary\n",
    "'Physics' in grades"
   ]
  },
  {
   "cell_type": "code",
   "execution_count": 20,
   "metadata": {},
   "outputs": [
    {
     "data": {
      "text/plain": [
       "False"
      ]
     },
     "execution_count": 20,
     "metadata": {},
     "output_type": "execute_result"
    }
   ],
   "source": [
    "'Maths' in grades"
   ]
  },
  {
   "cell_type": "code",
   "execution_count": 34,
   "metadata": {},
   "outputs": [
    {
     "data": {
      "text/plain": [
       "{'Math': 3.9, 'English': 4.0, 'Physics': 2.9}"
      ]
     },
     "execution_count": 34,
     "metadata": {},
     "output_type": "execute_result"
    }
   ],
   "source": [
    "# dict.copy() - Creates shallow copy of the dictionary\n",
    "grades = {\"Math\" : 3.9, \"English\" : 4.0, \"Physics\" : 2.9}\n",
    "c_grades = grades.copy()\n",
    "c_grades"
   ]
  },
  {
   "cell_type": "code",
   "execution_count": 35,
   "metadata": {},
   "outputs": [
    {
     "name": "stdout",
     "output_type": "stream",
     "text": [
      "1684077832064\n",
      "1684077861376\n"
     ]
    }
   ],
   "source": [
    "print( id(grades) )                # id returns address of variables\n",
    "print( id(c_grades) )"
   ]
  },
  {
   "cell_type": "code",
   "execution_count": 36,
   "metadata": {},
   "outputs": [
    {
     "data": {
      "text/plain": [
       "{'Math': 3.9, 'English': 4.0, 'Physics': 2.9, 'Chemistry': 70}"
      ]
     },
     "execution_count": 36,
     "metadata": {},
     "output_type": "execute_result"
    }
   ],
   "source": [
    "grades[\"Chemistry\"] = 70\n",
    "grades"
   ]
  },
  {
   "cell_type": "code",
   "execution_count": 37,
   "metadata": {},
   "outputs": [
    {
     "data": {
      "text/plain": [
       "{'Math': 3.9, 'English': 4.0, 'Physics': 2.9}"
      ]
     },
     "execution_count": 37,
     "metadata": {},
     "output_type": "execute_result"
    }
   ],
   "source": [
    "c_grades"
   ]
  },
  {
   "cell_type": "code",
   "execution_count": 38,
   "metadata": {},
   "outputs": [
    {
     "name": "stdout",
     "output_type": "stream",
     "text": [
      "1684077832064\n"
     ]
    }
   ],
   "source": [
    "new_grades = grades\n",
    "print( id(new_grades) )"
   ]
  },
  {
   "cell_type": "code",
   "execution_count": 39,
   "metadata": {},
   "outputs": [
    {
     "data": {
      "text/plain": [
       "True"
      ]
     },
     "execution_count": 39,
     "metadata": {},
     "output_type": "execute_result"
    }
   ],
   "source": [
    "new_grades == grades"
   ]
  },
  {
   "cell_type": "code",
   "execution_count": 34,
   "metadata": {},
   "outputs": [
    {
     "name": "stdout",
     "output_type": "stream",
     "text": [
      "x:  {'username': 'admin', 'machines': ['foo', 'bar', 'baz']}\n",
      "y:  {'username': 'admin', 'machines': ['foo', 'bar', 'baz']}\n",
      "y:  {'username': 'mlh', 'machines': ['foo', 'baz']}\n",
      "x: {'username': 'admin', 'machines': ['foo', 'baz']}\n"
     ]
    }
   ],
   "source": [
    "# copying the dictionary\n",
    "'''In copy, if we replace value, original is unaffected, but if we modify the value, orginal \n",
    "also get affected'''\n",
    "\n",
    "x = {'username': 'admin', 'machines': ['foo', 'bar', 'baz']}\n",
    "print(\"x: \",x)\n",
    "\n",
    "y = x.copy()\n",
    "print(\"y: \",y)\n",
    "\n",
    "y['username'] = 'mlh'               #replacing the value of 'username'\n",
    "y['machines'].remove('bar')         #modifying the value of 'machines'\n",
    "\n",
    "print(\"y: \",y)\n",
    "print(\"x:\",x)"
   ]
  },
  {
   "cell_type": "code",
   "execution_count": 35,
   "metadata": {},
   "outputs": [],
   "source": [
    "y['machines'] = ['hello','world']"
   ]
  },
  {
   "cell_type": "code",
   "execution_count": 36,
   "metadata": {},
   "outputs": [
    {
     "data": {
      "text/plain": [
       "{'username': 'mlh', 'machines': ['hello', 'world']}"
      ]
     },
     "execution_count": 36,
     "metadata": {},
     "output_type": "execute_result"
    }
   ],
   "source": [
    "y"
   ]
  },
  {
   "cell_type": "code",
   "execution_count": 37,
   "metadata": {},
   "outputs": [
    {
     "data": {
      "text/plain": [
       "{'username': 'admin', 'machines': ['foo', 'baz']}"
      ]
     },
     "execution_count": 37,
     "metadata": {},
     "output_type": "execute_result"
    }
   ],
   "source": [
    "x"
   ]
  },
  {
   "cell_type": "code",
   "execution_count": 39,
   "metadata": {},
   "outputs": [
    {
     "name": "stdout",
     "output_type": "stream",
     "text": [
      "{'names': ['A', 'B', 'C']}\n",
      "{'names': ['A', 'B']}\n",
      "{'names': ['A', 'B', 'C']}\n"
     ]
    }
   ],
   "source": [
    "# therefore we go for deep copy\n",
    "\n",
    "from copy import deepcopy\n",
    "d = {}\n",
    "d['names'] = ['A', 'B']\n",
    "c = d.copy()\n",
    "dc = deepcopy(d)\n",
    "d['names'].append('C')\n",
    "print(c)\n",
    "print(dc)             # deepcopy of d is not affected by modification\n",
    "print(d)              # original dictionary is affected by modification"
   ]
  },
  {
   "cell_type": "markdown",
   "metadata": {},
   "source": [
    "get() method"
   ]
  },
  {
   "cell_type": "code",
   "execution_count": 50,
   "metadata": {},
   "outputs": [
    {
     "data": {
      "text/plain": [
       "{'Math': 4, 'Physics': 3.8, 'Chemistry': 3.6, 'English': 3.7}"
      ]
     },
     "execution_count": 50,
     "metadata": {},
     "output_type": "execute_result"
    }
   ],
   "source": [
    "# variable_name.get(key) - another way to access value\n",
    "grades = { \"Math\"        : 4,\n",
    "           \"Physics\"     : 3.8,\n",
    "           \"Chemistry\"   : 3.6,\n",
    "           \"English\"     : 3.7}\n",
    "grades"
   ]
  },
  {
   "cell_type": "code",
   "execution_count": 4,
   "metadata": {},
   "outputs": [
    {
     "data": {
      "text/plain": [
       "3.7"
      ]
     },
     "execution_count": 4,
     "metadata": {},
     "output_type": "execute_result"
    }
   ],
   "source": [
    "grades.get(\"English\")"
   ]
  },
  {
   "cell_type": "code",
   "execution_count": 44,
   "metadata": {},
   "outputs": [
    {
     "name": "stdout",
     "output_type": "stream",
     "text": [
      "None\n"
     ]
    }
   ],
   "source": [
    "#This returns None if the key does not exist.\n",
    "\n",
    "print(grades.get(\"Sanskrit\"))"
   ]
  },
  {
   "cell_type": "code",
   "execution_count": 45,
   "metadata": {},
   "outputs": [
    {
     "ename": "KeyError",
     "evalue": "'Sanskrit'",
     "output_type": "error",
     "traceback": [
      "\u001b[1;31m---------------------------------------------------------------------------\u001b[0m",
      "\u001b[1;31mKeyError\u001b[0m                                  Traceback (most recent call last)",
      "\u001b[1;32m<ipython-input-45-69716d2624d1>\u001b[0m in \u001b[0;36m<module>\u001b[1;34m\u001b[0m\n\u001b[0;32m      1\u001b[0m \u001b[1;31m# whereas it returns error\u001b[0m\u001b[1;33m\u001b[0m\u001b[1;33m\u001b[0m\u001b[1;33m\u001b[0m\u001b[0m\n\u001b[1;32m----> 2\u001b[1;33m \u001b[0mgrades\u001b[0m\u001b[1;33m[\u001b[0m\u001b[1;34m'Sanskrit'\u001b[0m\u001b[1;33m]\u001b[0m\u001b[1;33m\u001b[0m\u001b[1;33m\u001b[0m\u001b[0m\n\u001b[0m",
      "\u001b[1;31mKeyError\u001b[0m: 'Sanskrit'"
     ]
    }
   ],
   "source": [
    "# whereas it returns error\n",
    "grades['Sanskrit']"
   ]
  },
  {
   "cell_type": "markdown",
   "metadata": {},
   "source": [
    "Iterating over Dictionaries"
   ]
  },
  {
   "cell_type": "code",
   "execution_count": 63,
   "metadata": {},
   "outputs": [
    {
     "data": {
      "text/plain": [
       "{'Math': 4, 'Physics': 3.8, 'Chemistry': 3.6, 'English': 3.7}"
      ]
     },
     "execution_count": 63,
     "metadata": {},
     "output_type": "execute_result"
    }
   ],
   "source": [
    "grades"
   ]
  },
  {
   "cell_type": "code",
   "execution_count": 49,
   "metadata": {},
   "outputs": [
    {
     "name": "stdout",
     "output_type": "stream",
     "text": [
      "Math   4\n",
      "Physics   3.8\n",
      "Chemistry   3.6\n",
      "English   3.7\n"
     ]
    }
   ],
   "source": [
    "for key in grades :\n",
    "    print(key,\" \",grades[key])"
   ]
  },
  {
   "cell_type": "code",
   "execution_count": 54,
   "metadata": {},
   "outputs": [
    {
     "name": "stdout",
     "output_type": "stream",
     "text": [
      "Math   4\n",
      "Physics   3.8\n",
      "Chemistry   3.6\n",
      "English   3.7\n"
     ]
    }
   ],
   "source": [
    "# items() - items function returns a tuple of key and value\n",
    "# dict.items() - //item[0]-key & item[1]-value\n",
    "for item in grades.items() :\n",
    "    print(item[0],\" \",item[1])"
   ]
  },
  {
   "cell_type": "code",
   "execution_count": 52,
   "metadata": {},
   "outputs": [
    {
     "data": {
      "text/plain": [
       "dict_items"
      ]
     },
     "execution_count": 52,
     "metadata": {},
     "output_type": "execute_result"
    }
   ],
   "source": [
    "# items() have a special type \n",
    "type(grades.items())"
   ]
  },
  {
   "cell_type": "code",
   "execution_count": 9,
   "metadata": {},
   "outputs": [
    {
     "name": "stdout",
     "output_type": "stream",
     "text": [
      "dict_keys(['Math', 'Physics', 'Chemistry', 'English'])\n"
     ]
    }
   ],
   "source": [
    "# We can get keys and values as separate objects – not as lists, but as separate objects\n",
    "# dict.keys() - To get only the keys of the dictionary\n",
    "\n",
    "keys = grades.keys()\n",
    "print(keys)"
   ]
  },
  {
   "cell_type": "code",
   "execution_count": 60,
   "metadata": {},
   "outputs": [
    {
     "data": {
      "text/plain": [
       "dict_keys"
      ]
     },
     "execution_count": 60,
     "metadata": {},
     "output_type": "execute_result"
    }
   ],
   "source": [
    "type(keys)"
   ]
  },
  {
   "cell_type": "code",
   "execution_count": 10,
   "metadata": {},
   "outputs": [
    {
     "data": {
      "text/plain": [
       "['Math', 'Physics', 'Chemistry', 'English']"
      ]
     },
     "execution_count": 10,
     "metadata": {},
     "output_type": "execute_result"
    }
   ],
   "source": [
    "# Getting the list of keys - static copy of the keys\n",
    "keys_list = list(keys)\n",
    "keys_list"
   ]
  },
  {
   "cell_type": "code",
   "execution_count": 51,
   "metadata": {},
   "outputs": [
    {
     "data": {
      "text/plain": [
       "dict_keys(['Math', 'Physics', 'Chemistry', 'English', 'Biology'])"
      ]
     },
     "execution_count": 51,
     "metadata": {},
     "output_type": "execute_result"
    }
   ],
   "source": [
    "# Think it like a dynamic pointer to the dictionary keys. \n",
    "# If the dictionary changes, this object changes as well. \n",
    "grades[\"Biology\"] = 3.6\n",
    "keys"
   ]
  },
  {
   "cell_type": "code",
   "execution_count": 12,
   "metadata": {},
   "outputs": [
    {
     "data": {
      "text/plain": [
       "['Math', 'Physics', 'Chemistry', 'English']"
      ]
     },
     "execution_count": 12,
     "metadata": {},
     "output_type": "execute_result"
    }
   ],
   "source": [
    "# But the list of keys doesn't changes\n",
    "keys_list"
   ]
  },
  {
   "cell_type": "code",
   "execution_count": 13,
   "metadata": {},
   "outputs": [
    {
     "data": {
      "text/plain": [
       "['Biology', 'Chemistry', 'English', 'Math', 'Physics']"
      ]
     },
     "execution_count": 13,
     "metadata": {},
     "output_type": "execute_result"
    }
   ],
   "source": [
    "sorted(grades.keys())                # gives sorted keys (returns a list)"
   ]
  },
  {
   "cell_type": "code",
   "execution_count": 16,
   "metadata": {},
   "outputs": [
    {
     "data": {
      "text/plain": [
       "dict_values([4, 3.8, 3.6, 3.7, 3.6])"
      ]
     },
     "execution_count": 16,
     "metadata": {},
     "output_type": "execute_result"
    }
   ],
   "source": [
    "# dict.values() - To get only the values of the dictionary\n",
    "values = grades.values()\n",
    "values"
   ]
  },
  {
   "cell_type": "code",
   "execution_count": 17,
   "metadata": {},
   "outputs": [
    {
     "name": "stdout",
     "output_type": "stream",
     "text": [
      "[3.6, 3.6, 3.7, 3.8, 4]\n"
     ]
    }
   ],
   "source": [
    "print(sorted(grades.values()))                # returns sorted values"
   ]
  },
  {
   "cell_type": "markdown",
   "metadata": {},
   "source": [
    "## Deleting Dictionaries "
   ]
  },
  {
   "cell_type": "code",
   "execution_count": 52,
   "metadata": {},
   "outputs": [
    {
     "data": {
      "text/plain": [
       "{'Math': 4, 'Physics': 3.8, 'Chemistry': 3.6, 'English': 3.7, 'Biology': 3.6}"
      ]
     },
     "execution_count": 52,
     "metadata": {},
     "output_type": "execute_result"
    }
   ],
   "source": [
    "grades"
   ]
  },
  {
   "cell_type": "code",
   "execution_count": 62,
   "metadata": {},
   "outputs": [
    {
     "data": {
      "text/plain": [
       "{'English': 3.2,\n",
       " 'Physics': 95,\n",
       " 'Chemistry': 91,\n",
       " 'Sanskrit': 100,\n",
       " 'Art': 2.9,\n",
       " 'Drama': 3.0}"
      ]
     },
     "execution_count": 62,
     "metadata": {},
     "output_type": "execute_result"
    }
   ],
   "source": [
    "# 1. del dict[key] - Deletes specified key value pair\n",
    "del grades[\"Hindi\"]\n",
    "grades"
   ]
  },
  {
   "cell_type": "code",
   "execution_count": 63,
   "metadata": {},
   "outputs": [
    {
     "data": {
      "text/plain": [
       "{'English': 3.2, 'Physics': 95, 'Sanskrit': 100, 'Art': 2.9, 'Drama': 3.0}"
      ]
     },
     "execution_count": 63,
     "metadata": {},
     "output_type": "execute_result"
    }
   ],
   "source": [
    "# dict.pop(key) - pop the specified key value pair\n",
    "grades.pop(\"Chemistry\")\n",
    "grades"
   ]
  },
  {
   "cell_type": "code",
   "execution_count": 64,
   "metadata": {},
   "outputs": [
    {
     "name": "stdout",
     "output_type": "stream",
     "text": [
      "{'English': 3.2, 'Physics': 95, 'Sanskrit': 100, 'Art': 2.9}\n"
     ]
    }
   ],
   "source": [
    "# popitem similar to list.pop()\n",
    "grades.popitem()       # no need to supply arguement\n",
    "print(grades)"
   ]
  },
  {
   "cell_type": "code",
   "execution_count": 33,
   "metadata": {},
   "outputs": [
    {
     "data": {
      "text/plain": [
       "{}"
      ]
     },
     "execution_count": 33,
     "metadata": {},
     "output_type": "execute_result"
    }
   ],
   "source": [
    "# dict.clear() - Deletes the content of the dictionary\n",
    "grades.clear()\n",
    "grades                  # Empty dictionary"
   ]
  },
  {
   "cell_type": "code",
   "execution_count": 40,
   "metadata": {},
   "outputs": [
    {
     "data": {
      "text/plain": [
       "{'name': None, 'age': None}"
      ]
     },
     "execution_count": 40,
     "metadata": {},
     "output_type": "execute_result"
    }
   ],
   "source": [
    "#The fromkeys method creates a new dictionary with the given keys\n",
    "{}.fromkeys(['name', 'age'])"
   ]
  },
  {
   "cell_type": "code",
   "execution_count": 41,
   "metadata": {},
   "outputs": [
    {
     "data": {
      "text/plain": [
       "{'name': None, 'age': None}"
      ]
     },
     "execution_count": 41,
     "metadata": {},
     "output_type": "execute_result"
    }
   ],
   "source": [
    "# Redundant way: Good way is\n",
    "dict.fromkeys(['name', 'age'])"
   ]
  },
  {
   "cell_type": "code",
   "execution_count": 48,
   "metadata": {},
   "outputs": [
    {
     "data": {
      "text/plain": [
       "{'name': 'unknown', 'age': 'unknown'}"
      ]
     },
     "execution_count": 48,
     "metadata": {},
     "output_type": "execute_result"
    }
   ],
   "source": [
    "# Don't want none, supply default values\n",
    "a = dict.fromkeys(['name', 'age'],'unknown')\n",
    "a"
   ]
  },
  {
   "cell_type": "code",
   "execution_count": 49,
   "metadata": {},
   "outputs": [
    {
     "name": "stdout",
     "output_type": "stream",
     "text": [
      "unknown\n"
     ]
    }
   ],
   "source": [
    "print(a['name'])"
   ]
  },
  {
   "cell_type": "code",
   "execution_count": 65,
   "metadata": {},
   "outputs": [
    {
     "data": {
      "text/plain": [
       "{'English': 3.2, 'Physics': 95, 'Sanskrit': 100, 'Art': 2.9}"
      ]
     },
     "execution_count": 65,
     "metadata": {},
     "output_type": "execute_result"
    }
   ],
   "source": [
    "grades"
   ]
  },
  {
   "cell_type": "code",
   "execution_count": 68,
   "metadata": {},
   "outputs": [
    {
     "data": {
      "text/plain": [
       "'Physics marks is 95.'"
      ]
     },
     "execution_count": 68,
     "metadata": {},
     "output_type": "execute_result"
    }
   ],
   "source": [
    "#String formatting with Dictionaries\n",
    "\"Physics marks is {Physics}.\".format_map(grades)"
   ]
  },
  {
   "cell_type": "markdown",
   "metadata": {},
   "source": [
    "## Problems "
   ]
  },
  {
   "cell_type": "code",
   "execution_count": 69,
   "metadata": {},
   "outputs": [
    {
     "name": "stdout",
     "output_type": "stream",
     "text": [
      "Enter a sentence :Hi there! How are you\n",
      "{'i': 1, 'e': 3, 'o': 2, 'a': 1, 'u': 1}\n"
     ]
    }
   ],
   "source": [
    "# count the no of occurences of vowels in a sentence\n",
    "str = input(\"Enter a sentence :\")\n",
    "vowels = ['a', 'e', 'i', 'o', 'u']\n",
    "count = {}\n",
    "for i in str :\n",
    "    if i in vowels :\n",
    "        if count.get(i) == None :\n",
    "            count[i] = 1\n",
    "        else :\n",
    "            count[i] = count[i] + 1\n",
    "print(count)"
   ]
  },
  {
   "cell_type": "code",
   "execution_count": 70,
   "metadata": {},
   "outputs": [
    {
     "name": "stdout",
     "output_type": "stream",
     "text": [
      "How are you\n",
      "{'o': ['How', 'you'], 'a': ['are'], 'e': ['are'], 'u': ['you']}\n"
     ]
    }
   ],
   "source": [
    "# From a sentence find out words that contain vowels and list them against each vowel\n",
    "\n",
    "sentence = input()\n",
    "vowels = ['a', 'e', 'i', 'o', 'u']\n",
    "vowel_count = {}\n",
    "for word in sentence.split() :\n",
    "    for letter in list(word) :\n",
    "        if letter in vowels :\n",
    "            if vowel_count.get(letter) == None :\n",
    "                vowel_count[letter] = [word]\n",
    "            else :\n",
    "                vowel_count[letter].append(word)\n",
    "print(vowel_count)"
   ]
  },
  {
   "cell_type": "code",
   "execution_count": 71,
   "metadata": {},
   "outputs": [
    {
     "name": "stdout",
     "output_type": "stream",
     "text": [
      "Name: Beth\n",
      "Phone number (p) or address (a)? p\n",
      "Beth's phone number is 9102.\n"
     ]
    }
   ],
   "source": [
    "# A simple database\n",
    "# A dictionary with person names as keys. Each person is represented as\n",
    "# another dictionary with the keys 'phone' and 'addr' referring to their phone\n",
    "# number and address, respectively.\n",
    "people = {\n",
    "'Alice': {\n",
    "'phone': '2341',\n",
    "'addr': 'Foo drive 23'\n",
    "},\n",
    "'Beth': {\n",
    "'phone': '9102',\n",
    "'addr': 'Bar street 42'\n",
    "},\n",
    "'Cecil': {\n",
    "'phone': '3158',\n",
    "'addr': 'Baz avenue 90'\n",
    "}\n",
    "}\n",
    "# Descriptive labels for the phone number and address. These will be used\n",
    "# when printing the output.\n",
    "labels = {\n",
    "'phone': 'phone number',\n",
    "'addr': 'address'\n",
    "}\n",
    "name = input('Name: ')\n",
    "# Are we looking for a phone number or an address?\n",
    "request = input('Phone number (p) or address (a)? ')\n",
    "# Use the correct key:\n",
    "if request == 'p': key = 'phone'\n",
    "if request == 'a': key = 'addr'\n",
    "# Only try to print information if the name is a valid key in\n",
    "# our dictionary:\n",
    "if name in people: print(\"{}'s {} is {}.\".format(name, labels[key], people[name][key]))"
   ]
  },
  {
   "cell_type": "code",
   "execution_count": 74,
   "metadata": {},
   "outputs": [
    {
     "name": "stdout",
     "output_type": "stream",
     "text": [
      "Name: Beth\n",
      "Phone number (p) or address (a)? a\n",
      "Beth's address is Bar street 42.\n"
     ]
    }
   ],
   "source": [
    "# A simple database using get()\n",
    "people = {\n",
    "'Alice': {\n",
    "'phone': '2341',\n",
    "'addr': 'Foo drive 23'\n",
    "},\n",
    "'Beth': {\n",
    "'phone': '9102',\n",
    "'addr': 'Bar street 42'\n",
    "},\n",
    "'Cecil': {\n",
    "'phone': '3158',\n",
    "'addr': 'Baz avenue 90'\n",
    "}\n",
    "}\n",
    "labels = {\n",
    "'phone': 'phone number',\n",
    "'addr': 'address'\n",
    "}\n",
    "name = input('Name: ')\n",
    "# Are we looking for a phone number or an address?\n",
    "request = input('Phone number (p) or address (a)? ')\n",
    "# Use the correct key:\n",
    "key = request # In case the request is neither 'p' nor 'a'\n",
    "if request == 'p': key = 'phone'\n",
    "if request == 'a': key = 'addr'\n",
    "# Use get to provide default values:\n",
    "person = people.get(name, {})\n",
    "label = labels.get(key, key)\n",
    "result = person.get(key, 'not available')\n",
    "print(\"{}'s {} is {}.\".format(name, label, result))"
   ]
  },
  {
   "cell_type": "code",
   "execution_count": 1,
   "metadata": {},
   "outputs": [
    {
     "name": "stdout",
     "output_type": "stream",
     "text": [
      "Hello there ! How are you ?\n",
      "Hello ---- 5\n",
      "there ---- 5\n",
      "How ---- 3\n",
      "are ---- 3\n",
      "you ---- 3\n",
      "! ---- 1\n",
      "? ---- 1\n"
     ]
    }
   ],
   "source": [
    "\"\"\"Take a string from the user as input and split it up into words. Sort all the words and \n",
    "discard all duplicate words. Once you have the unique list of words, count the length of each \n",
    "of the words and list them in decreasing order of length.\"\"\"\n",
    "\n",
    "string = input()\n",
    "l = string.split()\n",
    "length = {}\n",
    "sort_l = []\n",
    "for word in l :\n",
    "    if length.get(word) == None :\n",
    "        length[word] = len(word)\n",
    "for key in length.keys() :\n",
    "    sort_l.append([key,length[key]])\n",
    "\n",
    "def sort_criteria(ls) :\n",
    "    return ls[1]\n",
    "sort_l.sort(key = sort_criteria, reverse = True)\n",
    "for i in sort_l :\n",
    "    print (i[0],\"----\",i[1])"
   ]
  },
  {
   "cell_type": "code",
   "execution_count": 8,
   "metadata": {},
   "outputs": [
    {
     "name": "stdout",
     "output_type": "stream",
     "text": [
      "Nory was a Catholic because her mother was a Catholic , and Nory's mother was a Catholic because her father was a Catholic , and her father was a Catholic because his mother was a Catholic\n",
      "Occurence of each word in sentence:\n",
      " \n",
      "Nory -- 1\n",
      "was -- 6\n",
      "a -- 6\n",
      "Catholic -- 6\n",
      "because -- 3\n",
      "her -- 3\n",
      "mother -- 3\n",
      ", -- 2\n",
      "and -- 2\n",
      "Nory's -- 1\n",
      "father -- 2\n",
      "his -- 1\n"
     ]
    }
   ],
   "source": [
    "string = input()\n",
    "l = string.split()\n",
    "occurences = {}\n",
    "for word in l :\n",
    "    if occurences.get(word) == None :\n",
    "        occurences[word] = 1\n",
    "    else:\n",
    "        occurences[word] += 1\n",
    "print(\"Occurence of each word in sentence:\\n \")\n",
    "for item in occurences.items():\n",
    "    print(item[0],'--',item[1])"
   ]
  }
 ],
 "metadata": {
  "kernelspec": {
   "display_name": "Python 3",
   "language": "python",
   "name": "python3"
  },
  "language_info": {
   "codemirror_mode": {
    "name": "ipython",
    "version": 3
   },
   "file_extension": ".py",
   "mimetype": "text/x-python",
   "name": "python",
   "nbconvert_exporter": "python",
   "pygments_lexer": "ipython3",
   "version": "3.8.3"
  }
 },
 "nbformat": 4,
 "nbformat_minor": 4
}
