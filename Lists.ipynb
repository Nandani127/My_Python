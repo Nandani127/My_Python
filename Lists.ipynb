{
 "cells": [
  {
   "cell_type": "markdown",
   "metadata": {},
   "source": [
    "# Lists"
   ]
  },
  {
   "cell_type": "code",
   "execution_count": 1,
   "metadata": {},
   "outputs": [
    {
     "name": "stdout",
     "output_type": "stream",
     "text": [
      "[2, 3, 5, 7]\n",
      "[1, 4, 6, 8]\n"
     ]
    }
   ],
   "source": [
    "#list - collection of same/different elements\n",
    "list1 = [2,3,5,7]\n",
    "list2 = [1,4,6,8]\n",
    "print(list1)\n",
    "print(list2)"
   ]
  },
  {
   "cell_type": "code",
   "execution_count": 2,
   "metadata": {},
   "outputs": [
    {
     "name": "stdout",
     "output_type": "stream",
     "text": [
      "[[2, 3, 5, 7], [1, 4, 6, 8]]\n"
     ]
    }
   ],
   "source": [
    "#list of lists\n",
    "list = [list1, list2]\n",
    "print(list)"
   ]
  },
  {
   "cell_type": "code",
   "execution_count": 3,
   "metadata": {},
   "outputs": [
    {
     "data": {
      "text/plain": [
       "3"
      ]
     },
     "execution_count": 3,
     "metadata": {},
     "output_type": "execute_result"
    }
   ],
   "source": [
    "list[0][1]"
   ]
  },
  {
   "cell_type": "markdown",
   "metadata": {},
   "source": [
    "List Operations"
   ]
  },
  {
   "cell_type": "code",
   "execution_count": 12,
   "metadata": {},
   "outputs": [
    {
     "data": {
      "text/plain": [
       "3"
      ]
     },
     "execution_count": 12,
     "metadata": {},
     "output_type": "execute_result"
    }
   ],
   "source": [
    "# 1. Indexing (using [])\n",
    "list1[1]"
   ]
  },
  {
   "cell_type": "code",
   "execution_count": 3,
   "metadata": {},
   "outputs": [
    {
     "data": {
      "text/plain": [
       "5"
      ]
     },
     "execution_count": 3,
     "metadata": {},
     "output_type": "execute_result"
    }
   ],
   "source": [
    "list1[-2]        #Negative indexing (from end)"
   ]
  },
  {
   "cell_type": "code",
   "execution_count": 4,
   "metadata": {},
   "outputs": [
    {
     "data": {
      "text/plain": [
       "[3, 5]"
      ]
     },
     "execution_count": 4,
     "metadata": {},
     "output_type": "execute_result"
    }
   ],
   "source": [
    "# 2. Slicing  (using(start:end))  does not include end\n",
    "list1[1:3]          #don't include index 3"
   ]
  },
  {
   "cell_type": "code",
   "execution_count": 7,
   "metadata": {},
   "outputs": [
    {
     "data": {
      "text/plain": [
       "[3, 5]"
      ]
     },
     "execution_count": 7,
     "metadata": {},
     "output_type": "execute_result"
    }
   ],
   "source": [
    "#slicing using negative indices\n",
    "list1[-3:-1]"
   ]
  },
  {
   "cell_type": "code",
   "execution_count": 9,
   "metadata": {},
   "outputs": [
    {
     "data": {
      "text/plain": [
       "[]"
      ]
     },
     "execution_count": 9,
     "metadata": {},
     "output_type": "execute_result"
    }
   ],
   "source": [
    "list1[-1:-3]"
   ]
  },
  {
   "cell_type": "code",
   "execution_count": 10,
   "metadata": {},
   "outputs": [
    {
     "data": {
      "text/plain": [
       "[2, 3, 5, 7]"
      ]
     },
     "execution_count": 10,
     "metadata": {},
     "output_type": "execute_result"
    }
   ],
   "source": [
    "list1[:]           #gives whole list"
   ]
  },
  {
   "cell_type": "code",
   "execution_count": 11,
   "metadata": {},
   "outputs": [
    {
     "data": {
      "text/plain": [
       "[2, 3, 5]"
      ]
     },
     "execution_count": 11,
     "metadata": {},
     "output_type": "execute_result"
    }
   ],
   "source": [
    "list1[:3]        # whole list from start index upto 3"
   ]
  },
  {
   "cell_type": "code",
   "execution_count": 13,
   "metadata": {},
   "outputs": [
    {
     "data": {
      "text/plain": [
       "[3, 5, 7]"
      ]
     },
     "execution_count": 13,
     "metadata": {},
     "output_type": "execute_result"
    }
   ],
   "source": [
    "list1[1:]        # whole list from 1 till end"
   ]
  },
  {
   "cell_type": "code",
   "execution_count": 14,
   "metadata": {},
   "outputs": [
    {
     "data": {
      "text/plain": [
       "[2, 5]"
      ]
     },
     "execution_count": 14,
     "metadata": {},
     "output_type": "execute_result"
    }
   ],
   "source": [
    "#slicing in steps\n",
    "list1[0:4:2]           #from 0 to 3 in steps of 2"
   ]
  },
  {
   "cell_type": "code",
   "execution_count": 16,
   "metadata": {},
   "outputs": [
    {
     "data": {
      "text/plain": [
       "[7, 5, 3, 2]"
      ]
     },
     "execution_count": 16,
     "metadata": {},
     "output_type": "execute_result"
    }
   ],
   "source": [
    "#reverse slicing\n",
    "list1[::-1]"
   ]
  },
  {
   "cell_type": "code",
   "execution_count": 56,
   "metadata": {
    "scrolled": true
   },
   "outputs": [
    {
     "name": "stdout",
     "output_type": "stream",
     "text": [
      "[8, 7, 6, 5, 4]\n",
      "[10, 8, 6, 4, 2]\n",
      "[]\n",
      "[10, 8, 6, 4, 2, 0]\n",
      "[5, 3, 1]\n",
      "[10, 8, 6]\n"
     ]
    }
   ],
   "source": [
    "numbers = [0,1,2,3,4,5,6,7,8,9,10]\n",
    "print(numbers[8:3:-1])            # index 8 to 3 in steps of -1\n",
    "print(numbers[10:0:-2])           # 10 to 0 in steps of -2\n",
    "print(numbers[0:10:-2])           # 0 to 10 in steps of -2 (empty list)\n",
    "print(numbers[::-2])              # 10 to 0 in steps of -2\n",
    "print(numbers[5::-2])             # 5 to 0 in steps of -2\n",
    "print(numbers[:5:-2])             # 10 to 5 in steps of -2"
   ]
  },
  {
   "cell_type": "code",
   "execution_count": 1,
   "metadata": {},
   "outputs": [
    {
     "name": "stdout",
     "output_type": "stream",
     "text": [
      "aNandaniPaliwal\n",
      "Nandani\n"
     ]
    }
   ],
   "source": [
    "#Slicing from input string\n",
    "line = input()[1:8]\n",
    "print(line)"
   ]
  },
  {
   "cell_type": "code",
   "execution_count": 18,
   "metadata": {},
   "outputs": [
    {
     "name": "stdout",
     "output_type": "stream",
     "text": [
      "11\n",
      "10\n",
      "0\n"
     ]
    }
   ],
   "source": [
    "# 3. Length, Minimum and Maximum\n",
    "print(len(numbers))          # length of list\n",
    "print(max(numbers))          # maximum element in list\n",
    "print(min(numbers))          # minimum element in list"
   ]
  },
  {
   "cell_type": "code",
   "execution_count": 57,
   "metadata": {},
   "outputs": [
    {
     "name": "stdout",
     "output_type": "stream",
     "text": [
      "[0, 1, 2, 3, 4, 5, 6, 7, 8, 9, 10]\n",
      "[0, 1, 2, 3, 16, 5, 6, 7, 8, 9, 10]\n"
     ]
    }
   ],
   "source": [
    "# 4. Updating lists (Lists are mutable i.e. can change its items)\n",
    "print(numbers)\n",
    "numbers[4] = 16         # updates element at index 4 with value 16\n",
    "print(numbers)"
   ]
  },
  {
   "cell_type": "code",
   "execution_count": 58,
   "metadata": {},
   "outputs": [
    {
     "name": "stdout",
     "output_type": "stream",
     "text": [
      "[0, 1, 2, 3, 16, 11, 23, 51, 9, 9, 10]\n"
     ]
    }
   ],
   "source": [
    "# assigning to slices\n",
    "numbers[5:9] = [11, 23, 51, 9]\n",
    "print(numbers)"
   ]
  },
  {
   "cell_type": "code",
   "execution_count": 59,
   "metadata": {},
   "outputs": [
    {
     "name": "stdout",
     "output_type": "stream",
     "text": [
      "[0, 1, 2, 3, 16, 11, 51, 9, 9, 10]\n"
     ]
    }
   ],
   "source": [
    "# 5. Deleting element in list (using del list[index])\n",
    "del numbers[6]             #deletes element at index 6\n",
    "print(numbers)"
   ]
  },
  {
   "cell_type": "code",
   "execution_count": 60,
   "metadata": {},
   "outputs": [
    {
     "name": "stdout",
     "output_type": "stream",
     "text": [
      "[0, 1, 2, 3, 16, 11, 51, 9, 9]\n"
     ]
    }
   ],
   "source": [
    "# list.pop() - deletes any element of list (removes via index)\n",
    "\n",
    "numbers.pop()                        # deletes last element\n",
    "print(numbers)"
   ]
  },
  {
   "cell_type": "code",
   "execution_count": 61,
   "metadata": {},
   "outputs": [
    {
     "name": "stdout",
     "output_type": "stream",
     "text": [
      "[0, 1, 2, 3, 11, 51, 9, 9]\n"
     ]
    }
   ],
   "source": [
    "# list.pop(index)\n",
    "numbers.pop(4)                        # deletes element at index 4\n",
    "print(numbers)"
   ]
  },
  {
   "cell_type": "code",
   "execution_count": 63,
   "metadata": {},
   "outputs": [
    {
     "name": "stdout",
     "output_type": "stream",
     "text": [
      "[0, 1, 2, 3, 11, 51, 9]\n"
     ]
    }
   ],
   "source": [
    "# list.remove(value) - deletes first occurence of any value  (removes via value)\n",
    "\n",
    "numbers.remove(9)                # deletes first occurence of value 4\n",
    "print(numbers)"
   ]
  },
  {
   "cell_type": "code",
   "execution_count": 64,
   "metadata": {},
   "outputs": [
    {
     "ename": "NameError",
     "evalue": "name 'numbers' is not defined",
     "output_type": "error",
     "traceback": [
      "\u001b[1;31m---------------------------------------------------------------------------\u001b[0m",
      "\u001b[1;31mNameError\u001b[0m                                 Traceback (most recent call last)",
      "\u001b[1;32m<ipython-input-64-2696f4306ec8>\u001b[0m in \u001b[0;36m<module>\u001b[1;34m\u001b[0m\n\u001b[0;32m      1\u001b[0m \u001b[1;31m# deleting whole list  (deletes list from the memory)\u001b[0m\u001b[1;33m\u001b[0m\u001b[1;33m\u001b[0m\u001b[1;33m\u001b[0m\u001b[0m\n\u001b[0;32m      2\u001b[0m \u001b[1;32mdel\u001b[0m\u001b[1;33m(\u001b[0m\u001b[0mnumbers\u001b[0m\u001b[1;33m)\u001b[0m\u001b[1;33m\u001b[0m\u001b[1;33m\u001b[0m\u001b[0m\n\u001b[1;32m----> 3\u001b[1;33m \u001b[0mnumbers\u001b[0m\u001b[1;33m\u001b[0m\u001b[1;33m\u001b[0m\u001b[0m\n\u001b[0m",
      "\u001b[1;31mNameError\u001b[0m: name 'numbers' is not defined"
     ]
    }
   ],
   "source": [
    "# deleting whole list  (deletes list from the memory)\n",
    "del(numbers)\n",
    "numbers"
   ]
  },
  {
   "cell_type": "code",
   "execution_count": 32,
   "metadata": {},
   "outputs": [
    {
     "name": "stdout",
     "output_type": "stream",
     "text": [
      "[2, 3, 5, 7]\n"
     ]
    },
    {
     "ename": "TypeError",
     "evalue": "'type' object does not support item assignment",
     "output_type": "error",
     "traceback": [
      "\u001b[1;31m---------------------------------------------------------------------------\u001b[0m",
      "\u001b[1;31mTypeError\u001b[0m                                 Traceback (most recent call last)",
      "\u001b[1;32m<ipython-input-32-30457fbe5d4b>\u001b[0m in \u001b[0;36m<module>\u001b[1;34m\u001b[0m\n\u001b[0;32m      1\u001b[0m \u001b[0mprint\u001b[0m\u001b[1;33m(\u001b[0m\u001b[0mlist1\u001b[0m\u001b[1;33m)\u001b[0m\u001b[1;33m\u001b[0m\u001b[1;33m\u001b[0m\u001b[0m\n\u001b[1;32m----> 2\u001b[1;33m \u001b[0mlist\u001b[0m\u001b[1;33m[\u001b[0m\u001b[1;36m5\u001b[0m\u001b[1;33m]\u001b[0m \u001b[1;33m=\u001b[0m \u001b[1;36m2\u001b[0m          \u001b[1;31m#error - index out of range\u001b[0m\u001b[1;33m\u001b[0m\u001b[1;33m\u001b[0m\u001b[0m\n\u001b[0m",
      "\u001b[1;31mTypeError\u001b[0m: 'type' object does not support item assignment"
     ]
    }
   ],
   "source": [
    "print(list1)\n",
    "list[5] = 2          #error - index out of range"
   ]
  },
  {
   "cell_type": "code",
   "execution_count": 33,
   "metadata": {},
   "outputs": [
    {
     "data": {
      "text/plain": [
       "[]"
      ]
     },
     "execution_count": 33,
     "metadata": {},
     "output_type": "execute_result"
    }
   ],
   "source": [
    "# 6. Clearing the whole list  (but list remains created)\n",
    "list1.clear()\n",
    "list1          #empty"
   ]
  },
  {
   "cell_type": "code",
   "execution_count": 36,
   "metadata": {},
   "outputs": [
    {
     "data": {
      "text/plain": [
       "[1, 3, 6, 8]"
      ]
     },
     "execution_count": 36,
     "metadata": {},
     "output_type": "execute_result"
    }
   ],
   "source": [
    "# 7. list.append(value) - Appends a value at the end of list\n",
    "# takes a value as argument and appends to list in place\n",
    "\n",
    "a = [1, 3, 6]\n",
    "a.append(8)\n",
    "a"
   ]
  },
  {
   "cell_type": "code",
   "execution_count": 67,
   "metadata": {},
   "outputs": [
    {
     "name": "stdout",
     "output_type": "stream",
     "text": [
      "list a [1, 2, 3, 4]\n",
      "List b [5, 6, 7, 8]\n",
      "List a after extending [1, 2, 3, 4, 5, 6, 7, 8]\n",
      "List b [5, 6, 7, 8]\n"
     ]
    }
   ],
   "source": [
    "# 8. list1.extend(list2) - merges a list at end of another (extends a list)\n",
    "# takes list as argument and extends the list in place\n",
    "\n",
    "a = [1,2,3,4]\n",
    "b = [5,6,7,8]\n",
    "print(\"list a\", a)\n",
    "print(\"List b\", b)\n",
    "a.extend(b)\n",
    "print(\"List a after extending\", a)\n",
    "print(\"List b\", b)"
   ]
  },
  {
   "cell_type": "code",
   "execution_count": 17,
   "metadata": {},
   "outputs": [
    {
     "name": "stdout",
     "output_type": "stream",
     "text": [
      "[1, 2, 3, 45, 9, 3, 10]\n"
     ]
    }
   ],
   "source": [
    "#another way to extension\n",
    "a = [1,2,3,45]\n",
    "b = [9,3,10]\n",
    "a[len(a):] = b\n",
    "print(a)"
   ]
  },
  {
   "cell_type": "code",
   "execution_count": 68,
   "metadata": {},
   "outputs": [
    {
     "data": {
      "text/plain": [
       "[1, 2, 8, 9, 10]"
      ]
     },
     "execution_count": 68,
     "metadata": {},
     "output_type": "execute_result"
    }
   ],
   "source": [
    "# extending using []      ([] - slicing operator)\n",
    "a[2:] = [8,9,10]            #extends list\n",
    "a"
   ]
  },
  {
   "cell_type": "code",
   "execution_count": 69,
   "metadata": {},
   "outputs": [
    {
     "data": {
      "text/plain": [
       "[5, 9, 10]"
      ]
     },
     "execution_count": 69,
     "metadata": {},
     "output_type": "execute_result"
    }
   ],
   "source": [
    "# shrinks list using []\n",
    "a[:3] = [5]\n",
    "a"
   ]
  },
  {
   "cell_type": "code",
   "execution_count": 70,
   "metadata": {},
   "outputs": [
    {
     "name": "stdout",
     "output_type": "stream",
     "text": [
      "[5, 9, 10]\n",
      "[5, 6, 7, 8]\n",
      "[5, 9, 10, 5, 6, 7, 8]\n"
     ]
    }
   ],
   "source": [
    "# 9. Concatenating list (using +)\n",
    "print(a)\n",
    "print(b)\n",
    "c = a+b\n",
    "print(c)"
   ]
  },
  {
   "cell_type": "code",
   "execution_count": 47,
   "metadata": {},
   "outputs": [
    {
     "ename": "TypeError",
     "evalue": "unsupported operand type(s) for -: 'list' and 'list'",
     "output_type": "error",
     "traceback": [
      "\u001b[1;31m---------------------------------------------------------------------------\u001b[0m",
      "\u001b[1;31mTypeError\u001b[0m                                 Traceback (most recent call last)",
      "\u001b[1;32m<ipython-input-47-8dcdcde16cc9>\u001b[0m in \u001b[0;36m<module>\u001b[1;34m\u001b[0m\n\u001b[1;32m----> 1\u001b[1;33m \u001b[0ma\u001b[0m \u001b[1;33m-\u001b[0m \u001b[0mb\u001b[0m                            \u001b[1;31m# - , * , / not supported\u001b[0m\u001b[1;33m\u001b[0m\u001b[1;33m\u001b[0m\u001b[0m\n\u001b[0m",
      "\u001b[1;31mTypeError\u001b[0m: unsupported operand type(s) for -: 'list' and 'list'"
     ]
    }
   ],
   "source": [
    "a - b                            # - , * , / not supported"
   ]
  },
  {
   "cell_type": "code",
   "execution_count": 71,
   "metadata": {},
   "outputs": [
    {
     "name": "stdout",
     "output_type": "stream",
     "text": [
      "[5, 9, 10]\n",
      "New a [5, 9, 10, 11]\n"
     ]
    }
   ],
   "source": [
    "# 10. list.insert(index,element) - insert elements in list (in place)\n",
    "\n",
    "print(a)\n",
    "a.insert(3,11)                  # insert(index,element) - insert 11 at index 3 \n",
    "print(\"New a\", a)"
   ]
  },
  {
   "cell_type": "code",
   "execution_count": 31,
   "metadata": {},
   "outputs": [
    {
     "name": "stdout",
     "output_type": "stream",
     "text": [
      "[1, 2, 3, 5]\n",
      "Sorted c [1, 2, 3, 5]\n",
      "None\n"
     ]
    }
   ],
   "source": [
    "# 11. list.sort() - sorts the list in place \n",
    "# by default in ascending order\n",
    "print(c)\n",
    "c.sort()\n",
    "print(\"Sorted c\", c)\n",
    "b = c.sort()             # if we try to assign result to variable prints 'None' as it returns nothing\n",
    "print(b)"
   ]
  },
  {
   "cell_type": "code",
   "execution_count": 30,
   "metadata": {},
   "outputs": [
    {
     "name": "stdout",
     "output_type": "stream",
     "text": [
      "[0, 3, 6, 8]\n"
     ]
    }
   ],
   "source": [
    "# new_list =sorted(list)\n",
    "a = [6,0,3,8]\n",
    "b = sorted(a)              # returns sorted list and assign it to b\n",
    "print(b)"
   ]
  },
  {
   "cell_type": "code",
   "execution_count": 32,
   "metadata": {},
   "outputs": [
    {
     "data": {
      "text/plain": [
       "['P', 'h', 'n', 'o', 't', 'y']"
      ]
     },
     "execution_count": 32,
     "metadata": {},
     "output_type": "execute_result"
    }
   ],
   "source": [
    "# characters are sorted in lexicographic order    (in ascending order of ascii value)\n",
    "sorted(\"Python\")"
   ]
  },
  {
   "cell_type": "code",
   "execution_count": 33,
   "metadata": {},
   "outputs": [
    {
     "data": {
      "text/plain": [
       "[9, 7, 6, 4, 2, 1]"
      ]
     },
     "execution_count": 33,
     "metadata": {},
     "output_type": "execute_result"
    }
   ],
   "source": [
    "# if we want to sort in descending order -- ?\n",
    "\n",
    "x = [4, 6, 2, 1, 7, 9]\n",
    "x.sort(reverse=True)               # by default reverse is False which means ascending order\n",
    "x"
   ]
  },
  {
   "cell_type": "code",
   "execution_count": 34,
   "metadata": {},
   "outputs": [
    {
     "data": {
      "text/plain": [
       "['add', 'alone', 'amazed', 'advance', 'aggregate']"
      ]
     },
     "execution_count": 34,
     "metadata": {},
     "output_type": "execute_result"
    }
   ],
   "source": [
    "#Advance Sorting\n",
    "# Two parameters \"key\" and \"reverse\"\n",
    "x = ['amazed', 'aggregate', 'alone', 'add', 'advance']\n",
    "x.sort(key=len)                   # sorts according to length of element\n",
    "x"
   ]
  },
  {
   "cell_type": "code",
   "execution_count": 24,
   "metadata": {},
   "outputs": [
    {
     "data": {
      "text/plain": [
       "[5, 4, 3, 2, 1]"
      ]
     },
     "execution_count": 24,
     "metadata": {},
     "output_type": "execute_result"
    }
   ],
   "source": [
    "# 12. list.reverse() - Reverses the list in place\n",
    "\n",
    "listt = [1, 2, 3, 4, 5]\n",
    "listt.reverse()               # does not return anything\n",
    "listt"
   ]
  },
  {
   "cell_type": "code",
   "execution_count": 29,
   "metadata": {
    "scrolled": true
   },
   "outputs": [
    {
     "name": "stdout",
     "output_type": "stream",
     "text": [
      "2051117236352\n",
      "[1, 2, 3, 4, 5]\n",
      "2051117267520\n"
     ]
    }
   ],
   "source": [
    "# but if we want to iterate over list (use new_list = reversed(list))\n",
    "print(id(listt))\n",
    "a = list(reversed(listt))     #returns reversed list and assign it to a         \n",
    "print(a)\n",
    "print(id(a))"
   ]
  },
  {
   "cell_type": "code",
   "execution_count": 2,
   "metadata": {},
   "outputs": [
    {
     "data": {
      "text/plain": [
       "[42, 42, 42, 42, 42, 42, 42, 42, 42, 42]"
      ]
     },
     "execution_count": 2,
     "metadata": {},
     "output_type": "execute_result"
    }
   ],
   "source": [
    "# 13. Multiplicaton of list\n",
    "[42] * 10"
   ]
  },
  {
   "cell_type": "code",
   "execution_count": 3,
   "metadata": {},
   "outputs": [
    {
     "name": "stdout",
     "output_type": "stream",
     "text": [
      "[None, None, None, None, None, None, None]\n"
     ]
    }
   ],
   "source": [
    "a = [None]\n",
    "print(a*7)"
   ]
  },
  {
   "cell_type": "code",
   "execution_count": 4,
   "metadata": {},
   "outputs": [
    {
     "name": "stdout",
     "output_type": "stream",
     "text": [
      "[1, 2, 3, 45]\n",
      "[1, 2, 3, 45]\n"
     ]
    }
   ],
   "source": [
    "# 14. Copying the list\n",
    "\n",
    "# using = operator\n",
    "a = [1,2,3,45]     \n",
    "b = a                   # makes b point to same list as a\n",
    "print(a)\n",
    "print(b)"
   ]
  },
  {
   "cell_type": "code",
   "execution_count": 5,
   "metadata": {},
   "outputs": [
    {
     "name": "stdout",
     "output_type": "stream",
     "text": [
      "2051116609664\n",
      "2051116609664\n"
     ]
    }
   ],
   "source": [
    "print(id(a))            #both are at same addresses\n",
    "print(id(b))"
   ]
  },
  {
   "cell_type": "code",
   "execution_count": 7,
   "metadata": {
    "scrolled": true
   },
   "outputs": [
    {
     "name": "stdout",
     "output_type": "stream",
     "text": [
      "[1, 2, 3, 5]\n",
      "[1, 2, 3, 5]\n"
     ]
    }
   ],
   "source": [
    "b[3] = 5            # any changes to a/b also reflects in b/a\n",
    "print(a)\n",
    "print(b)"
   ]
  },
  {
   "cell_type": "code",
   "execution_count": 8,
   "metadata": {},
   "outputs": [
    {
     "name": "stdout",
     "output_type": "stream",
     "text": [
      "[1, 2, 3, 5]\n",
      "[1, 2, 3, 5]\n"
     ]
    }
   ],
   "source": [
    "# separate copy - using new_list = list.copy() function\n",
    "\n",
    "c = a.copy()             # creates a new list\n",
    "print(a)\n",
    "print(c)"
   ]
  },
  {
   "cell_type": "code",
   "execution_count": 9,
   "metadata": {},
   "outputs": [
    {
     "name": "stdout",
     "output_type": "stream",
     "text": [
      "2051116609664\n",
      "2051116612480\n"
     ]
    }
   ],
   "source": [
    "print(id(a))              # both are at different addresses\n",
    "print(id(c))"
   ]
  },
  {
   "cell_type": "code",
   "execution_count": 10,
   "metadata": {},
   "outputs": [
    {
     "name": "stdout",
     "output_type": "stream",
     "text": [
      "[1, 2, 11, 5]\n",
      "[1, 2, 3, 5]\n"
     ]
    }
   ],
   "source": [
    "a[2] = 11                # any changes to a/c doesn't reflect in c/a\n",
    "print(a)\n",
    "print(c)"
   ]
  },
  {
   "cell_type": "code",
   "execution_count": 11,
   "metadata": {},
   "outputs": [
    {
     "name": "stdout",
     "output_type": "stream",
     "text": [
      "[1, 2, 11, 5]\n",
      "[1, 2, 11, 5]\n"
     ]
    }
   ],
   "source": [
    "# or using slicing operator\n",
    "d = a[:]                   # creates a new list\n",
    "print(a)\n",
    "print(d)"
   ]
  },
  {
   "cell_type": "code",
   "execution_count": 12,
   "metadata": {},
   "outputs": [
    {
     "name": "stdout",
     "output_type": "stream",
     "text": [
      "2051116609664\n",
      "2051116612160\n"
     ]
    }
   ],
   "source": [
    "print(id(a))                 # both are at different addresses\n",
    "print(id(d))"
   ]
  },
  {
   "cell_type": "code",
   "execution_count": 13,
   "metadata": {},
   "outputs": [
    {
     "name": "stdout",
     "output_type": "stream",
     "text": [
      "[9, 2, 11, 5]\n",
      "[1, 14, 11, 5]\n"
     ]
    }
   ],
   "source": [
    "a[0] = 9                 # any changes to a/d doesn't reflect in d/a\n",
    "d[1] = 14\n",
    "print(a)\n",
    "print(d)"
   ]
  },
  {
   "cell_type": "code",
   "execution_count": 14,
   "metadata": {},
   "outputs": [
    {
     "name": "stdout",
     "output_type": "stream",
     "text": [
      "[1, 14, 11, 5]\n",
      "[1, 14, 11, 5]\n",
      "2051116612160\n",
      "2051117192896\n"
     ]
    }
   ],
   "source": [
    "# or using list() function\n",
    "e = list(d)             # creates a new list\n",
    "print(d)\n",
    "print(e)\n",
    "print(id(d))\n",
    "print(id(e))"
   ]
  },
  {
   "cell_type": "code",
   "execution_count": 15,
   "metadata": {},
   "outputs": [
    {
     "data": {
      "text/plain": [
       "2"
      ]
     },
     "execution_count": 15,
     "metadata": {},
     "output_type": "execute_result"
    }
   ],
   "source": [
    "# 15. counting number of elements in a list   (list.count(element))\n",
    "['to', 'be', 'or', 'not', 'to', 'be'].count('to')       # counts no of times of 'to' in list"
   ]
  },
  {
   "cell_type": "code",
   "execution_count": 16,
   "metadata": {},
   "outputs": [
    {
     "name": "stdout",
     "output_type": "stream",
     "text": [
      "2\n",
      "1\n"
     ]
    }
   ],
   "source": [
    "x = [[1, 2], 1, 1, [2, 1, [1, 2]]]\n",
    "\n",
    "print(x.count(1))\n",
    "print(x.count([1,2]))"
   ]
  },
  {
   "cell_type": "code",
   "execution_count": 18,
   "metadata": {},
   "outputs": [
    {
     "data": {
      "text/plain": [
       "2"
      ]
     },
     "execution_count": 18,
     "metadata": {},
     "output_type": "execute_result"
    }
   ],
   "source": [
    "#16. list.index(value) - find leftmost index (position) of value in list\n",
    "listt = [5,4,3,2,1]\n",
    "listt.index(3)"
   ]
  },
  {
   "cell_type": "code",
   "execution_count": 1,
   "metadata": {},
   "outputs": [
    {
     "data": {
      "text/plain": [
       "['Julie', 25, 50.5]"
      ]
     },
     "execution_count": 1,
     "metadata": {},
     "output_type": "execute_result"
    }
   ],
   "source": [
    "# Mixed data types in list\n",
    "# name, age, weight of a person\n",
    "person = [\"Julie\", 25, 50.5]\n",
    "person"
   ]
  },
  {
   "cell_type": "code",
   "execution_count": 4,
   "metadata": {},
   "outputs": [
    {
     "data": {
      "text/plain": [
       "str"
      ]
     },
     "execution_count": 4,
     "metadata": {},
     "output_type": "execute_result"
    }
   ],
   "source": [
    "type(person[0])"
   ]
  },
  {
   "cell_type": "code",
   "execution_count": 5,
   "metadata": {},
   "outputs": [
    {
     "data": {
      "text/plain": [
       "int"
      ]
     },
     "execution_count": 5,
     "metadata": {},
     "output_type": "execute_result"
    }
   ],
   "source": [
    "type(person[1])"
   ]
  },
  {
   "cell_type": "code",
   "execution_count": 6,
   "metadata": {},
   "outputs": [
    {
     "data": {
      "text/plain": [
       "float"
      ]
     },
     "execution_count": 6,
     "metadata": {},
     "output_type": "execute_result"
    }
   ],
   "source": [
    "type(person[2])"
   ]
  },
  {
   "cell_type": "code",
   "execution_count": 7,
   "metadata": {},
   "outputs": [
    {
     "data": {
      "text/plain": [
       "[['Julie', 'Jack'], 25, 50.5]"
      ]
     },
     "execution_count": 7,
     "metadata": {},
     "output_type": "execute_result"
    }
   ],
   "source": [
    "# Nested list - List inside a list\n",
    "name = [[\"Julie\", \"Jack\"], 25, 50.5]\n",
    "name"
   ]
  },
  {
   "cell_type": "code",
   "execution_count": 8,
   "metadata": {},
   "outputs": [
    {
     "data": {
      "text/plain": [
       "list"
      ]
     },
     "execution_count": 8,
     "metadata": {},
     "output_type": "execute_result"
    }
   ],
   "source": [
    "type(name[0])"
   ]
  },
  {
   "cell_type": "code",
   "execution_count": 11,
   "metadata": {},
   "outputs": [
    {
     "name": "stdout",
     "output_type": "stream",
     "text": [
      "0 3\n",
      "1 2.9\n",
      "2 5\n"
     ]
    }
   ],
   "source": [
    "# enumerate() - printing list with its index without separate indicator\n",
    "grades = [3, 2.9, 5]\n",
    "\n",
    "i = 0\n",
    "for grade in grades :                   # using separate indicator i\n",
    "    print(i, grade)\n",
    "    i += 1"
   ]
  },
  {
   "cell_type": "code",
   "execution_count": 14,
   "metadata": {},
   "outputs": [
    {
     "name": "stdout",
     "output_type": "stream",
     "text": [
      "(0, 3)\n",
      "(1, 2.9)\n",
      "(2, 5)\n"
     ]
    }
   ],
   "source": [
    "e_grades = enumerate(grades)\n",
    "for grade in e_grades :\n",
    "    print(grade)"
   ]
  },
  {
   "cell_type": "code",
   "execution_count": 19,
   "metadata": {},
   "outputs": [
    {
     "name": "stdout",
     "output_type": "stream",
     "text": [
      "0 1\n",
      "1 2\n",
      "3 4\n",
      "4 5\n",
      "6 7\n",
      "7 8\n"
     ]
    }
   ],
   "source": [
    "# print list by skipping every third element\n",
    "nums = [1, 2, 3, 4, 5, 6, 7, 8]\n",
    "for index,num in enumerate(nums) :\n",
    "    if (index + 1) % 3 != 0 :\n",
    "        print(index, num)"
   ]
  },
  {
   "cell_type": "markdown",
   "metadata": {},
   "source": [
    "### Basic programs based on list"
   ]
  },
  {
   "cell_type": "code",
   "execution_count": 43,
   "metadata": {},
   "outputs": [
    {
     "name": "stdout",
     "output_type": "stream",
     "text": [
      "coin\n",
      "icon\n",
      "Words are Anagrams\n"
     ]
    }
   ],
   "source": [
    "# Find if the input words are anagrams\n",
    "word_1 = input()\n",
    "word_2 = input()\n",
    "list1 = list(word_1)\n",
    "list2 = list(word_2)\n",
    "if sorted(list1) == sorted(list2):\n",
    "    print(\"Words are Anagrams\")\n",
    "else:\n",
    "    print(\"Not anagrams\")"
   ]
  },
  {
   "cell_type": "code",
   "execution_count": 45,
   "metadata": {},
   "outputs": [
    {
     "name": "stdout",
     "output_type": "stream",
     "text": [
      "Input grades (e to exit):\n",
      "2.9\n",
      "1.3\n",
      "4.6\n",
      "3.0\n",
      "e\n",
      "Grades are : [2.9, 1.3, 4.6, 3.0]\n",
      "Average is:  2.95\n"
     ]
    }
   ],
   "source": [
    "# program to calculate average grades\n",
    "\n",
    "grades = []                     # Creating an empty list\n",
    "sum = 0\n",
    "print(\"Input grades (e to exit):\")\n",
    "\n",
    "while True :\n",
    "    grade = input()\n",
    "    if grade == \"e\" :\n",
    "        break\n",
    "    else :\n",
    "        grade = float(grade)\n",
    "        grades.append(grade)              # Appending grade to list grades\n",
    "print(\"Grades are :\", grades)\n",
    "\n",
    "for grade in grades :                     # iterate over list\n",
    "    sum = sum + grade\n",
    "    \n",
    "average = sum/len(grades)                  # len()- length of list\n",
    "print(\"Average is: \",average)"
   ]
  },
  {
   "cell_type": "code",
   "execution_count": 46,
   "metadata": {},
   "outputs": [
    {
     "name": "stdout",
     "output_type": "stream",
     "text": [
      "No of vowels in sentence are: 9\n"
     ]
    }
   ],
   "source": [
    "# Find no of vowels in a sentence\n",
    "\n",
    "sentence = \"This is a wonderful showroom\"\n",
    "count = 0\n",
    "vowels = ['a', 'e', 'i', 'o', 'u']\n",
    "\n",
    "for i in list(sentence) :\n",
    "    if i in vowels :\n",
    "        count = count + 1\n",
    "print(\"No of vowels in sentence are:\", count)"
   ]
  },
  {
   "cell_type": "code",
   "execution_count": 47,
   "metadata": {},
   "outputs": [
    {
     "name": "stdout",
     "output_type": "stream",
     "text": [
      "[3, 5, 8]\n"
     ]
    }
   ],
   "source": [
    "# An arbitray set of numbers - say 3rd, 5th and 8th ( something that you can't specify with a slice )\n",
    "nums = [1,2,3,4,5,6,7,8,9]\n",
    "s =[2,4,7]\n",
    "nums_subset = []\n",
    "for i in s :\n",
    "    nums_subset.append(nums[i])\n",
    "    \n",
    "print(nums_subset)"
   ]
  },
  {
   "cell_type": "markdown",
   "metadata": {},
   "source": [
    "#### Simple Pendulum Program"
   ]
  },
  {
   "cell_type": "code",
   "execution_count": 1,
   "metadata": {},
   "outputs": [
    {
     "name": "stdout",
     "output_type": "stream",
     "text": [
      "7 7\n"
     ]
    }
   ],
   "source": [
    "L = [0.2, 0.3, 0.4, 0.5, 0.6, 0.7, 0.8]           #length of pendulum\n",
    "t = [0.90, 1.19, 1.30, 1.47, 1.58, 1.77, 1.83]    #Time period of oscillation\n",
    "print(len(L), len(t))                             #len(l) gives length of the list l"
   ]
  },
  {
   "cell_type": "code",
   "execution_count": 3,
   "metadata": {},
   "outputs": [
    {
     "name": "stdout",
     "output_type": "stream",
     "text": [
      "0.81\n",
      "1.4161\n",
      "1.6900000000000002\n",
      "2.1609\n",
      "2.4964000000000004\n",
      "3.1329000000000002\n",
      "3.3489000000000004\n"
     ]
    }
   ],
   "source": [
    "# Finding suares of t\n",
    "for time in t:\n",
    "    print(time * time)\n",
    "ts = []         #empty list\n",
    "for time in t:\n",
    "    ts.append(time)"
   ]
  },
  {
   "cell_type": "code",
   "execution_count": 4,
   "metadata": {},
   "outputs": [
    {
     "name": "stdout",
     "output_type": "stream",
     "text": [
      "7 7 7\n"
     ]
    }
   ],
   "source": [
    "print(len(L), len(t), len(ts))"
   ]
  },
  {
   "cell_type": "code",
   "execution_count": 6,
   "metadata": {},
   "outputs": [
    {
     "data": {
      "text/plain": [
       "[<matplotlib.lines.Line2D at 0x1fcbce765b0>]"
      ]
     },
     "execution_count": 6,
     "metadata": {},
     "output_type": "execute_result"
    },
    {
     "data": {
      "image/png": "[encoded data removed]",
      "text/plain": [
       "<Figure size 432x288 with 1 Axes>"
      ]
     },
     "metadata": {
      "needs_background": "light"
     },
     "output_type": "display_data"
    }
   ],
   "source": [
    "#Plotting L vs t^2\n",
    "from pylab import *\n",
    "plot(L,ts)"
   ]
  },
  {
   "cell_type": "code",
   "execution_count": 7,
   "metadata": {},
   "outputs": [
    {
     "data": {
      "text/plain": [
       "[0.81,\n",
       " 1.4161,\n",
       " 1.6900000000000002,\n",
       " 2.1609,\n",
       " 2.4964000000000004,\n",
       " 3.1329000000000002,\n",
       " 3.3489000000000004]"
      ]
     },
     "execution_count": 7,
     "metadata": {},
     "output_type": "execute_result"
    }
   ],
   "source": [
    "#Defining a function to find suare\n",
    "def sr(arr):\n",
    "    result = []\n",
    "    for time in arr:\n",
    "        result.append(time*time)\n",
    "    return result\n",
    "sr(t)"
   ]
  },
  {
   "cell_type": "code",
   "execution_count": 7,
   "metadata": {},
   "outputs": [
    {
     "name": "stdout",
     "output_type": "stream",
     "text": [
      "Sun\n",
      "String is a day of the week\n"
     ]
    }
   ],
   "source": [
    "# Given a list 'week', containing names of the days of the week and a string 's', check if the string \n",
    "# is a day of the week. We should be able to check for any of the forms like, sat, Sat, SAT\n",
    "\n",
    "week = ['mon', 'tue', 'wed', 'thu', 'fri', 'sat', 'sun']\n",
    "# week = 'mon tue wed thu fri sat sun'.split()\n",
    "s = input()[:3].lower()\n",
    "if s in week :\n",
    "    print(\"String is a day of the week\")\n",
    "else :\n",
    "    print(\"String is not a day of the week\")"
   ]
  },
  {
   "cell_type": "code",
   "execution_count": 8,
   "metadata": {},
   "outputs": [
    {
     "name": "stdout",
     "output_type": "stream",
     "text": [
      "Year: 2021\n",
      "Month (1-12): 7\n",
      "Day (1-31): 12\n",
      "July 12th, 2021\n"
     ]
    }
   ],
   "source": [
    "# Print out a date, given year, month, and day as numbers\n",
    "months = [\n",
    "'January',\n",
    "'February',\n",
    "'March',\n",
    "'April',\n",
    "'May',\n",
    "'June',\n",
    "'July',\n",
    "'August',\n",
    "'September',\n",
    "'October',\n",
    "'November',\n",
    "'December'\n",
    "]\n",
    "# A list with one ending for each number from 1 to 31\n",
    "endings = ['st', 'nd', 'rd'] + 17 * ['th'] \\\n",
    "+ ['st', 'nd', 'rd'] + 7 * ['th'] \\\n",
    "+ ['st']\n",
    "year = input('Year: ')\n",
    "month = input('Month (1-12): ')\n",
    "day = input('Day (1-31): ')\n",
    "month_number = int(month)\n",
    "day_number = int(day)\n",
    "# Remember to subtract 1 from month and day to get a correct index\n",
    "month_name = months[month_number-1]\n",
    "ordinal = day + endings[day_number-1]\n",
    "print(month_name + ' ' + ordinal + ', ' + year)"
   ]
  },
  {
   "cell_type": "code",
   "execution_count": 22,
   "metadata": {},
   "outputs": [
    {
     "name": "stdout",
     "output_type": "stream",
     "text": [
      "Sentence: Hello dear! How are you? \n",
      "\n",
      "                        +---------------------------+\n",
      "                        |                           |\n",
      "                        | Hello dear! How are you?  |\n",
      "                        |                           |\n",
      "                        +---------------------------+\n",
      "\n"
     ]
    }
   ],
   "source": [
    "# Prints a sentence in a centered \"box\" of correct width\n",
    "sentence = input(\"Sentence: \")\n",
    "screen_width = 80\n",
    "text_width = len(sentence)\n",
    "box_width = text_width + 6\n",
    "left_margin = (screen_width - box_width) // 2\n",
    "print()\n",
    "print(' ' * left_margin + '+' + '-' * (box_width-4) + '+')\n",
    "print(' ' * left_margin + '| ' + ' ' * (box_width-6) + ' |')\n",
    "print(' ' * left_margin + '| ' + sentence + ' |')\n",
    "print(' ' * left_margin + '| ' + ' ' * text_width + ' |')\n",
    "print(' ' * left_margin + '+' + '-' * (box_width-4) + '+')\n",
    "print()"
   ]
  },
  {
   "cell_type": "code",
   "execution_count": 25,
   "metadata": {},
   "outputs": [
    {
     "name": "stdout",
     "output_type": "stream",
     "text": [
      "User name: smith\n",
      "PIN code: 7524\n",
      "Access granted\n"
     ]
    }
   ],
   "source": [
    "# Check a user name and PIN code\n",
    "database = [\n",
    "             ['albert', '1234'],\n",
    "             ['dilbert', '4242'],\n",
    "             ['smith', '7524'],\n",
    "             ['jones', '9843']\n",
    "           ]\n",
    "username = input('User name: ')\n",
    "pin = input('PIN code: ')\n",
    "if [username, pin] in database: print('Access granted')"
   ]
  },
  {
   "cell_type": "code",
   "execution_count": null,
   "metadata": {},
   "outputs": [],
   "source": []
  }
 ],
 "metadata": {
  "kernelspec": {
   "display_name": "Python 3",
   "language": "python",
   "name": "python3"
  },
  "language_info": {
   "codemirror_mode": {
    "name": "ipython",
    "version": 3
   },
   "file_extension": ".py",
   "mimetype": "text/x-python",
   "name": "python",
   "nbconvert_exporter": "python",
   "pygments_lexer": "ipython3",
   "version": "3.8.3"
  }
 },
 "nbformat": 4,
 "nbformat_minor": 4
}
