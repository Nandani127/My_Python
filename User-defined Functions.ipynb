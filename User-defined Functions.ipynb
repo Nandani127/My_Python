{
 "cells": [
  {
   "cell_type": "markdown",
   "metadata": {},
   "source": [
    "# User - defined Functions"
   ]
  },
  {
   "cell_type": "code",
   "execution_count": 1,
   "metadata": {},
   "outputs": [
    {
     "name": "stdout",
     "output_type": "stream",
     "text": [
      "9\n",
      "(-16+30j)\n"
     ]
    }
   ],
   "source": [
    "#Consider a function f(x) = x^2\n",
    "# function with one parameter and a return statement\n",
    "def f(x) :\n",
    "    return x*x\n",
    "print(f(3))\n",
    "print(f(3+5j))\n",
    "\n",
    "# def and return are keyword\n",
    "# f is function name\n",
    "# x is the parameter of the function"
   ]
  },
  {
   "cell_type": "code",
   "execution_count": 2,
   "metadata": {},
   "outputs": [
    {
     "name": "stdout",
     "output_type": "stream",
     "text": [
      "Hello World!\n"
     ]
    }
   ],
   "source": [
    "# function with no parameter and no return statement\n",
    "def greet() :\n",
    "    print(\"Hello World!\")\n",
    "greet()"
   ]
  },
  {
   "cell_type": "code",
   "execution_count": 3,
   "metadata": {},
   "outputs": [
    {
     "data": {
      "text/plain": [
       "1.5"
      ]
     },
     "execution_count": 3,
     "metadata": {},
     "output_type": "execute_result"
    }
   ],
   "source": [
    "# function with two parameters and one return value\n",
    "def avg(a, b) :\n",
    "    return (a + b)/2\n",
    "avg(1, 2)"
   ]
  },
  {
   "cell_type": "code",
   "execution_count": 4,
   "metadata": {},
   "outputs": [
    {
     "data": {
      "text/plain": [
       "(50.24, 25.12)"
      ]
     },
     "execution_count": 4,
     "metadata": {},
     "output_type": "execute_result"
    }
   ],
   "source": [
    "# function with one parameter and two return values\n",
    "def circle(r) :\n",
    "    area = 3.14 * r * r\n",
    "    perimeter = 2 * 3.14 * r\n",
    "    return area, perimeter                  # returns tuple\n",
    "circle(4)"
   ]
  },
  {
   "cell_type": "code",
   "execution_count": 5,
   "metadata": {},
   "outputs": [
    {
     "name": "stdout",
     "output_type": "stream",
     "text": [
      "50.24\n",
      "25.12\n"
     ]
    }
   ],
   "source": [
    "a, p = circle(4)                    # tuple expansion\n",
    "print(a)\n",
    "print(p)"
   ]
  },
  {
   "cell_type": "code",
   "execution_count": 6,
   "metadata": {},
   "outputs": [
    {
     "name": "stdout",
     "output_type": "stream",
     "text": [
      "32.87671232876712\n"
     ]
    }
   ],
   "source": [
    "def simple_interest(principal , rate , days):\n",
    "    interest = principal * (rate/100) * (days/365)\n",
    "    return interest\n",
    "interest_amount = simple_interest(1200,10,100)\n",
    "print(interest_amount)"
   ]
  },
  {
   "cell_type": "code",
   "execution_count": 3,
   "metadata": {},
   "outputs": [
    {
     "name": "stdout",
     "output_type": "stream",
     "text": [
      "\n",
      "    Calculates simple interest on a given balance.Key parameters are:\n",
      "    1. principal - Amount on which interest has to be calculated\n",
      "    2. rate - Annual interest rate in percentage\n",
      "    3. days - No of days since the beggining of the year\n",
      "    \n"
     ]
    }
   ],
   "source": [
    "# docstring - used to give detailed information\n",
    "def simple_interest(principal , rate , days):\n",
    "    \"\"\"\n",
    "    Calculates simple interest on a given balance.Key parameters are:\n",
    "    1. principal - Amount on which interest has to be calculated\n",
    "    2. rate - Annual interest rate in percentage\n",
    "    3. days - No of days since the beggining of the year\n",
    "    \"\"\"\n",
    "    interest = principal * (rate/100) * (days/365)\n",
    "    return interest\n",
    "interest_amount = simple_interest(1200,10,100)\n",
    "print( simple_interest.__doc__ )"
   ]
  },
  {
   "cell_type": "code",
   "execution_count": 4,
   "metadata": {},
   "outputs": [
    {
     "name": "stdout",
     "output_type": "stream",
     "text": [
      "Help on function simple_interest in module __main__:\n",
      "\n",
      "simple_interest(principal, rate, days)\n",
      "    Calculates simple interest on a given balance.Key parameters are:\n",
      "    1. principal - Amount on which interest has to be calculated\n",
      "    2. rate - Annual interest rate in percentage\n",
      "    3. days - No of days since the beggining of the year\n",
      "\n"
     ]
    }
   ],
   "source": [
    "help(simple_interest)"
   ]
  },
  {
   "cell_type": "code",
   "execution_count": 8,
   "metadata": {},
   "outputs": [],
   "source": [
    "simple_interest?"
   ]
  },
  {
   "cell_type": "markdown",
   "metadata": {},
   "source": [
    "## Arguments"
   ]
  },
  {
   "cell_type": "code",
   "execution_count": 9,
   "metadata": {},
   "outputs": [
    {
     "ename": "TypeError",
     "evalue": "simple_interest() missing 1 required positional argument: 'days'",
     "output_type": "error",
     "traceback": [
      "\u001b[1;31m---------------------------------------------------------------------------\u001b[0m",
      "\u001b[1;31mTypeError\u001b[0m                                 Traceback (most recent call last)",
      "\u001b[1;32m<ipython-input-9-1615328f9b64>\u001b[0m in \u001b[0;36m<module>\u001b[1;34m\u001b[0m\n\u001b[0;32m      3\u001b[0m     \u001b[0minterest\u001b[0m \u001b[1;33m=\u001b[0m \u001b[0mprincipal\u001b[0m \u001b[1;33m*\u001b[0m \u001b[1;33m(\u001b[0m\u001b[0mrate\u001b[0m\u001b[1;33m/\u001b[0m\u001b[1;36m100\u001b[0m\u001b[1;33m)\u001b[0m \u001b[1;33m*\u001b[0m \u001b[1;33m(\u001b[0m\u001b[0mdays\u001b[0m\u001b[1;33m/\u001b[0m\u001b[1;36m365\u001b[0m\u001b[1;33m)\u001b[0m\u001b[1;33m\u001b[0m\u001b[1;33m\u001b[0m\u001b[0m\n\u001b[0;32m      4\u001b[0m     \u001b[1;32mreturn\u001b[0m \u001b[0minterest\u001b[0m\u001b[1;33m\u001b[0m\u001b[1;33m\u001b[0m\u001b[0m\n\u001b[1;32m----> 5\u001b[1;33m \u001b[0minterest_amount\u001b[0m \u001b[1;33m=\u001b[0m \u001b[0msimple_interest\u001b[0m\u001b[1;33m(\u001b[0m\u001b[1;36m1200\u001b[0m\u001b[1;33m,\u001b[0m\u001b[1;36m10\u001b[0m\u001b[1;33m)\u001b[0m              \u001b[1;31m#only two arguments passed\u001b[0m\u001b[1;33m\u001b[0m\u001b[1;33m\u001b[0m\u001b[0m\n\u001b[0m\u001b[0;32m      6\u001b[0m \u001b[0mprint\u001b[0m\u001b[1;33m(\u001b[0m\u001b[0minterest_amount\u001b[0m\u001b[1;33m)\u001b[0m\u001b[1;33m\u001b[0m\u001b[1;33m\u001b[0m\u001b[0m\n",
      "\u001b[1;31mTypeError\u001b[0m: simple_interest() missing 1 required positional argument: 'days'"
     ]
    }
   ],
   "source": [
    "# Required Arguments - Necessary to pass all\n",
    "def simple_interest(principal , rate , days):\n",
    "    interest = principal * (rate/100) * (days/365)\n",
    "    return interest\n",
    "interest_amount = simple_interest(1200,10)              #only two arguments passed\n",
    "print(interest_amount)"
   ]
  },
  {
   "cell_type": "code",
   "execution_count": 10,
   "metadata": {},
   "outputs": [
    {
     "name": "stdout",
     "output_type": "stream",
     "text": [
      "32.87671232876712\n"
     ]
    }
   ],
   "source": [
    "# (Keyword Argumets)Named Arguments - Values of arguments passed with (keyword)name (can be in any order)\n",
    "def simple_interest(principal , rate , days):\n",
    "    interest = principal * (rate/100) * (days/365)\n",
    "    return interest\n",
    "interest_amount = simple_interest(rate=10, principal=1200, days=100)\n",
    "print(interest_amount)"
   ]
  },
  {
   "cell_type": "code",
   "execution_count": 11,
   "metadata": {},
   "outputs": [
    {
     "name": "stdout",
     "output_type": "stream",
     "text": [
      "Hi Guido\n"
     ]
    }
   ],
   "source": [
    "def welcome(greet, name = \"World\") :\n",
    "    print(greet, name)\n",
    "welcome(\"Hi\", \"Guido\")               #both arguments passed (positional arguments)"
   ]
  },
  {
   "cell_type": "code",
   "execution_count": 12,
   "metadata": {},
   "outputs": [
    {
     "name": "stdout",
     "output_type": "stream",
     "text": [
      "Hello World\n"
     ]
    }
   ],
   "source": [
    "welcome(\"Hello\")                    # default argument"
   ]
  },
  {
   "cell_type": "code",
   "execution_count": 13,
   "metadata": {},
   "outputs": [
    {
     "name": "stdout",
     "output_type": "stream",
     "text": [
      "Hi Jordan\n"
     ]
    }
   ],
   "source": [
    "welcome(greet=\"Hi\", name =\"Jordan\")          #keyword arguments"
   ]
  },
  {
   "cell_type": "code",
   "execution_count": 14,
   "metadata": {},
   "outputs": [
    {
     "name": "stdout",
     "output_type": "stream",
     "text": [
      "Hi Guido\n"
     ]
    }
   ],
   "source": [
    "welcome(\"Hi\", name = \"Guido\")               #keyword argument after non keyword argument"
   ]
  },
  {
   "cell_type": "code",
   "execution_count": 15,
   "metadata": {},
   "outputs": [
    {
     "ename": "SyntaxError",
     "evalue": "positional argument follows keyword argument (<ipython-input-15-373d07119a84>, line 2)",
     "output_type": "error",
     "traceback": [
      "\u001b[1;36m  File \u001b[1;32m\"<ipython-input-15-373d07119a84>\"\u001b[1;36m, line \u001b[1;32m2\u001b[0m\n\u001b[1;33m    welcome(name = \"James\", \"Hi\")\u001b[0m\n\u001b[1;37m                            ^\u001b[0m\n\u001b[1;31mSyntaxError\u001b[0m\u001b[1;31m:\u001b[0m positional argument follows keyword argument\n"
     ]
    }
   ],
   "source": [
    "# Can not have non keyword argument after keyword argument\n",
    "welcome(name = \"James\", \"Hi\")"
   ]
  },
  {
   "cell_type": "code",
   "execution_count": 16,
   "metadata": {},
   "outputs": [
    {
     "name": "stdout",
     "output_type": "stream",
     "text": [
      "16.43835616438356\n"
     ]
    }
   ],
   "source": [
    "# Default arguments - Any argument's value is made default(but can be changed)\n",
    "def simple_interest(principal , days, rate=5):             #default arguments are defined at last\n",
    "    interest = principal * (rate/100) * (days/365)\n",
    "    return interest\n",
    "interest_amount = simple_interest(1200,100)\n",
    "print(interest_amount)"
   ]
  },
  {
   "cell_type": "code",
   "execution_count": 17,
   "metadata": {},
   "outputs": [
    {
     "data": {
      "text/plain": [
       "22"
      ]
     },
     "execution_count": 17,
     "metadata": {},
     "output_type": "execute_result"
    }
   ],
   "source": [
    "# Variable number of arguments - defined by *.Can take any number of arguments\n",
    "def sum(*args):\n",
    "    result = 0\n",
    "    for i in args:\n",
    "        result = result + i\n",
    "    return result\n",
    "sum(5, 10, 3, 4)"
   ]
  },
  {
   "cell_type": "code",
   "execution_count": 18,
   "metadata": {},
   "outputs": [
    {
     "data": {
      "text/plain": [
       "33"
      ]
     },
     "execution_count": 18,
     "metadata": {},
     "output_type": "execute_result"
    }
   ],
   "source": [
    "def sum(*args):\n",
    "    result = 0\n",
    "    for i in args:\n",
    "        result = result + i\n",
    "    return result\n",
    "sum(5, 10, 3, 4, 10, 1)"
   ]
  },
  {
   "cell_type": "code",
   "execution_count": 10,
   "metadata": {},
   "outputs": [
    {
     "name": "stdout",
     "output_type": "stream",
     "text": [
      "Params:\n",
      "(1, 2, 3)\n",
      "Nothing:\n",
      "()\n"
     ]
    }
   ],
   "source": [
    "def print_params_2(title, *params):\n",
    "    print(title)\n",
    "    print(params)\n",
    "    \n",
    "print_params_2('Params:', 1, 2, 3)\n",
    "# title = Params:   ,   params = (1,2,3)\n",
    "print_params_2('Nothing:')\n",
    "# title = Nothing:   ,   params = ()"
   ]
  },
  {
   "cell_type": "code",
   "execution_count": 11,
   "metadata": {},
   "outputs": [],
   "source": [
    "def in_the_middle(x, *y, z):\n",
    "    print(x, y, z)"
   ]
  },
  {
   "cell_type": "code",
   "execution_count": 12,
   "metadata": {},
   "outputs": [
    {
     "name": "stdout",
     "output_type": "stream",
     "text": [
      "1 (2, 3, 4, 5) 7\n"
     ]
    }
   ],
   "source": [
    "in_the_middle(1, 2, 3, 4, 5, z=7)\n",
    "# x=1,     y=(2,3,4,5),       z=7"
   ]
  },
  {
   "cell_type": "code",
   "execution_count": 13,
   "metadata": {},
   "outputs": [
    {
     "ename": "TypeError",
     "evalue": "in_the_middle() missing 1 required keyword-only argument: 'z'",
     "output_type": "error",
     "traceback": [
      "\u001b[1;31m---------------------------------------------------------------------------\u001b[0m",
      "\u001b[1;31mTypeError\u001b[0m                                 Traceback (most recent call last)",
      "\u001b[1;32m<ipython-input-13-a85968721999>\u001b[0m in \u001b[0;36m<module>\u001b[1;34m\u001b[0m\n\u001b[0;32m      1\u001b[0m \u001b[1;31m# we have to explicitly specify z\u001b[0m\u001b[1;33m\u001b[0m\u001b[1;33m\u001b[0m\u001b[1;33m\u001b[0m\u001b[0m\n\u001b[1;32m----> 2\u001b[1;33m \u001b[0min_the_middle\u001b[0m\u001b[1;33m(\u001b[0m\u001b[1;36m1\u001b[0m\u001b[1;33m,\u001b[0m \u001b[1;36m2\u001b[0m\u001b[1;33m,\u001b[0m \u001b[1;36m3\u001b[0m\u001b[1;33m,\u001b[0m \u001b[1;36m4\u001b[0m\u001b[1;33m,\u001b[0m \u001b[1;36m5\u001b[0m\u001b[1;33m,\u001b[0m \u001b[1;36m7\u001b[0m\u001b[1;33m)\u001b[0m\u001b[1;33m\u001b[0m\u001b[1;33m\u001b[0m\u001b[0m\n\u001b[0m",
      "\u001b[1;31mTypeError\u001b[0m: in_the_middle() missing 1 required keyword-only argument: 'z'"
     ]
    }
   ],
   "source": [
    "# we have to explicitly specify z\n",
    "in_the_middle(1, 2, 3, 4, 5, 7)"
   ]
  },
  {
   "cell_type": "code",
   "execution_count": 14,
   "metadata": {},
   "outputs": [],
   "source": [
    "# naming parameter from calling using **\n",
    "def print_params_3(**params):\n",
    "    print(params)  #returns dictionary instead of tuple"
   ]
  },
  {
   "cell_type": "code",
   "execution_count": 15,
   "metadata": {},
   "outputs": [
    {
     "name": "stdout",
     "output_type": "stream",
     "text": [
      "{'x': 1, 'y': 2, 'z': 3}\n"
     ]
    }
   ],
   "source": [
    "print_params_3(x=1, y=2, z=3)"
   ]
  },
  {
   "cell_type": "code",
   "execution_count": 17,
   "metadata": {},
   "outputs": [
    {
     "name": "stdout",
     "output_type": "stream",
     "text": [
      "{'a': 'apple', 'b': 'banana', 'c': 'cherry'}\n"
     ]
    }
   ],
   "source": [
    "print_params_3(a='apple', b='banana', c='cherry')"
   ]
  },
  {
   "cell_type": "code",
   "execution_count": 18,
   "metadata": {},
   "outputs": [
    {
     "name": "stdout",
     "output_type": "stream",
     "text": [
      "1 2 3\n",
      "(5, 6, 7)\n",
      "{'foo': 1, 'bar': 2}\n"
     ]
    }
   ],
   "source": [
    "# combining all\n",
    "def print_params_4(x, y, z=3, *pospar, **keypar):\n",
    "    print(x, y, z)\n",
    "    print(pospar)\n",
    "    print(keypar)\n",
    "    \n",
    "print_params_4(1, 2, 3, 5, 6, 7, foo=1, bar=2)\n",
    "# x=1,    y=2,    z=3,     pospar=(5,6,7),       keypar={'foo':1,'bar':2}"
   ]
  },
  {
   "cell_type": "code",
   "execution_count": 22,
   "metadata": {},
   "outputs": [
    {
     "data": {
      "text/plain": [
       "3"
      ]
     },
     "execution_count": 22,
     "metadata": {},
     "output_type": "execute_result"
    }
   ],
   "source": [
    "# Reversing the process, collected parameters using * and **, Now just opposite\n",
    "# i.e sending data by * and **\n",
    "def add(x, y):\n",
    "    return x + y\n",
    "\n",
    "params = (1, 2)\n",
    "add(*params)"
   ]
  },
  {
   "cell_type": "code",
   "execution_count": 23,
   "metadata": {},
   "outputs": [
    {
     "name": "stdout",
     "output_type": "stream",
     "text": [
      "Well met, Nandani!\n"
     ]
    }
   ],
   "source": [
    "def hello_3(greeting='Hello', name='world'):\n",
    "    print('{}, {}!'.format(greeting, name))\n",
    "\n",
    "params = {'name': 'Nandani', 'greeting': 'Well met'}\n",
    "hello_3(**params)"
   ]
  },
  {
   "cell_type": "markdown",
   "metadata": {},
   "source": [
    "Variable Scope"
   ]
  },
  {
   "cell_type": "code",
   "execution_count": 19,
   "metadata": {},
   "outputs": [
    {
     "name": "stdout",
     "output_type": "stream",
     "text": [
      "10\n"
     ]
    },
    {
     "ename": "NameError",
     "evalue": "name 'r' is not defined",
     "output_type": "error",
     "traceback": [
      "\u001b[1;31m---------------------------------------------------------------------------\u001b[0m",
      "\u001b[1;31mNameError\u001b[0m                                 Traceback (most recent call last)",
      "\u001b[1;32m<ipython-input-19-8528080fca32>\u001b[0m in \u001b[0;36m<module>\u001b[1;34m\u001b[0m\n\u001b[0;32m      4\u001b[0m     \u001b[0mprint\u001b[0m\u001b[1;33m(\u001b[0m\u001b[0mr\u001b[0m\u001b[1;33m)\u001b[0m\u001b[1;33m\u001b[0m\u001b[1;33m\u001b[0m\u001b[0m\n\u001b[0;32m      5\u001b[0m \u001b[0mchange\u001b[0m\u001b[1;33m(\u001b[0m\u001b[1;36m1\u001b[0m\u001b[1;33m)\u001b[0m\u001b[1;33m\u001b[0m\u001b[1;33m\u001b[0m\u001b[0m\n\u001b[1;32m----> 6\u001b[1;33m \u001b[0mprint\u001b[0m\u001b[1;33m(\u001b[0m\u001b[0mr\u001b[0m\u001b[1;33m)\u001b[0m             \u001b[1;31m#r is not availale outside the function\u001b[0m\u001b[1;33m\u001b[0m\u001b[1;33m\u001b[0m\u001b[0m\n\u001b[0m",
      "\u001b[1;31mNameError\u001b[0m: name 'r' is not defined"
     ]
    }
   ],
   "source": [
    "# Arguments scope is local\n",
    "def change(r) :        # r = 1\n",
    "    r = 10            # changes value of r , r=10\n",
    "    print(r)\n",
    "change(1)\n",
    "print(r)             #r is not availale outside the function"
   ]
  },
  {
   "cell_type": "code",
   "execution_count": 20,
   "metadata": {},
   "outputs": [
    {
     "name": "stdout",
     "output_type": "stream",
     "text": [
      "10\n",
      "5\n"
     ]
    }
   ],
   "source": [
    "# Variables inside functions are local\n",
    "# n inside and outside functions are not same\n",
    "n = 5                    # global scope\n",
    "def change() :\n",
    "    n = 10              #this n is local to the function (overrides the value of n outside funcion)\n",
    "    print(n)\n",
    "change()\n",
    "print(n)"
   ]
  },
  {
   "cell_type": "code",
   "execution_count": 21,
   "metadata": {},
   "outputs": [
    {
     "name": "stdout",
     "output_type": "stream",
     "text": [
      "5\n",
      "5\n"
     ]
    }
   ],
   "source": [
    "n = 5               # global scope\n",
    "def change() :\n",
    "    print(n)\n",
    "change()\n",
    "print(n)\n",
    "# Note that n was not defined in the function\n",
    "# So Python looks for the variable in previous scope"
   ]
  },
  {
   "cell_type": "code",
   "execution_count": 22,
   "metadata": {},
   "outputs": [
    {
     "name": "stdout",
     "output_type": "stream",
     "text": [
      "10\n",
      "10\n"
     ]
    }
   ],
   "source": [
    "# global keyword makes the definition of a variable inside any function as global\n",
    "# Now it can be accessed outside function also\n",
    "def change() :\n",
    "    global n             # makes n available outside the function scope also \n",
    "    n = 10\n",
    "    print(n)\n",
    "change()\n",
    "print(n)"
   ]
  },
  {
   "cell_type": "code",
   "execution_count": 23,
   "metadata": {},
   "outputs": [
    {
     "name": "stdout",
     "output_type": "stream",
     "text": [
      "['Dr.', 'Steve', 'Gosling']\n"
     ]
    }
   ],
   "source": [
    "'''Behavior is different when assigning to a list element/slice\n",
    "Because list is a mutable variable\n",
    "Python looks up for the name, from innermost scope outwards, until the name is found'''\n",
    "name = ['Mr.', 'Steve', 'Gosling']\n",
    "def change_name() :\n",
    "    name[0] = 'Dr.'\n",
    "change_name()\n",
    "print(name)"
   ]
  },
  {
   "cell_type": "code",
   "execution_count": 24,
   "metadata": {},
   "outputs": [
    {
     "name": "stdout",
     "output_type": "stream",
     "text": [
      "10 in change\n",
      "5\n"
     ]
    }
   ],
   "source": [
    "# Immutable objects are passed by value (hence value outside function is not changed)\n",
    "n = 5\n",
    "def change(n) :\n",
    "    n = 10\n",
    "    print(n, 'in change')\n",
    "\n",
    "change(n)\n",
    "print(n)"
   ]
  },
  {
   "cell_type": "code",
   "execution_count": 25,
   "metadata": {},
   "outputs": [
    {
     "name": "stdout",
     "output_type": "stream",
     "text": [
      "['Dr.', 'Steve', 'Gosling'] in change\n",
      "['Dr.', 'Steve', 'Gosling']\n"
     ]
    }
   ],
   "source": [
    "# Mutable objects are passed by refernce (hence value outside function is changed)\n",
    "name = ['Mr.', 'Steve', 'Gosling']\n",
    "def change_name(x) :\n",
    "    x[0] = 'Dr.'\n",
    "    print(x, 'in change')\n",
    "\n",
    "change_name(name)\n",
    "print(name)"
   ]
  },
  {
   "cell_type": "code",
   "execution_count": 26,
   "metadata": {},
   "outputs": [
    {
     "name": "stdout",
     "output_type": "stream",
     "text": [
      "[1, 2, 3] in change\n",
      "['Mr.', 'Steve', 'Gosling']\n"
     ]
    }
   ],
   "source": [
    "name = ['Mr.', 'Steve', 'Gosling']\n",
    "def change_name(x) :\n",
    "    x = [1,2,3]                # new list named x is created which is local to this function \n",
    "                               # hence value outside function is not changed\n",
    "    print(x, 'in change')\n",
    "\n",
    "change_name(name)\n",
    "print(name)"
   ]
  },
  {
   "cell_type": "code",
   "execution_count": 27,
   "metadata": {},
   "outputs": [
    {
     "name": "stdout",
     "output_type": "stream",
     "text": [
      "[1, 2, 3] in change\n",
      "[1, 2, 3]\n"
     ]
    }
   ],
   "source": [
    "name = ['Mr.', 'Steve', 'Gosling']\n",
    "def change_name(x) :\n",
    "    x[:] = [1,2,3]              # now list is updated with values 1,2,3 (changes the list in place) \n",
    "                                # hence value outside function will also change\n",
    "    print(x, 'in change')\n",
    "\n",
    "change_name(name)\n",
    "print(name)"
   ]
  },
  {
   "cell_type": "markdown",
   "metadata": {},
   "source": [
    "Exercises"
   ]
  },
  {
   "cell_type": "code",
   "execution_count": null,
   "metadata": {},
   "outputs": [],
   "source": [
    "# function to calculate string length excluding spaces\n",
    "def str_len(str):\n",
    "    len = 0\n",
    "    for i in str:\n",
    "        if i == \" \":\n",
    "            continue\n",
    "        else:\n",
    "            len = len + 1\n",
    "    return len\n",
    "str_len(\"Jack and Jill went on a hill\")         "
   ]
  },
  {
   "cell_type": "code",
   "execution_count": 28,
   "metadata": {},
   "outputs": [
    {
     "data": {
      "text/plain": [
       "20"
      ]
     },
     "execution_count": 28,
     "metadata": {},
     "output_type": "execute_result"
    }
   ],
   "source": [
    "# function to multiply one no by another no which is by default 5\n",
    "def product(num_1, num_2 = 5):\n",
    "    return num_1 * num_2\n",
    "product(4)"
   ]
  },
  {
   "cell_type": "code",
   "execution_count": 31,
   "metadata": {},
   "outputs": [
    {
     "name": "stdout",
     "output_type": "stream",
     "text": [
      "[1.5, 1.7, 1.3, 1.4, 1.2]\n",
      "Average of grades:  1.42\n"
     ]
    }
   ],
   "source": [
    "#Inbuilt function\n",
    "# fsum - floating point sum (sum of float values)\n",
    "\n",
    "import math\n",
    "\n",
    "grades = [1.5, 1.7, 1.3, 1.4, 1.2]\n",
    "print(grades)\n",
    "average = math.fsum(grades) / len(grades)\n",
    "print(\"Average of grades: \",average)"
   ]
  },
  {
   "cell_type": "code",
   "execution_count": 41,
   "metadata": {},
   "outputs": [
    {
     "name": "stdout",
     "output_type": "stream",
     "text": [
      "7.1\n"
     ]
    }
   ],
   "source": [
    "print(math.fsum(grades))"
   ]
  },
  {
   "cell_type": "code",
   "execution_count": 38,
   "metadata": {},
   "outputs": [
    {
     "data": {
      "text/plain": [
       "7.1000000000000005"
      ]
     },
     "execution_count": 38,
     "metadata": {},
     "output_type": "execute_result"
    }
   ],
   "source": [
    "sum(1.5, 1.7, 1.3, 1.4, 1.2)"
   ]
  },
  {
   "cell_type": "markdown",
   "metadata": {},
   "source": [
    "### Functions as arguments "
   ]
  },
  {
   "cell_type": "code",
   "execution_count": 1,
   "metadata": {},
   "outputs": [
    {
     "name": "stdout",
     "output_type": "stream",
     "text": [
      "['car', 'bus', 'bike', 'scooter', 'car', 'bus', 'bike', 'scooter', 'car', 'bus', 'bike', 'scooter']\n"
     ]
    }
   ],
   "source": [
    "a = 'car,bus,bike,scooter'              # A string\n",
    "lst = a.split(',')                      # Making a list from a string\n",
    "\n",
    "def loop(x):\n",
    "    print(x*3)                          # Prints list thrice\n",
    "    \n",
    "loop(lst)"
   ]
  },
  {
   "cell_type": "code",
   "execution_count": 3,
   "metadata": {},
   "outputs": [
    {
     "name": "stdout",
     "output_type": "stream",
     "text": [
      "carcarcar\n",
      "busbusbus\n",
      "bikebikebike\n",
      "scooterscooterscooter\n"
     ]
    }
   ],
   "source": [
    "# Now passing function as an argument to another function\n",
    "\n",
    "a = 'car,bus,bike,scooter'              # A string\n",
    "lst = a.split(',')                      # Making a list from a string\n",
    "\n",
    "def loop(x):\n",
    "    print(x*3)                          # printing each element in list thrice\n",
    "    \n",
    "def map_simple(crazy, lst):             # crazy = loop (function)\n",
    "    for items in lst:                   # gets each item in list 'lst'\n",
    "        crazy(items)                    # loop(x)\n",
    "    \n",
    "map_simple(loop, lst)                   # passing loop as function argument"
   ]
  },
  {
   "cell_type": "markdown",
   "metadata": {},
   "source": [
    "Recursion"
   ]
  },
  {
   "cell_type": "code",
   "execution_count": 1,
   "metadata": {},
   "outputs": [
    {
     "data": {
      "text/plain": [
       "720"
      ]
     },
     "execution_count": 1,
     "metadata": {},
     "output_type": "execute_result"
    }
   ],
   "source": [
    "# Classic Example\n",
    "def factorial(n):\n",
    "    result = n\n",
    "    for i in range(1, n):\n",
    "        result *= i\n",
    "    return result\n",
    "\n",
    "factorial(6)"
   ]
  },
  {
   "cell_type": "code",
   "execution_count": 4,
   "metadata": {},
   "outputs": [
    {
     "data": {
      "text/plain": [
       "720"
      ]
     },
     "execution_count": 4,
     "metadata": {},
     "output_type": "execute_result"
    }
   ],
   "source": [
    "# Recursion Way\n",
    "def factorial(n):\n",
    "    if n == 1:\n",
    "        return 1\n",
    "    else:\n",
    "        return n * factorial(n - 1)\n",
    "    \n",
    "factorial(6)"
   ]
  },
  {
   "cell_type": "code",
   "execution_count": 7,
   "metadata": {},
   "outputs": [
    {
     "data": {
      "text/plain": [
       "625"
      ]
     },
     "execution_count": 7,
     "metadata": {},
     "output_type": "execute_result"
    }
   ],
   "source": [
    "# Another classic example\n",
    "def power(x, n):\n",
    "    if n == 0:\n",
    "        return 1\n",
    "    else:\n",
    "        return x * power(x, n - 1)\n",
    "    \n",
    "power(5,4)"
   ]
  },
  {
   "cell_type": "markdown",
   "metadata": {},
   "source": [
    "Procedure vs Function"
   ]
  },
  {
   "cell_type": "code",
   "execution_count": 5,
   "metadata": {},
   "outputs": [
    {
     "name": "stdout",
     "output_type": "stream",
     "text": [
      "Hello\n"
     ]
    }
   ],
   "source": [
    "def a():\n",
    "    print(\"Hello\")\n",
    "    \n",
    "a();"
   ]
  },
  {
   "cell_type": "code",
   "execution_count": 7,
   "metadata": {},
   "outputs": [
    {
     "name": "stdout",
     "output_type": "stream",
     "text": [
      "This is printed\n"
     ]
    }
   ],
   "source": [
    "# Is the above one a function\n",
    "# No its a proceducre, syntax are same, but it does not return any thing\n",
    "# Another example of procedure\n",
    "def test():\n",
    "    print('This is printed')\n",
    "    return\n",
    "\n",
    "x = test()"
   ]
  },
  {
   "cell_type": "code",
   "execution_count": 9,
   "metadata": {},
   "outputs": [
    {
     "name": "stdout",
     "output_type": "stream",
     "text": [
      "None\n"
     ]
    }
   ],
   "source": [
    "print(x)"
   ]
  },
  {
   "cell_type": "code",
   "execution_count": null,
   "metadata": {},
   "outputs": [],
   "source": []
  }
 ],
 "metadata": {
  "kernelspec": {
   "display_name": "Python 3",
   "language": "python",
   "name": "python3"
  },
  "language_info": {
   "codemirror_mode": {
    "name": "ipython",
    "version": 3
   },
   "file_extension": ".py",
   "mimetype": "text/x-python",
   "name": "python",
   "nbconvert_exporter": "python",
   "pygments_lexer": "ipython3",
   "version": "3.8.3"
  }
 },
 "nbformat": 4,
 "nbformat_minor": 4
}
