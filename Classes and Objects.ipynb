{
 "cells": [
  {
   "cell_type": "code",
   "execution_count": 1,
   "metadata": {},
   "outputs": [
    {
     "name": "stdout",
     "output_type": "stream",
     "text": [
      "5\n"
     ]
    }
   ],
   "source": [
    "class human:\n",
    "    x = 5\n",
    "    # x is the property and 5 is the value of property\n",
    "h1 = human()            # creating the object\n",
    "print(h1.x)                    # accessing the attribute\n",
    "# To access the member(variable) of an object, use the dot(.) operator"
   ]
  },
  {
   "cell_type": "code",
   "execution_count": 1,
   "metadata": {},
   "outputs": [
    {
     "name": "stdout",
     "output_type": "stream",
     "text": [
      "Harry\n",
      "23\n"
     ]
    }
   ],
   "source": [
    "''' __init__ is the function that python calls by default when the class is instantiated  into \n",
    "an object\n",
    "'''\n",
    "\n",
    "class human:\n",
    "    def __init__(self,name,age):\n",
    "        self.name = name\n",
    "        self.age = age\n",
    "        \n",
    "h1 = human('Harry', 23)             # instantiating object\n",
    "'''To create an object of a class, just call the class by its name, followed by the arguments\n",
    "as defined in the constructor __init__'''\n",
    "print(h1.name)\n",
    "print(h1.age)"
   ]
  },
  {
   "cell_type": "code",
   "execution_count": 5,
   "metadata": {},
   "outputs": [
    {
     "name": "stdout",
     "output_type": "stream",
     "text": [
      "Hi, My name is Harry\n"
     ]
    }
   ],
   "source": [
    "# Classes can also have methods in it\n",
    "class human:\n",
    "    def __init__(self,name,age):\n",
    "        self.name = name\n",
    "        self.age = age\n",
    "    def methods(self):\n",
    "        print('Hi, My name is '+ self.name)\n",
    "        \n",
    "h1 = human('Harry', 23)\n",
    "h1.methods()\n",
    "# To access a method of the object, use the dot(.) operator with parentheses \n",
    "# (and arguments if any)"
   ]
  },
  {
   "cell_type": "code",
   "execution_count": 6,
   "metadata": {},
   "outputs": [
    {
     "name": "stdout",
     "output_type": "stream",
     "text": [
      "Hi, My name is Rahul\n"
     ]
    }
   ],
   "source": [
    "h2 = human('Rahul', 19)                # second object\n",
    "h2.methods()"
   ]
  },
  {
   "cell_type": "code",
   "execution_count": 7,
   "metadata": {},
   "outputs": [
    {
     "data": {
      "text/plain": [
       "__main__.human"
      ]
     },
     "execution_count": 7,
     "metadata": {},
     "output_type": "execute_result"
    }
   ],
   "source": [
    "# use the type() method to know which class any object belonged to\n",
    "type(h2)"
   ]
  },
  {
   "cell_type": "code",
   "execution_count": 8,
   "metadata": {},
   "outputs": [
    {
     "data": {
      "text/plain": [
       "__main__.human"
      ]
     },
     "execution_count": 8,
     "metadata": {},
     "output_type": "execute_result"
    }
   ],
   "source": [
    "# another way - object.__class__\n",
    "h2.__class__"
   ]
  },
  {
   "cell_type": "code",
   "execution_count": 9,
   "metadata": {},
   "outputs": [
    {
     "data": {
      "text/plain": [
       "True"
      ]
     },
     "execution_count": 9,
     "metadata": {},
     "output_type": "execute_result"
    }
   ],
   "source": [
    "# Use the isinstance(object,class) method to check if an object belonged to an class\n",
    "isinstance(h2,human)\n",
    "# True if the object is an instantiaon of the class"
   ]
  },
  {
   "cell_type": "code",
   "execution_count": 2,
   "metadata": {},
   "outputs": [],
   "source": [
    "'''\n",
    "Self parameter: distinguishes methods from functions.\n",
    "Python method is like a function, except it is attached to an object. \n",
    "We call a method on an object, \n",
    "and it possibly makes changes to that object. A method, then, belongs to a class\n",
    "'''\n",
    "class Class:\n",
    "    def method(self):\n",
    "        print('I have a self!')\n",
    "def function():\n",
    "    print(\"I don't...\")"
   ]
  },
  {
   "cell_type": "code",
   "execution_count": 3,
   "metadata": {},
   "outputs": [
    {
     "name": "stdout",
     "output_type": "stream",
     "text": [
      "I have a self!\n"
     ]
    }
   ],
   "source": [
    "instance = Class()\n",
    "instance.method()"
   ]
  },
  {
   "cell_type": "code",
   "execution_count": 4,
   "metadata": {},
   "outputs": [
    {
     "name": "stdout",
     "output_type": "stream",
     "text": [
      "I don't...\n"
     ]
    }
   ],
   "source": [
    "instance.method = function\n",
    "instance.method()"
   ]
  },
  {
   "cell_type": "code",
   "execution_count": 8,
   "metadata": {},
   "outputs": [
    {
     "name": "stdout",
     "output_type": "stream",
     "text": [
      "Hi, My name is Harry\n",
      "Hi, My name is Raj\n"
     ]
    }
   ],
   "source": [
    "# we can also modify value of the objects\n",
    "class human:\n",
    "    def __init__(self,name,age):\n",
    "        self.name = name\n",
    "        self.age = age\n",
    "    def methods(self):\n",
    "        print('Hi, My name is '+ self.name)\n",
    "        \n",
    "h1 = human('Harry', 23)\n",
    "h1.methods()\n",
    "\n",
    "h1.name = \"Raj\"                # Modifying the values\n",
    "h1.age = 29\n",
    "h1.methods()"
   ]
  },
  {
   "cell_type": "code",
   "execution_count": 9,
   "metadata": {},
   "outputs": [],
   "source": [
    "# Deleting the object\n",
    "del h1"
   ]
  },
  {
   "cell_type": "code",
   "execution_count": 10,
   "metadata": {},
   "outputs": [
    {
     "ename": "NameError",
     "evalue": "name 'h1' is not defined",
     "output_type": "error",
     "traceback": [
      "\u001b[1;31m---------------------------------------------------------------------------\u001b[0m",
      "\u001b[1;31mNameError\u001b[0m                                 Traceback (most recent call last)",
      "\u001b[1;32m<ipython-input-10-207afebf6841>\u001b[0m in \u001b[0;36m<module>\u001b[1;34m\u001b[0m\n\u001b[1;32m----> 1\u001b[1;33m \u001b[0mh1\u001b[0m\u001b[1;33m.\u001b[0m\u001b[0mmethods\u001b[0m\u001b[1;33m(\u001b[0m\u001b[1;33m)\u001b[0m\u001b[1;33m\u001b[0m\u001b[1;33m\u001b[0m\u001b[0m\n\u001b[0m",
      "\u001b[1;31mNameError\u001b[0m: name 'h1' is not defined"
     ]
    }
   ],
   "source": [
    "h1.methods()"
   ]
  },
  {
   "cell_type": "code",
   "execution_count": 11,
   "metadata": {},
   "outputs": [
    {
     "ename": "SyntaxError",
     "evalue": "unexpected EOF while parsing (<ipython-input-11-e6c246b33605>, line 2)",
     "output_type": "error",
     "traceback": [
      "\u001b[1;36m  File \u001b[1;32m\"<ipython-input-11-e6c246b33605>\"\u001b[1;36m, line \u001b[1;32m2\u001b[0m\n\u001b[1;33m    class empty:\u001b[0m\n\u001b[1;37m                ^\u001b[0m\n\u001b[1;31mSyntaxError\u001b[0m\u001b[1;31m:\u001b[0m unexpected EOF while parsing\n"
     ]
    }
   ],
   "source": [
    "# We can not have empty classes\n",
    "class empty:"
   ]
  },
  {
   "cell_type": "code",
   "execution_count": 12,
   "metadata": {},
   "outputs": [],
   "source": [
    "# If we want empty class then\n",
    "class empty:\n",
    "    pass"
   ]
  },
  {
   "cell_type": "code",
   "execution_count": 23,
   "metadata": {},
   "outputs": [
    {
     "name": "stdout",
     "output_type": "stream",
     "text": [
      "The secret message is:\n",
      "Bet you can't see me ...\n"
     ]
    }
   ],
   "source": [
    "# Privacy\n",
    "class Secretive:\n",
    "    def __inaccessible(self):\n",
    "        print(\"Bet you can't see me ...\")\n",
    "    def accessible(self):\n",
    "        print(\"The secret message is:\")\n",
    "        self.__allow\n",
    "        self.__inaccessible()\n",
    "                \n",
    "ob = Secretive()\n",
    "ob.accessible()"
   ]
  },
  {
   "cell_type": "code",
   "execution_count": 17,
   "metadata": {},
   "outputs": [
    {
     "ename": "AttributeError",
     "evalue": "'Secretive' object has no attribute '__inaccessible'",
     "output_type": "error",
     "traceback": [
      "\u001b[1;31m---------------------------------------------------------------------------\u001b[0m",
      "\u001b[1;31mAttributeError\u001b[0m                            Traceback (most recent call last)",
      "\u001b[1;32m<ipython-input-17-d343b69db5e8>\u001b[0m in \u001b[0;36m<module>\u001b[1;34m\u001b[0m\n\u001b[1;32m----> 1\u001b[1;33m \u001b[0mob\u001b[0m\u001b[1;33m.\u001b[0m\u001b[0m__inaccessible\u001b[0m\u001b[1;33m(\u001b[0m\u001b[1;33m)\u001b[0m\u001b[1;33m\u001b[0m\u001b[1;33m\u001b[0m\u001b[0m\n\u001b[0m",
      "\u001b[1;31mAttributeError\u001b[0m: 'Secretive' object has no attribute '__inaccessible'"
     ]
    }
   ],
   "source": [
    "ob.__inaccessible()"
   ]
  },
  {
   "cell_type": "code",
   "execution_count": 1,
   "metadata": {},
   "outputs": [
    {
     "name": "stdout",
     "output_type": "stream",
     "text": [
      "1\n"
     ]
    }
   ],
   "source": [
    "class MemberCounter:\n",
    "    members = 0\n",
    "    def init(self):\n",
    "        MemberCounter.members += 1\n",
    "        \n",
    "ab = MemberCounter()\n",
    "ab.init()\n",
    "print(ab.members)\n",
    "# members is available to all objects"
   ]
  },
  {
   "cell_type": "code",
   "execution_count": 2,
   "metadata": {},
   "outputs": [
    {
     "name": "stdout",
     "output_type": "stream",
     "text": [
      "2\n"
     ]
    }
   ],
   "source": [
    "ab1 = MemberCounter()\n",
    "ab1.init()\n",
    "print(ab1.members)"
   ]
  },
  {
   "cell_type": "code",
   "execution_count": 4,
   "metadata": {},
   "outputs": [
    {
     "data": {
      "text/plain": [
       "3"
      ]
     },
     "execution_count": 4,
     "metadata": {},
     "output_type": "execute_result"
    }
   ],
   "source": [
    "ab.members=3\n",
    "ab.members"
   ]
  },
  {
   "cell_type": "code",
   "execution_count": 5,
   "metadata": {},
   "outputs": [
    {
     "data": {
      "text/plain": [
       "2"
      ]
     },
     "execution_count": 5,
     "metadata": {},
     "output_type": "execute_result"
    }
   ],
   "source": [
    "ab1.members"
   ]
  },
  {
   "cell_type": "markdown",
   "metadata": {},
   "source": [
    "## Inheritance"
   ]
  },
  {
   "cell_type": "code",
   "execution_count": 6,
   "metadata": {},
   "outputs": [],
   "source": [
    "class Father:                   # super class\n",
    "    name = None\n",
    "    lname = \"Paliwal\"\n",
    "    def fname(self, a):\n",
    "        self.name = a\n",
    "        \n",
    "class Son(Father):            # subclass\n",
    "    def fname(self,b):\n",
    "        self.name = b"
   ]
  },
  {
   "cell_type": "code",
   "execution_count": 8,
   "metadata": {},
   "outputs": [],
   "source": [
    "ob = Father()\n",
    "ob.fname(\"Rajesh\")"
   ]
  },
  {
   "cell_type": "code",
   "execution_count": 9,
   "metadata": {},
   "outputs": [],
   "source": [
    "ob1 = Son()\n",
    "ob1.fname(\"Krishang\")"
   ]
  },
  {
   "cell_type": "code",
   "execution_count": 10,
   "metadata": {},
   "outputs": [
    {
     "name": "stdout",
     "output_type": "stream",
     "text": [
      "Krishang Paliwal\n",
      "Rajesh Paliwal\n"
     ]
    }
   ],
   "source": [
    "print(ob1.name, ob1.lname)\n",
    "print(ob.name, ob.lname)"
   ]
  },
  {
   "cell_type": "code",
   "execution_count": 11,
   "metadata": {},
   "outputs": [
    {
     "data": {
      "text/plain": [
       "True"
      ]
     },
     "execution_count": 11,
     "metadata": {},
     "output_type": "execute_result"
    }
   ],
   "source": [
    "# issubclass(child, parent) - To check if a class is a subclass of any class\n",
    "issubclass(Son, Father)"
   ]
  },
  {
   "cell_type": "code",
   "execution_count": 12,
   "metadata": {},
   "outputs": [
    {
     "data": {
      "text/plain": [
       "(__main__.Father,)"
      ]
     },
     "execution_count": 12,
     "metadata": {},
     "output_type": "execute_result"
    }
   ],
   "source": [
    "#If you have a class and want to know its base classes\n",
    "Son.__bases__"
   ]
  },
  {
   "cell_type": "code",
   "execution_count": 13,
   "metadata": {},
   "outputs": [
    {
     "data": {
      "text/plain": [
       "(object,)"
      ]
     },
     "execution_count": 13,
     "metadata": {},
     "output_type": "execute_result"
    }
   ],
   "source": [
    "Father.__bases__"
   ]
  },
  {
   "cell_type": "code",
   "execution_count": 15,
   "metadata": {},
   "outputs": [
    {
     "name": "stdout",
     "output_type": "stream",
     "text": [
      "Eat a lot\n",
      "Studies completed\n",
      "Studies ongoing\n"
     ]
    }
   ],
   "source": [
    "#Multiple Super Classes\n",
    "class LivingBeing:                  # First super class\n",
    "    def Eat(self):\n",
    "        print(\"Eat a lot\")\n",
    "\n",
    "class Engineer:                     # Second super class\n",
    "    def work(self):\n",
    "        print(\"Studies completed\")\n",
    "        \n",
    "class EngineeringStudent(LivingBeing, Engineer):         # Sub class\n",
    "    def status(self):\n",
    "        print(\"Studies ongoing\")\n",
    "        \n",
    "obj = EngineeringStudent()\n",
    "obj.Eat()\n",
    "obj.work()\n",
    "obj.status()"
   ]
  },
  {
   "cell_type": "code",
   "execution_count": 16,
   "metadata": {},
   "outputs": [
    {
     "data": {
      "text/plain": [
       "(__main__.LivingBeing, __main__.Engineer)"
      ]
     },
     "execution_count": 16,
     "metadata": {},
     "output_type": "execute_result"
    }
   ],
   "source": [
    "EngineeringStudent.__bases__"
   ]
  },
  {
   "cell_type": "code",
   "execution_count": 17,
   "metadata": {},
   "outputs": [
    {
     "ename": "AttributeError",
     "evalue": "'LivingBeing' object has no attribute 'status'",
     "output_type": "error",
     "traceback": [
      "\u001b[1;31m---------------------------------------------------------------------------\u001b[0m",
      "\u001b[1;31mAttributeError\u001b[0m                            Traceback (most recent call last)",
      "\u001b[1;32m<ipython-input-17-f8c27f83c808>\u001b[0m in \u001b[0;36m<module>\u001b[1;34m\u001b[0m\n\u001b[0;32m      1\u001b[0m \u001b[0maa\u001b[0m \u001b[1;33m=\u001b[0m \u001b[0mLivingBeing\u001b[0m\u001b[1;33m(\u001b[0m\u001b[1;33m)\u001b[0m\u001b[1;33m\u001b[0m\u001b[1;33m\u001b[0m\u001b[0m\n\u001b[1;32m----> 2\u001b[1;33m \u001b[0maa\u001b[0m\u001b[1;33m.\u001b[0m\u001b[0mstatus\u001b[0m\u001b[1;33m(\u001b[0m\u001b[1;33m)\u001b[0m\u001b[1;33m\u001b[0m\u001b[1;33m\u001b[0m\u001b[0m\n\u001b[0m",
      "\u001b[1;31mAttributeError\u001b[0m: 'LivingBeing' object has no attribute 'status'"
     ]
    }
   ],
   "source": [
    "aa = LivingBeing()\n",
    "aa.status()"
   ]
  },
  {
   "cell_type": "code",
   "execution_count": 22,
   "metadata": {},
   "outputs": [
    {
     "name": "stdout",
     "output_type": "stream",
     "text": [
      "Studies completed\n"
     ]
    }
   ],
   "source": [
    "class Engineer:                    # Parent class\n",
    "    def Eat(self):\n",
    "        print(\"Studies completed\")\n",
    "        \n",
    "class EngineeringStudent(Engineer,LivingBeing):          # Child class\n",
    "    def Eat(self):                             # Overrides method of parent class \n",
    "        print(\"Studies ongoing\")\n",
    "        \n",
    "obj = Engineer()              # Object of parent class\n",
    "obj.Eat()"
   ]
  },
  {
   "cell_type": "code",
   "execution_count": 23,
   "metadata": {},
   "outputs": [
    {
     "name": "stdout",
     "output_type": "stream",
     "text": [
      "Studies ongoing\n"
     ]
    }
   ],
   "source": [
    "obj1 = EngineeringStudent()          # Object of child class \n",
    "obj1.Eat()"
   ]
  },
  {
   "cell_type": "code",
   "execution_count": 27,
   "metadata": {},
   "outputs": [
    {
     "name": "stdout",
     "output_type": "stream",
     "text": [
      "Eat a lot\n"
     ]
    }
   ],
   "source": [
    "class LivingBeing:\n",
    "    def Eat(self):\n",
    "        print(\"Eat a lot\")\n",
    "\n",
    "class Engineer:\n",
    "    def Eat(self):\n",
    "        print(\"No Food\")\n",
    "        \n",
    "class EngineeringStudent(LivingBeing, Engineer):\n",
    "    pass\n",
    "# The method of parent class which is wrtten first is executed, here LivingBeing\n",
    "     \n",
    "obj = EngineeringStudent()\n",
    "obj.Eat()"
   ]
  },
  {
   "cell_type": "code",
   "execution_count": 26,
   "metadata": {},
   "outputs": [
    {
     "name": "stdout",
     "output_type": "stream",
     "text": [
      "No Food\n"
     ]
    }
   ],
   "source": [
    "class LivingBeing:\n",
    "    def Eat(self):\n",
    "        print(\"Eat a lot\")\n",
    "\n",
    "class Engineer:\n",
    "    def Eat(self):\n",
    "        print(\"No Food\")\n",
    "        \n",
    "class EngineeringStudent(Engineer, LivingBeing):\n",
    "    pass\n",
    "# The method of parent class which is wrtten first is executed, here Engineer\n",
    "        \n",
    "obj = EngineeringStudent()\n",
    "obj.Eat()"
   ]
  },
  {
   "cell_type": "code",
   "execution_count": 28,
   "metadata": {},
   "outputs": [],
   "source": [
    "# Abstract Base Classes\n",
    "from abc import ABC, abstractmethod\n",
    "class Talker(ABC):\n",
    "    @abstractmethod\n",
    "    def talk(self):\n",
    "        pass"
   ]
  },
  {
   "cell_type": "code",
   "execution_count": 29,
   "metadata": {},
   "outputs": [
    {
     "name": "stdout",
     "output_type": "stream",
     "text": [
      "Hi!\n"
     ]
    }
   ],
   "source": [
    "class Knigget(Talker):\n",
    "    def talk(self):\n",
    "        print(\"Hi!\")\n",
    "        \n",
    "k = Knigget()\n",
    "k.talk()"
   ]
  },
  {
   "cell_type": "code",
   "execution_count": 31,
   "metadata": {},
   "outputs": [
    {
     "ename": "TypeError",
     "evalue": "Can't instantiate abstract class Talker with abstract methods talk",
     "output_type": "error",
     "traceback": [
      "\u001b[1;31m---------------------------------------------------------------------------\u001b[0m",
      "\u001b[1;31mTypeError\u001b[0m                                 Traceback (most recent call last)",
      "\u001b[1;32m<ipython-input-31-edbb36030068>\u001b[0m in \u001b[0;36m<module>\u001b[1;34m\u001b[0m\n\u001b[0;32m      1\u001b[0m \u001b[1;31m# We can not instantiate object of anstract class\u001b[0m\u001b[1;33m\u001b[0m\u001b[1;33m\u001b[0m\u001b[1;33m\u001b[0m\u001b[0m\n\u001b[1;32m----> 2\u001b[1;33m \u001b[0mt\u001b[0m \u001b[1;33m=\u001b[0m \u001b[0mTalker\u001b[0m\u001b[1;33m(\u001b[0m\u001b[1;33m)\u001b[0m\u001b[1;33m\u001b[0m\u001b[1;33m\u001b[0m\u001b[0m\n\u001b[0m",
      "\u001b[1;31mTypeError\u001b[0m: Can't instantiate abstract class Talker with abstract methods talk"
     ]
    }
   ],
   "source": [
    "# We can not instantiate object of anstract class\n",
    "t = Talker()"
   ]
  },
  {
   "cell_type": "code",
   "execution_count": 32,
   "metadata": {},
   "outputs": [],
   "source": [
    "# Registering New class below ABC\n",
    "class Herring:\n",
    "    def talk(self):\n",
    "        print(\"Blub.\")"
   ]
  },
  {
   "cell_type": "code",
   "execution_count": 33,
   "metadata": {},
   "outputs": [
    {
     "data": {
      "text/plain": [
       "False"
      ]
     },
     "execution_count": 33,
     "metadata": {},
     "output_type": "execute_result"
    }
   ],
   "source": [
    "h = Herring()\n",
    "isinstance(h, Talker)"
   ]
  },
  {
   "cell_type": "code",
   "execution_count": 34,
   "metadata": {},
   "outputs": [
    {
     "data": {
      "text/plain": [
       "__main__.Herring"
      ]
     },
     "execution_count": 34,
     "metadata": {},
     "output_type": "execute_result"
    }
   ],
   "source": [
    "Talker.register(Herring)"
   ]
  },
  {
   "cell_type": "code",
   "execution_count": 35,
   "metadata": {},
   "outputs": [
    {
     "name": "stdout",
     "output_type": "stream",
     "text": [
      "True\n",
      "True\n"
     ]
    }
   ],
   "source": [
    "print(isinstance(h, Talker))\n",
    "print(issubclass(Herring, Talker))"
   ]
  },
  {
   "cell_type": "markdown",
   "metadata": {},
   "source": [
    "## Operator Overloading "
   ]
  },
  {
   "cell_type": "code",
   "execution_count": 38,
   "metadata": {},
   "outputs": [
    {
     "data": {
      "text/plain": [
       "43"
      ]
     },
     "execution_count": 38,
     "metadata": {},
     "output_type": "execute_result"
    }
   ],
   "source": [
    "age_1 = 21\n",
    "age_2 = 22\n",
    " \n",
    "age_1 + age_2"
   ]
  },
  {
   "cell_type": "code",
   "execution_count": 39,
   "metadata": {},
   "outputs": [
    {
     "data": {
      "text/plain": [
       "43"
      ]
     },
     "execution_count": 39,
     "metadata": {},
     "output_type": "execute_result"
    }
   ],
   "source": [
    "age_1.__add__(age_2)\n",
    "# When we use + to add two objects (not just numbers), python will automatically invoke \n",
    "# the __add__() method of one of the objects."
   ]
  },
  {
   "cell_type": "code",
   "execution_count": 42,
   "metadata": {},
   "outputs": [
    {
     "ename": "TypeError",
     "evalue": "unsupported operand type(s) for +: 'Account' and 'Account'",
     "output_type": "error",
     "traceback": [
      "\u001b[1;31m---------------------------------------------------------------------------\u001b[0m",
      "\u001b[1;31mTypeError\u001b[0m                                 Traceback (most recent call last)",
      "\u001b[1;32m<ipython-input-42-77e25d0ea0bc>\u001b[0m in \u001b[0;36m<module>\u001b[1;34m\u001b[0m\n\u001b[0;32m      7\u001b[0m \u001b[0macc_2\u001b[0m \u001b[1;33m=\u001b[0m \u001b[0mAccount\u001b[0m\u001b[1;33m(\u001b[0m\u001b[1;36m2000\u001b[0m\u001b[1;33m)\u001b[0m\u001b[1;33m\u001b[0m\u001b[1;33m\u001b[0m\u001b[0m\n\u001b[0;32m      8\u001b[0m \u001b[1;33m\u001b[0m\u001b[0m\n\u001b[1;32m----> 9\u001b[1;33m \u001b[0mtotal_balance\u001b[0m \u001b[1;33m=\u001b[0m \u001b[0macc_1\u001b[0m \u001b[1;33m+\u001b[0m \u001b[0macc_2\u001b[0m\u001b[1;33m\u001b[0m\u001b[1;33m\u001b[0m\u001b[0m\n\u001b[0m\u001b[0;32m     10\u001b[0m \u001b[1;31m# Objects cannot be added together.\u001b[0m\u001b[1;33m\u001b[0m\u001b[1;33m\u001b[0m\u001b[1;33m\u001b[0m\u001b[0m\n\u001b[0;32m     11\u001b[0m \u001b[1;31m# Now,let’s try to give the Account class an add method and give the same operation a try again\u001b[0m\u001b[1;33m\u001b[0m\u001b[1;33m\u001b[0m\u001b[1;33m\u001b[0m\u001b[0m\n",
      "\u001b[1;31mTypeError\u001b[0m: unsupported operand type(s) for +: 'Account' and 'Account'"
     ]
    }
   ],
   "source": [
    "# Let's try our own add operation on our custom classes and perform a custom add \n",
    "class Account : \n",
    "     def __init__ ( self, balance) :\n",
    "        self.balance  = balance\n",
    "\n",
    "acc_1 = Account(5000)\n",
    "acc_2 = Account(2000)\n",
    " \n",
    "total_balance = acc_1 + acc_2\n",
    "# Objects cannot be added together. \n",
    "# Now,let’s try to give the Account class an add method and give the same operation a try again"
   ]
  },
  {
   "cell_type": "code",
   "execution_count": 43,
   "metadata": {},
   "outputs": [
    {
     "data": {
      "text/plain": [
       "7000"
      ]
     },
     "execution_count": 43,
     "metadata": {},
     "output_type": "execute_result"
    }
   ],
   "source": [
    "# define a function\n",
    "def __add__(self,account):\n",
    "    return self.balance + account.balance\n",
    "\n",
    "# Dynamically set the function as a method of the class \"Account\"\n",
    "setattr(Account, '__add__', __add__)\n",
    "\n",
    "total_balance = acc_1 + acc_2\n",
    "total_balance"
   ]
  },
  {
   "cell_type": "markdown",
   "metadata": {},
   "source": [
    "## Challenge "
   ]
  },
  {
   "cell_type": "code",
   "execution_count": 45,
   "metadata": {},
   "outputs": [],
   "source": [
    "'''Create a method – interest_accrued ( ) – that calculates the interest accrued this year.\n",
    "Assume a balance of 1000'''\n",
    "\n",
    "from datetime import date\n",
    " \n",
    "class Account : \n",
    "    def __init__ ( self, number ) :\n",
    "        self.number = number\n",
    "      \n",
    "    def account_type(self) :\n",
    "        # Get the account type\n",
    "        if str(self.number).startswith(\"1\") :\n",
    "            self.type = \"current\"\n",
    "        elif str(self.number).startswith(\"2\") :\n",
    "            self.type = \"saving\"\n",
    "     \n",
    "    def interest_rate(self) :\n",
    "         \n",
    "        self.account_type()\n",
    "        if self.type == \"current\" :\n",
    "            self.interest = 0\n",
    "        elif self.type == \"saving\" :\n",
    "            self.interest = 5\n",
    "        return self.interest\n",
    "     \n",
    "    def interest_accrued(self) :\n",
    "     \n",
    "        # call interest_rate to determine the interest rate\n",
    "        self.interest_rate()\n",
    " \n",
    "        self.balance = 1000\n",
    " \n",
    "        # to calculate the number of days in the year so far, include datetime above the class \n",
    "        #definition\n",
    "        current_date   = date.today()\n",
    "        beginning_date = date(current_date.year, 1,1)\n",
    " \n",
    "        self.interest_accrued = self.balance * (abs(current_date - beginning_date ).days / 365)* self.interest / 100"
   ]
  },
  {
   "cell_type": "code",
   "execution_count": 46,
   "metadata": {},
   "outputs": [
    {
     "name": "stdout",
     "output_type": "stream",
     "text": [
      "1000\n"
     ]
    },
    {
     "data": {
      "text/plain": [
       "16.164383561643834"
      ]
     },
     "execution_count": 46,
     "metadata": {},
     "output_type": "execute_result"
    }
   ],
   "source": [
    "acc = Account(2001)\n",
    "acc.interest_accrued()\n",
    "print ( acc.balance )\n",
    "acc.interest_accrued"
   ]
  },
  {
   "cell_type": "code",
   "execution_count": 49,
   "metadata": {},
   "outputs": [
    {
     "data": {
      "text/plain": [
       "True"
      ]
     },
     "execution_count": 49,
     "metadata": {},
     "output_type": "execute_result"
    }
   ],
   "source": [
    "# Create a eq method that compares the account balance of two accounts and returns True if the\n",
    "# balances are equal. \n",
    "\n",
    "class Account : \n",
    "     def __init__ ( self, balance) :\n",
    "        self.balance = balance\n",
    "\n",
    "acc_1 = Account(5000)\n",
    "acc_2 = Account(5000)\n",
    "\n",
    "# define a function\n",
    "def __eq__(self,account):\n",
    "    return self.balance == account.balance\n",
    "\n",
    "# Dynamically set the function as a method of the class \"Account\"\n",
    "setattr(Account, '__eq__', __eq__)\n",
    "\n",
    "total_balance = acc_1 == acc_2\n",
    "total_balance"
   ]
  },
  {
   "cell_type": "code",
   "execution_count": null,
   "metadata": {},
   "outputs": [],
   "source": []
  }
 ],
 "metadata": {
  "kernelspec": {
   "display_name": "Python 3",
   "language": "python",
   "name": "python3"
  },
  "language_info": {
   "codemirror_mode": {
    "name": "ipython",
    "version": 3
   },
   "file_extension": ".py",
   "mimetype": "text/x-python",
   "name": "python",
   "nbconvert_exporter": "python",
   "pygments_lexer": "ipython3",
   "version": "3.8.3"
  }
 },
 "nbformat": 4,
 "nbformat_minor": 4
}
