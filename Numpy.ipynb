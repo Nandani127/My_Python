{
 "cells": [
  {
   "cell_type": "code",
   "execution_count": 1,
   "metadata": {},
   "outputs": [
    {
     "name": "stdout",
     "output_type": "stream",
     "text": [
      "7 7\n"
     ]
    },
    {
     "data": {
      "text/plain": [
       "[<matplotlib.lines.Line2D at 0x1a485e75040>]"
      ]
     },
     "execution_count": 1,
     "metadata": {},
     "output_type": "execute_result"
    },
    {
     "data": {
      "image/png": "[encoded data removed]",
      "text/plain": [
       "<Figure size 432x288 with 1 Axes>"
      ]
     },
     "metadata": {
      "needs_background": "light"
     },
     "output_type": "display_data"
    }
   ],
   "source": [
    "#Simple pendulum program using lists\n",
    "L = [0.2, 0.3, 0.4, 0.5, 0.6, 0.7, 0.8]           #length of pendulum\n",
    "t = [0.90, 1.19, 1.30, 1.47, 1.58, 1.77, 1.83]    #Time period of oscillation\n",
    "    \n",
    "#Defining a function to find suare\n",
    "def sr(arr):\n",
    "    result = []\n",
    "    for time in arr:\n",
    "        result.append(time*time)\n",
    "    return result\n",
    "\n",
    "#Plotting L vs t^2\n",
    "from pylab import *\n",
    "plot(L,sr(t))\n",
    "\n"
   ]
  },
  {
   "cell_type": "code",
   "execution_count": 4,
   "metadata": {},
   "outputs": [
    {
     "name": "stdout",
     "output_type": "stream",
     "text": [
      "[0.81   1.4161 1.69   2.1609 2.4964 3.1329 3.3489]\n"
     ]
    },
    {
     "data": {
      "text/plain": [
       "[<matplotlib.lines.Line2D at 0x1a486009700>]"
      ]
     },
     "execution_count": 4,
     "metadata": {},
     "output_type": "execute_result"
    },
    {
     "data": {
      "image/png": "[encoded data removed]",
      "text/plain": [
       "<Figure size 432x288 with 1 Axes>"
      ]
     },
     "metadata": {
      "needs_background": "light"
     },
     "output_type": "display_data"
    }
   ],
   "source": [
    "import numpy as np\n",
    "#Using numpy array\n",
    "new_t = np.array(t)                     # t is a list and new_t is an array           \n",
    "ts = new_t*new_t                           #Does the same work\n",
    "print(ts)\n",
    "plt.plot(L, ts)"
   ]
  },
  {
   "cell_type": "markdown",
   "metadata": {},
   "source": [
    "Why Numpy"
   ]
  },
  {
   "cell_type": "code",
   "execution_count": 1,
   "metadata": {},
   "outputs": [
    {
     "name": "stdout",
     "output_type": "stream",
     "text": [
      "sum =  49999995000000\n",
      "time taken =  2.047139883041382\n"
     ]
    }
   ],
   "source": [
    "#Let’s do a simple numeric operation – Summing up the first million numbers.\n",
    "\n",
    "# without numpy\n",
    "import time \n",
    " \n",
    "sum = 0\n",
    " \n",
    "start_time = time.time()                       # starting timer\n",
    " \n",
    "for num in range(10000000) :\n",
    "    sum = sum + num\n",
    "     \n",
    "print ( \"sum = \", sum)\n",
    " \n",
    "end_time = time.time()                       # ending timer\n",
    " \n",
    "python_time = end_time - start_time         # total time to execute code\n",
    " \n",
    "print ( \"time taken = \", python_time)"
   ]
  },
  {
   "cell_type": "code",
   "execution_count": 2,
   "metadata": {},
   "outputs": [
    {
     "name": "stdout",
     "output_type": "stream",
     "text": [
      "sum =  49999995000000\n",
      "time taken =  0.11945223808288574\n",
      "numpy is  17.137727311738676  times faster than standard python\n"
     ]
    }
   ],
   "source": [
    "# with numpy\n",
    "import numpy as np\n",
    "import time\n",
    " \n",
    "sum = 0\n",
    " \n",
    "start_time = time.time()\n",
    " \n",
    "numbers = np.arange(10000000)\n",
    " \n",
    "sum = np.sum(numbers, dtype = np.uint64)\n",
    "print ( \"sum = \", sum)\n",
    " \n",
    "end_time = time.time()\n",
    " \n",
    "numpy_time = end_time - start_time\n",
    "factor = python_time / numpy_time\n",
    " \n",
    "print ( \"time taken = \", (end_time - start_time))\n",
    " \n",
    "print ( \"numpy is \", factor , \" times faster than standard python\")"
   ]
  },
  {
   "cell_type": "code",
   "execution_count": 5,
   "metadata": {},
   "outputs": [],
   "source": [
    "#Let's use 'range' to create a large list\n",
    "t = range(1000000)\n",
    "ts = sr(t)"
   ]
  },
  {
   "cell_type": "code",
   "execution_count": 6,
   "metadata": {},
   "outputs": [],
   "source": [
    "# Now trying it with array\n",
    "new_t = np.array(t)\n",
    "new_ts = new_t * new_t"
   ]
  },
  {
   "cell_type": "code",
   "execution_count": 7,
   "metadata": {},
   "outputs": [
    {
     "name": "stdout",
     "output_type": "stream",
     "text": [
      "208 ms ± 10.7 ms per loop (mean ± std. dev. of 7 runs, 1 loop each)\n"
     ]
    }
   ],
   "source": [
    "# Now finding the time taken by lists and numpy array to execute the above expressions\n",
    "\n",
    "%timeit sr(t)             # Time by function sr(t) to calculate suare"
   ]
  },
  {
   "cell_type": "code",
   "execution_count": 10,
   "metadata": {},
   "outputs": [
    {
     "name": "stdout",
     "output_type": "stream",
     "text": [
      "2.97 ms ± 339 µs per loop (mean ± std. dev. of 7 runs, 100 loops each)\n"
     ]
    }
   ],
   "source": [
    "%timeit new_t * new_t     # Time by numpy array to calculate suare\n",
    "\n",
    "'''Since numpy arrays(2.97 ms) are extremely faster than lists(208 ms), therefore numpy arrays are\n",
    "preffered over lists'''"
   ]
  },
  {
   "cell_type": "code",
   "execution_count": 11,
   "metadata": {},
   "outputs": [],
   "source": [
    "%timeit?             # to get help on %timeit"
   ]
  },
  {
   "cell_type": "code",
   "execution_count": 1,
   "metadata": {},
   "outputs": [],
   "source": [
    "import numpy as np"
   ]
  },
  {
   "cell_type": "markdown",
   "metadata": {},
   "source": [
    "Numpy array properties"
   ]
  },
  {
   "cell_type": "code",
   "execution_count": 35,
   "metadata": {},
   "outputs": [
    {
     "name": "stdout",
     "output_type": "stream",
     "text": [
      "[ 0  1  2  3  4  5  6  7  8  9 10 11 12 13 14]\n",
      "(15,)\n",
      "int32\n",
      "1\n",
      "15\n"
     ]
    }
   ],
   "source": [
    "a = np.arange(15)            # creates list from 0 to 14\n",
    "print(a)\n",
    "\n",
    "# array.shape - gives shape of the array\n",
    "print(a.shape)            # represents a vector\n",
    "\n",
    "# array.dtype - gives data type of elements of array\n",
    "print(a.dtype)\n",
    "\n",
    "# array.ndim - gives dimensions of array (no. of axes)\n",
    "print(a.ndim)       # 1d array (vector)\n",
    "\n",
    "# array.size - gives no. of elements (fixed size)\n",
    "print(a.size)"
   ]
  },
  {
   "cell_type": "code",
   "execution_count": 37,
   "metadata": {},
   "outputs": [
    {
     "name": "stdout",
     "output_type": "stream",
     "text": [
      "[ 0  1  2  3  4  5  6  7  8  9 10 11 12 13 14]\n",
      "[[ 0  1  2  3  4]\n",
      " [ 5  6  7  8  9]\n",
      " [10 11 12 13 14]]\n",
      "(3, 5)\n",
      "2\n",
      "15\n",
      "int32\n"
     ]
    }
   ],
   "source": [
    "# array.reshape(row,column) - reshapes the array according to given dimensions\n",
    "#(unless and until size is same)\n",
    "b = a.reshape(3,5)         \n",
    "print(a)\n",
    "print(b)\n",
    "print(b.shape)            # represents a matrix\n",
    "print(b.ndim)            # 2d array (matrix)\n",
    "print(b.size)\n",
    "print(b.dtype)"
   ]
  },
  {
   "cell_type": "code",
   "execution_count": 9,
   "metadata": {},
   "outputs": [
    {
     "data": {
      "text/plain": [
       "array([[ 1,  2],\n",
       "       [ 3,  4],\n",
       "       [ 5,  6],\n",
       "       [ 7,  8],\n",
       "       [ 9, 10],\n",
       "       [11, 12]])"
      ]
     },
     "execution_count": 9,
     "metadata": {},
     "output_type": "execute_result"
    }
   ],
   "source": [
    "# we can also reshape if number of rows/columns is unknown \n",
    "\n",
    "numbers = np.arange(1,13)\n",
    "numbers.reshape(-1,2)                        # 6 x 2"
   ]
  },
  {
   "cell_type": "code",
   "execution_count": 10,
   "metadata": {},
   "outputs": [
    {
     "data": {
      "text/plain": [
       "array([[ 1,  2,  3,  4,  5,  6],\n",
       "       [ 7,  8,  9, 10, 11, 12]])"
      ]
     },
     "execution_count": 10,
     "metadata": {},
     "output_type": "execute_result"
    }
   ],
   "source": [
    "numbers.reshape(2,-1)                       # 2x6"
   ]
  },
  {
   "cell_type": "code",
   "execution_count": 48,
   "metadata": {},
   "outputs": [
    {
     "name": "stdout",
     "output_type": "stream",
     "text": [
      "[[1 2 3 4]\n",
      " [8 9 6 5]]\n",
      "(2, 4)\n",
      "2\n"
     ]
    }
   ],
   "source": [
    "# declaring 2d array\n",
    "x = np.array([[1,2,3,4],[8,9,6,5]])\n",
    "print(x)\n",
    "print(x.shape)\n",
    "print(x.ndim)"
   ]
  },
  {
   "cell_type": "code",
   "execution_count": 49,
   "metadata": {},
   "outputs": [
    {
     "name": "stdout",
     "output_type": "stream",
     "text": [
      "5\n",
      "[8 9 6 5]\n",
      "[8 9 6 5]\n"
     ]
    }
   ],
   "source": [
    "# accessing elements\n",
    "print(x[1,3])      # 2 row, 4 column\n",
    "print(x[1])        # 2 row \n",
    "print(x[-1])"
   ]
  },
  {
   "cell_type": "code",
   "execution_count": 50,
   "metadata": {},
   "outputs": [
    {
     "name": "stdout",
     "output_type": "stream",
     "text": [
      "[[1 2 3 4]\n",
      " [0 0 0 0]]\n"
     ]
    }
   ],
   "source": [
    "x[1] = 0          # setting entire 2nd row to 0\n",
    "print(x)"
   ]
  },
  {
   "cell_type": "code",
   "execution_count": 51,
   "metadata": {},
   "outputs": [
    {
     "name": "stdout",
     "output_type": "stream",
     "text": [
      "[[[ 0  1  2  3]\n",
      "  [ 4  5  6  7]]\n",
      "\n",
      " [[ 8  9 10 11]\n",
      "  [12 13 14 15]]]\n"
     ]
    }
   ],
   "source": [
    "c = np.arange(16).reshape(2,2,4)       # multiple commands in one statement \n",
    "# 3d array\n",
    "print(c)"
   ]
  },
  {
   "cell_type": "code",
   "execution_count": 18,
   "metadata": {},
   "outputs": [
    {
     "name": "stdout",
     "output_type": "stream",
     "text": [
      "[[1 2 3]\n",
      " [4 5 6]\n",
      " [7 8 9]]\n",
      "\n",
      "[2 3]\n",
      "\n",
      "[[5 6]\n",
      " [8 9]]\n",
      "\n",
      "[3 6 9]\n",
      "\n",
      "[[1 3]\n",
      " [7 9]]\n"
     ]
    }
   ],
   "source": [
    "# declaring 3d arrays\n",
    "a = np.array([[1,2,3], [4,5,6], [7,8,9]])\n",
    "print(a)\n",
    "print()\n",
    "#slicing array\n",
    "print(a[0, 1:3])            # 0th row 2nd-3rd column\n",
    "print()\n",
    "print(a[1:, 1:])            # row 2nd to end and column 2nd to end\n",
    "print()\n",
    "print(a[:,2])               # all rows, 3rd column\n",
    "print()\n",
    "print(a[0::2, 0::2])        # row 0 to end in steps of 2 , column 0 to end in steps of 2"
   ]
  },
  {
   "cell_type": "code",
   "execution_count": 19,
   "metadata": {},
   "outputs": [
    {
     "data": {
      "text/plain": [
       "array([[1, 2, 3],\n",
       "       [7, 8, 9]])"
      ]
     },
     "execution_count": 19,
     "metadata": {},
     "output_type": "execute_result"
    }
   ],
   "source": [
    "a[[0,2], :]                  # all columns of rows 1st and 3rd"
   ]
  },
  {
   "cell_type": "code",
   "execution_count": 31,
   "metadata": {},
   "outputs": [
    {
     "name": "stdout",
     "output_type": "stream",
     "text": [
      "(2, 2, 4)\n",
      "3\n",
      "16\n",
      "16\n",
      "int32\n",
      "4\n",
      "64\n"
     ]
    }
   ],
   "source": [
    "print(c.shape)                # shape of array (no of rows and columns)\n",
    "print(c.ndim)                 # no. of dimensions\n",
    "print(c.size)                 # no. of elements\n",
    "#or \n",
    "print(np.size(c))\n",
    "print(c.dtype)                # data type of elements\n",
    "print(c.itemsize)             # memory occupied by each element in array\n",
    "print(c.size * c.itemsize)    # total bytes taken= itemsize * size"
   ]
  },
  {
   "cell_type": "code",
   "execution_count": 41,
   "metadata": {},
   "outputs": [
    {
     "data": {
      "text/plain": [
       "15"
      ]
     },
     "execution_count": 41,
     "metadata": {},
     "output_type": "execute_result"
    }
   ],
   "source": [
    "c[1,1,3]              #axis 2 row 2 column 4"
   ]
  },
  {
   "cell_type": "code",
   "execution_count": 76,
   "metadata": {},
   "outputs": [
    {
     "name": "stdout",
     "output_type": "stream",
     "text": [
      "1 4\n"
     ]
    }
   ],
   "source": [
    "# accessing array elements\n",
    "a = np.array([1,2,3,4])\n",
    "b = np.array([2,3,4,5])\n",
    "print(a[0], a[-1])"
   ]
  },
  {
   "cell_type": "code",
   "execution_count": 77,
   "metadata": {},
   "outputs": [
    {
     "name": "stdout",
     "output_type": "stream",
     "text": [
      "[-1  2  3  4]\n"
     ]
    }
   ],
   "source": [
    "a[0] = -1               # updating 0th element (operations are element-wise)\n",
    "print(a)"
   ]
  },
  {
   "cell_type": "code",
   "execution_count": 69,
   "metadata": {},
   "outputs": [
    {
     "name": "stdout",
     "output_type": "stream",
     "text": [
      "[-1  2  3  4]\n",
      "[2 3 4 5]\n"
     ]
    }
   ],
   "source": [
    "print(a)\n",
    "print(b)"
   ]
  },
  {
   "cell_type": "markdown",
   "metadata": {},
   "source": [
    "Arithmetic Operations on numpy"
   ]
  },
  {
   "cell_type": "code",
   "execution_count": 64,
   "metadata": {},
   "outputs": [
    {
     "name": "stdout",
     "output_type": "stream",
     "text": [
      "[1 5 7 9]\n",
      "[1 5 7 9]\n"
     ]
    }
   ],
   "source": [
    "# Simple operations  (operations are elementwise)\n",
    "print(a+b)                #Addition\n",
    "print(np.add(a,b))        #or"
   ]
  },
  {
   "cell_type": "code",
   "execution_count": 65,
   "metadata": {},
   "outputs": [
    {
     "name": "stdout",
     "output_type": "stream",
     "text": [
      "[-2  6 12 20]\n",
      "[-2  6 12 20]\n"
     ]
    }
   ],
   "source": [
    "print(a*b)                #Multiplication\n",
    "print(np.multiply(a,b))  "
   ]
  },
  {
   "cell_type": "code",
   "execution_count": 66,
   "metadata": {},
   "outputs": [
    {
     "name": "stdout",
     "output_type": "stream",
     "text": [
      "[-3 -1 -1 -1]\n",
      "[-3 -1 -1 -1]\n"
     ]
    }
   ],
   "source": [
    "print(a-b)                #Subtraction\n",
    "print(np.subtract(a,b))"
   ]
  },
  {
   "cell_type": "code",
   "execution_count": 67,
   "metadata": {},
   "outputs": [
    {
     "name": "stdout",
     "output_type": "stream",
     "text": [
      "[-0.5         0.66666667  0.75        0.8       ]\n",
      "[-0.5         0.66666667  0.75        0.8       ]\n"
     ]
    }
   ],
   "source": [
    "print(a/b)                #Division\n",
    "print(np.divide(a,b))"
   ]
  },
  {
   "cell_type": "code",
   "execution_count": 68,
   "metadata": {},
   "outputs": [
    {
     "name": "stdout",
     "output_type": "stream",
     "text": [
      "[1 2 3 4]\n",
      "[1 2 3 4]\n"
     ]
    }
   ],
   "source": [
    "print(a % b)         # remainder (modulo devision)\n",
    "print(np.remainder(a,b))"
   ]
  },
  {
   "cell_type": "code",
   "execution_count": 70,
   "metadata": {},
   "outputs": [
    {
     "name": "stdout",
     "output_type": "stream",
     "text": [
      "[   1    8   81 1024]\n",
      "[   1    8   81 1024]\n"
     ]
    }
   ],
   "source": [
    "print(a ** b)       # power\n",
    "print(np.power(a,b))"
   ]
  },
  {
   "cell_type": "code",
   "execution_count": 78,
   "metadata": {},
   "outputs": [
    {
     "name": "stdout",
     "output_type": "stream",
     "text": [
      "[1 5 7 9]\n"
     ]
    }
   ],
   "source": [
    "np.add(a,b,a)        # same as a=a+b\n",
    "print(a)"
   ]
  },
  {
   "cell_type": "code",
   "execution_count": null,
   "metadata": {},
   "outputs": [],
   "source": [
    "#inplace operator\n",
    "# a += b     (a=a+b)\n",
    "# a -= b     (a=a-b)\n",
    "# a *= b     (a=a*b)\n",
    "# a /= b     (a=a/b)"
   ]
  },
  {
   "cell_type": "code",
   "execution_count": 79,
   "metadata": {},
   "outputs": [
    {
     "data": {
      "text/plain": [
       "array([3., 8., 7.])"
      ]
     },
     "execution_count": 79,
     "metadata": {},
     "output_type": "execute_result"
    }
   ],
   "source": [
    "c = np.array([1,2,3])          #int array\n",
    "d = np.array([2.,6.,4.])       #float array\n",
    "np.add(c,d)                    #result would be float array"
   ]
  },
  {
   "cell_type": "markdown",
   "metadata": {},
   "source": [
    "Relational and logical operators on numpy"
   ]
  },
  {
   "cell_type": "code",
   "execution_count": 13,
   "metadata": {},
   "outputs": [
    {
     "data": {
      "text/plain": [
       "array([[False,  True, False],\n",
       "       [False, False, False]])"
      ]
     },
     "execution_count": 13,
     "metadata": {},
     "output_type": "execute_result"
    }
   ],
   "source": [
    "# 1. == operator (compares element-wise)\n",
    "a = np.array([[1,2,3],[3,4,5]])\n",
    "b = np.array([[3,2,1],[6,5,4]])\n",
    "a == b"
   ]
  },
  {
   "cell_type": "code",
   "execution_count": 4,
   "metadata": {},
   "outputs": [
    {
     "data": {
      "text/plain": [
       "array([[False, False,  True],\n",
       "       [False, False,  True]])"
      ]
     },
     "execution_count": 4,
     "metadata": {},
     "output_type": "execute_result"
    }
   ],
   "source": [
    "# 2. > operator \n",
    "a > b"
   ]
  },
  {
   "cell_type": "code",
   "execution_count": 5,
   "metadata": {},
   "outputs": [
    {
     "data": {
      "text/plain": [
       "array([[ True, False, False],\n",
       "       [ True,  True, False]])"
      ]
     },
     "execution_count": 5,
     "metadata": {},
     "output_type": "execute_result"
    }
   ],
   "source": [
    "# 3. < operator\n",
    "a < b"
   ]
  },
  {
   "cell_type": "code",
   "execution_count": 6,
   "metadata": {},
   "outputs": [
    {
     "data": {
      "text/plain": [
       "array([[ True, False,  True],\n",
       "       [ True,  True,  True]])"
      ]
     },
     "execution_count": 6,
     "metadata": {},
     "output_type": "execute_result"
    }
   ],
   "source": [
    "# 4. != operator\n",
    "a != b"
   ]
  },
  {
   "cell_type": "markdown",
   "metadata": {},
   "source": [
    "Some numpy functions"
   ]
  },
  {
   "cell_type": "code",
   "execution_count": 6,
   "metadata": {},
   "outputs": [
    {
     "name": "stdout",
     "output_type": "stream",
     "text": [
      "[[ 0.84147098  0.90929743  0.14112001]\n",
      " [ 0.14112001 -0.7568025  -0.95892427]]\n",
      "\n"
     ]
    },
    {
     "data": {
      "text/plain": [
       "array([[ 8.41470985,  9.09297427,  1.41120008],\n",
       "       [ 1.41120008, -7.56802495, -9.58924275]])"
      ]
     },
     "execution_count": 6,
     "metadata": {},
     "output_type": "execute_result"
    }
   ],
   "source": [
    "# 1. sin(array)\n",
    "print(np.sin(a))                  # trigonometric sine function\n",
    "print()\n",
    "10 * np.sin(a)"
   ]
  },
  {
   "cell_type": "code",
   "execution_count": 12,
   "metadata": {},
   "outputs": [
    {
     "data": {
      "text/plain": [
       "array([[ 1.17520119,  3.62686041, 10.01787493],\n",
       "       [10.01787493, 27.2899172 , 74.20321058]])"
      ]
     },
     "execution_count": 12,
     "metadata": {},
     "output_type": "execute_result"
    }
   ],
   "source": [
    "# 2. sinh(array)\n",
    "np.sinh(a)                  # sine hypobolic"
   ]
  },
  {
   "cell_type": "code",
   "execution_count": 13,
   "metadata": {},
   "outputs": [
    {
     "data": {
      "text/plain": [
       "array([[  2.71828183,   7.3890561 ,  20.08553692],\n",
       "       [ 20.08553692,  54.59815003, 148.4131591 ]])"
      ]
     },
     "execution_count": 13,
     "metadata": {},
     "output_type": "execute_result"
    }
   ],
   "source": [
    "# 3. exp(array)\n",
    "np.exp(a)                 #exponential function"
   ]
  },
  {
   "cell_type": "code",
   "execution_count": 16,
   "metadata": {},
   "outputs": [
    {
     "data": {
      "text/plain": [
       "array([[ 0.54030231+0.84147098j, -0.41614684+0.90929743j,\n",
       "        -0.9899925 +0.14112001j],\n",
       "       [-0.9899925 +0.14112001j, -0.65364362-0.7568025j ,\n",
       "         0.28366219-0.95892427j]])"
      ]
     },
     "execution_count": 16,
     "metadata": {},
     "output_type": "execute_result"
    }
   ],
   "source": [
    "np.exp(a * 1j)          # j represents complex type"
   ]
  },
  {
   "cell_type": "code",
   "execution_count": 14,
   "metadata": {},
   "outputs": [
    {
     "data": {
      "text/plain": [
       "array([[1.        , 1.41421356, 1.73205081],\n",
       "       [1.73205081, 2.        , 2.23606798]])"
      ]
     },
     "execution_count": 14,
     "metadata": {},
     "output_type": "execute_result"
    }
   ],
   "source": [
    "# 4. sqrt(array)\n",
    "np.sqrt(a)                # square root function"
   ]
  },
  {
   "cell_type": "code",
   "execution_count": 31,
   "metadata": {},
   "outputs": [
    {
     "name": "stdout",
     "output_type": "stream",
     "text": [
      "[[ 0  1  2  3  4]\n",
      " [ 5  6  7  8  9]\n",
      " [10 11 12 13 14]]\n"
     ]
    },
    {
     "data": {
      "text/plain": [
       "7.0"
      ]
     },
     "execution_count": 31,
     "metadata": {},
     "output_type": "execute_result"
    }
   ],
   "source": [
    "# np.mean(array) - mean of the array\n",
    "\n",
    "b = np.arange(15).reshape(3,5)\n",
    "print(b)\n",
    "\n",
    "b.mean()   # or np.mean(b)"
   ]
  },
  {
   "cell_type": "code",
   "execution_count": 33,
   "metadata": {},
   "outputs": [
    {
     "data": {
      "text/plain": [
       "4.320493798938574"
      ]
     },
     "execution_count": 33,
     "metadata": {},
     "output_type": "execute_result"
    }
   ],
   "source": [
    "# np.std(array) - standard deviation of the array\n",
    "\n",
    "np.std(b)   # or b.std()"
   ]
  },
  {
   "cell_type": "code",
   "execution_count": 35,
   "metadata": {},
   "outputs": [
    {
     "data": {
      "text/plain": [
       "18.666666666666668"
      ]
     },
     "execution_count": 35,
     "metadata": {},
     "output_type": "execute_result"
    }
   ],
   "source": [
    "# np.var(array) - variance of the array\n",
    "\n",
    "np.var(b)   # or b.var()"
   ]
  },
  {
   "cell_type": "code",
   "execution_count": 37,
   "metadata": {},
   "outputs": [
    {
     "data": {
      "text/plain": [
       "14"
      ]
     },
     "execution_count": 37,
     "metadata": {},
     "output_type": "execute_result"
    }
   ],
   "source": [
    "# np.max(array) - maximum element of the array\n",
    "\n",
    "np.max(b)   # or b.max()"
   ]
  },
  {
   "cell_type": "code",
   "execution_count": 38,
   "metadata": {},
   "outputs": [
    {
     "data": {
      "text/plain": [
       "0"
      ]
     },
     "execution_count": 38,
     "metadata": {},
     "output_type": "execute_result"
    }
   ],
   "source": [
    "# np.min(array) - minimum element of the array\n",
    "\n",
    "np.min(b)   # or b.min()"
   ]
  },
  {
   "cell_type": "code",
   "execution_count": 29,
   "metadata": {},
   "outputs": [
    {
     "name": "stdout",
     "output_type": "stream",
     "text": [
      "[[ 0  1  2  3  4]\n",
      " [ 5  6  7  8  9]\n",
      " [10 11 12 13 14]]\n"
     ]
    },
    {
     "data": {
      "text/plain": [
       "105"
      ]
     },
     "execution_count": 29,
     "metadata": {},
     "output_type": "execute_result"
    }
   ],
   "source": [
    "# np.sum(array) - sum of all elements of array\n",
    "b = np.arange(15).reshape(3,5)\n",
    "print(b)\n",
    "\n",
    "np.sum(b)"
   ]
  },
  {
   "cell_type": "code",
   "execution_count": 17,
   "metadata": {},
   "outputs": [
    {
     "name": "stdout",
     "output_type": "stream",
     "text": [
      "[[ 0  1  2  3  4]\n",
      " [ 5  6  7  8  9]\n",
      " [10 11 12 13 14]]\n",
      "\n",
      "[15 18 21 24 27]\n",
      "[10 35 60]\n"
     ]
    }
   ],
   "source": [
    "# summing matrix along any axis\n",
    "b = np.arange(15).reshape(3,5)\n",
    "print(b)\n",
    "print()\n",
    "print(np.sum(b, axis = 0))          # axis 0- summing down the column\n",
    "print(np.sum(b, axis = 1))          # axis 1- summing up the row"
   ]
  },
  {
   "cell_type": "code",
   "execution_count": 32,
   "metadata": {},
   "outputs": [
    {
     "name": "stdout",
     "output_type": "stream",
     "text": [
      "[  0  66 168 312 504]\n",
      "[     0  15120 240240]\n"
     ]
    }
   ],
   "source": [
    "print(np.product(b, axis=0))       #product along column\n",
    "print(np.product(b, axis=1))       #product along row"
   ]
  },
  {
   "cell_type": "code",
   "execution_count": 23,
   "metadata": {},
   "outputs": [
    {
     "name": "stdout",
     "output_type": "stream",
     "text": [
      "[[1 1 1]\n",
      " [1 1 1]]\n",
      "[[9 9 9]\n",
      " [9 9 9]]\n",
      "\n",
      "[[1 1 1]\n",
      " [1 1 1]\n",
      " [9 9 9]\n",
      " [9 9 9]]\n",
      "(4, 3)\n"
     ]
    }
   ],
   "source": [
    "# concatenating arrays\n",
    "np_array_1s = np.array([[1,1,1],[1,1,1]])\n",
    "np_array_9s = np.array([[9,9,9],[9,9,9]])\n",
    "print(np_array_1s)\n",
    "print(np_array_9s)\n",
    "print()\n",
    "conc = np.concatenate([np_array_1s,np_array_9s], axis=0)     #concatenating along column (horizontal)\n",
    "print(conc)\n",
    "print(conc.shape)"
   ]
  },
  {
   "cell_type": "code",
   "execution_count": 26,
   "metadata": {},
   "outputs": [
    {
     "name": "stdout",
     "output_type": "stream",
     "text": [
      "[[1 1 1 9 9 9]\n",
      " [1 1 1 9 9 9]]\n",
      "(2, 6)\n"
     ]
    }
   ],
   "source": [
    "conc = np.concatenate([np_array_1s,np_array_9s], axis=1)     #concatenating along row (vertical)\n",
    "print(conc)\n",
    "print(conc.shape)"
   ]
  },
  {
   "cell_type": "code",
   "execution_count": 18,
   "metadata": {},
   "outputs": [
    {
     "name": "stdout",
     "output_type": "stream",
     "text": [
      "[[[ 0  1  2  3]\n",
      "  [ 4  5  6  7]]\n",
      "\n",
      " [[ 8  9 10 11]\n",
      "  [12 13 14 15]]] \n",
      "\n",
      "columns  [[ 8 10 12 14]\n",
      " [16 18 20 22]]\n",
      "row  [[ 4  6  8 10]\n",
      " [20 22 24 26]]\n",
      "The third dimension  [[ 6 22]\n",
      " [38 54]]\n"
     ]
    }
   ],
   "source": [
    "c = np.arange(16).reshape(2,2,4)\n",
    "print(c,\"\\n\")\n",
    "print(\"columns \",np.sum(c, axis=0))\n",
    "print(\"row \",np.sum(c, axis=1))\n",
    "print(\"The third dimension \",np.sum(c, axis=2))"
   ]
  },
  {
   "cell_type": "code",
   "execution_count": 52,
   "metadata": {},
   "outputs": [
    {
     "name": "stdout",
     "output_type": "stream",
     "text": [
      "[0.         0.6981317  1.3962634  2.0943951  2.7925268  3.4906585\n",
      " 4.1887902  4.88692191 5.58505361 6.28318531]\n",
      "\n",
      "[ 0.00000000e+00  6.42787610e-01  9.84807753e-01  8.66025404e-01\n",
      "  3.42020143e-01 -3.42020143e-01 -8.66025404e-01 -9.84807753e-01\n",
      " -6.42787610e-01 -2.44929360e-16]\n",
      "\n",
      "[ 1.          0.76604444  0.17364818 -0.5        -0.93969262 -0.93969262\n",
      " -0.5         0.17364818  0.76604444  1.        ]\n",
      "\n",
      "-1.0 6.283185307179586\n"
     ]
    }
   ],
   "source": [
    "x = np.linspace(0.0, 10.0, 10)\n",
    "x *= 2*np.pi / 10              # in place multiplication\n",
    "print(x)\n",
    "print()\n",
    "# apply functions to array\n",
    "y = np.sin(x)\n",
    "print(y)\n",
    "print()\n",
    "y = np.cos(x)\n",
    "print(y)\n",
    "print()\n",
    "x[0] = -1\n",
    "print(x[0], x[-1])"
   ]
  },
  {
   "cell_type": "markdown",
   "metadata": {},
   "source": [
    "Array creation functions"
   ]
  },
  {
   "cell_type": "code",
   "execution_count": 34,
   "metadata": {},
   "outputs": [
    {
     "name": "stdout",
     "output_type": "stream",
     "text": [
      "[[1 2 3]\n",
      " [5 6 7]]\n",
      "[[7 3 4]\n",
      " [1 8 5]]\n"
     ]
    }
   ],
   "source": [
    "# 1. np.array(object)       (where object is a list)\n",
    "x = np.array([(1,2,3),(5,6,7)])        #can use either () or [] \n",
    "y = np.array([[7,3,4],[1,8,5]])\n",
    "print(x)\n",
    "print(y)"
   ]
  },
  {
   "cell_type": "code",
   "execution_count": 33,
   "metadata": {},
   "outputs": [
    {
     "data": {
      "text/plain": [
       "array([0.  , 0.25, 0.5 , 0.75, 1.  , 1.25, 1.5 , 1.75, 2.  ])"
      ]
     },
     "execution_count": 33,
     "metadata": {},
     "output_type": "execute_result"
    }
   ],
   "source": [
    "# 2. np.linspace(start, end, num)\n",
    "np.linspace(0, 2, 9)         # 9 elements between 0 and 2 (both included)"
   ]
  },
  {
   "cell_type": "code",
   "execution_count": 48,
   "metadata": {},
   "outputs": [
    {
     "name": "stdout",
     "output_type": "stream",
     "text": [
      "[[1. 1. 1.]\n",
      " [1. 1. 1.]]\n",
      "float64\n",
      "[[[1 1]\n",
      "  [1 1]]\n",
      "\n",
      " [[1 1]\n",
      "  [1 1]]]\n",
      "int32\n"
     ]
    }
   ],
   "source": [
    "# 3. np.ones(shape)    - matrix with all elements initialized to 1\n",
    "a = np.ones((2,3))               # 2x3 matrix of type float\n",
    "print(a)\n",
    "print(a.dtype)\n",
    "# we can additionally give data type\n",
    "b = np.ones((2,2,2), dtype=int)         #2x2x2 matrix of type int\n",
    "print(b)\n",
    "print(b.dtype)"
   ]
  },
  {
   "cell_type": "code",
   "execution_count": 35,
   "metadata": {},
   "outputs": [
    {
     "name": "stdout",
     "output_type": "stream",
     "text": [
      "[[1.+0.j 2.+0.j]\n",
      " [3.+0.j 4.+0.j]]\n"
     ]
    }
   ],
   "source": [
    "c = np.array([[1,2],[3,4]], dtype=complex)         # complex data type\n",
    "print(c)"
   ]
  },
  {
   "cell_type": "code",
   "execution_count": 37,
   "metadata": {},
   "outputs": [
    {
     "name": "stdout",
     "output_type": "stream",
     "text": [
      "[[0. 0. 0. 0.]\n",
      " [0. 0. 0. 0.]\n",
      " [0. 0. 0. 0.]]\n"
     ]
    }
   ],
   "source": [
    "# 4. np.zeroes(shape)     - matrix with all elements initialized to 0\n",
    "c = np.zeros([3,4])           # 3x4 matrix of type float\n",
    "print(c)                      # additional dtype can also be given"
   ]
  },
  {
   "cell_type": "code",
   "execution_count": 45,
   "metadata": {},
   "outputs": [
    {
     "data": {
      "text/plain": [
       "array([0., 0., 0.])"
      ]
     },
     "execution_count": 45,
     "metadata": {},
     "output_type": "execute_result"
    }
   ],
   "source": [
    "np.zeros(3)"
   ]
  },
  {
   "cell_type": "code",
   "execution_count": null,
   "metadata": {},
   "outputs": [],
   "source": [
    "# for more dtypes see - np.typeDict"
   ]
  },
  {
   "cell_type": "code",
   "execution_count": 42,
   "metadata": {},
   "outputs": [
    {
     "name": "stdout",
     "output_type": "stream",
     "text": [
      "[[-4400 23999   518]\n",
      " [    0     0     0]]\n",
      "int16\n",
      "2\n"
     ]
    }
   ],
   "source": [
    "# 5. np.empty(shape)          - matrix with all random elements\n",
    "d = np.empty((2,3), dtype = np.int16)\n",
    "print(d)\n",
    "print(d.dtype)\n",
    "print(d.itemsize)"
   ]
  },
  {
   "cell_type": "code",
   "execution_count": 43,
   "metadata": {},
   "outputs": [
    {
     "name": "stdout",
     "output_type": "stream",
     "text": [
      "[[1 0 0]\n",
      " [0 1 0]\n",
      " [0 0 1]]\n",
      "int32\n",
      "4\n"
     ]
    }
   ],
   "source": [
    "# 6. np.identity(shape)            - identity matrix\\\n",
    "i = np.identity(3, dtype=int)                 # 3 means suare matrix of shape 3x3\n",
    "print(i)\n",
    "print(i.dtype)\n",
    "print(i.itemsize)"
   ]
  },
  {
   "cell_type": "code",
   "execution_count": 2,
   "metadata": {},
   "outputs": [
    {
     "name": "stdout",
     "output_type": "stream",
     "text": [
      "[[1. 0. 0.]\n",
      " [0. 1. 0.]\n",
      " [0. 0. 1.]]\n"
     ]
    }
   ],
   "source": [
    "# or by using function eye()\n",
    "import numpy as np\n",
    "i = np.eye(3)\n",
    "print(i)"
   ]
  },
  {
   "cell_type": "code",
   "execution_count": 2,
   "metadata": {},
   "outputs": [
    {
     "data": {
      "text/plain": [
       "array([[10, 10],\n",
       "       [10, 10]])"
      ]
     },
     "execution_count": 2,
     "metadata": {},
     "output_type": "execute_result"
    }
   ],
   "source": [
    "# 7. np.full(dimension, element) - creates array of size 'dimension' and fills it with element\n",
    "arr = np.full((2,2),10)         # 2x2 array of 10s\n",
    "arr"
   ]
  },
  {
   "cell_type": "code",
   "execution_count": 15,
   "metadata": {},
   "outputs": [
    {
     "data": {
      "text/plain": [
       "array([59,  2, 17, 88, 82])"
      ]
     },
     "execution_count": 15,
     "metadata": {},
     "output_type": "execute_result"
    }
   ],
   "source": [
    "# 8. np.random.randint(start,end,total_elements) - creates random integers\n",
    "n1 = np.random.randint(1,100,5)      # gives 5 integers between 1 and 99\n",
    "n1"
   ]
  },
  {
   "cell_type": "code",
   "execution_count": 7,
   "metadata": {},
   "outputs": [
    {
     "data": {
      "text/plain": [
       "array([10, 15, 20, 25])"
      ]
     },
     "execution_count": 7,
     "metadata": {},
     "output_type": "execute_result"
    }
   ],
   "source": [
    "# 9. np.arange(start, end, num)\n",
    "np.arange(10, 30, 5)          # from 10 to 29 in steps of 5"
   ]
  },
  {
   "cell_type": "code",
   "execution_count": 47,
   "metadata": {},
   "outputs": [
    {
     "data": {
      "text/plain": [
       "array([0. , 0.3, 0.6, 0.9, 1.2, 1.5, 1.8])"
      ]
     },
     "execution_count": 47,
     "metadata": {},
     "output_type": "execute_result"
    }
   ],
   "source": [
    "np.arange(0, 2, 0.3)         # from 0 upto 2 in steps of 0.3"
   ]
  },
  {
   "cell_type": "code",
   "execution_count": 56,
   "metadata": {},
   "outputs": [
    {
     "name": "stdout",
     "output_type": "stream",
     "text": [
      "[  0.          11.11111111  22.22222222  33.33333333  44.44444444\n",
      "  55.55555556  66.66666667  77.77777778  88.88888889 100.        ]\n",
      "[ 0 10 20 30 40 50 60 70 80 90]\n"
     ]
    }
   ],
   "source": [
    "# difference between arange and linspace\n",
    "a = np.linspace(0,100,10)       # 10 elements between 0 and 100 (both included)\n",
    "b = np.arange(0,100,10)         # from 0 to 99 in steps of 10\n",
    "print(a)\n",
    "print(b)"
   ]
  },
  {
   "cell_type": "code",
   "execution_count": 58,
   "metadata": {},
   "outputs": [
    {
     "name": "stdout",
     "output_type": "stream",
     "text": [
      "[[1 1 1 1 1]\n",
      " [1 1 1 1 1]\n",
      " [1 1 1 1 1]]\n"
     ]
    }
   ],
   "source": [
    "# 10. np.ones_like(array_x)   - array of ones of same shape as array_x\n",
    "a = np.arange(15).reshape(3,5)\n",
    "b = np.ones_like(a)\n",
    "print(b)"
   ]
  },
  {
   "cell_type": "code",
   "execution_count": 59,
   "metadata": {},
   "outputs": [
    {
     "name": "stdout",
     "output_type": "stream",
     "text": [
      "[[0 0 0 0 0]\n",
      " [0 0 0 0 0]\n",
      " [0 0 0 0 0]]\n"
     ]
    }
   ],
   "source": [
    "# 11. np.zeros_like(array_x) - array of zeros of same shape as array_x\n",
    "c = np.zeros_like(a)\n",
    "print(c)"
   ]
  },
  {
   "cell_type": "code",
   "execution_count": 60,
   "metadata": {},
   "outputs": [
    {
     "name": "stdout",
     "output_type": "stream",
     "text": [
      "[[      0       0       0       0       0]\n",
      " [      0       0       0       0       0]\n",
      " [   1164       0       0 7602273       0]]\n"
     ]
    }
   ],
   "source": [
    "# 12. np.empty_like(array_x)   - array of random values of same shape as array_x\n",
    "d = np.empty_like(a)\n",
    "print(d)"
   ]
  },
  {
   "cell_type": "code",
   "execution_count": 36,
   "metadata": {},
   "outputs": [
    {
     "data": {
      "text/plain": [
       "array([[0.79475614, 0.19351339],\n",
       "       [0.96703155, 0.63594718],\n",
       "       [0.51100141, 0.56085474]])"
      ]
     },
     "execution_count": 36,
     "metadata": {},
     "output_type": "execute_result"
    }
   ],
   "source": [
    "# np.random.rand(row,column) - generating random sample of shape(row,column) (between 0 and 1)\n",
    "np.random.rand(3,2)"
   ]
  },
  {
   "cell_type": "code",
   "execution_count": 37,
   "metadata": {},
   "outputs": [
    {
     "data": {
      "text/plain": [
       "array([[ 0.63352064, -2.13395219, -0.61260794],\n",
       "       [ 0.87790533, -0.01558513,  2.07358144],\n",
       "       [ 0.56022697, -1.38329745,  1.18007268],\n",
       "       [-0.85629981,  0.23013039,  0.10919128]])"
      ]
     },
     "execution_count": 37,
     "metadata": {},
     "output_type": "execute_result"
    }
   ],
   "source": [
    "# np.random.randn(row,column)   - return samples from \"standard normal distribution\"\n",
    "# hane negative values also\n",
    "np.random.randn(4,3)"
   ]
  },
  {
   "cell_type": "code",
   "execution_count": 7,
   "metadata": {},
   "outputs": [
    {
     "data": {
      "text/plain": [
       "76"
      ]
     },
     "execution_count": 7,
     "metadata": {},
     "output_type": "execute_result"
    }
   ],
   "source": [
    "# want random value of any specific type\n",
    "np.random.randint(2,100)\n",
    "\n",
    "# gives any random integer between 2 and 100"
   ]
  },
  {
   "cell_type": "code",
   "execution_count": 5,
   "metadata": {},
   "outputs": [
    {
     "data": {
      "text/plain": [
       "'C:\\\\Users\\\\Owner'"
      ]
     },
     "execution_count": 5,
     "metadata": {},
     "output_type": "execute_result"
    }
   ],
   "source": [
    "%pwd             # finds the present working directory"
   ]
  },
  {
   "cell_type": "markdown",
   "metadata": {},
   "source": [
    "Array Manipulation"
   ]
  },
  {
   "cell_type": "code",
   "execution_count": 20,
   "metadata": {},
   "outputs": [
    {
     "data": {
      "text/plain": [
       "array([[ 1,  2,  3,  4,  5],\n",
       "       [ 6,  7,  8,  9, 10],\n",
       "       [11, 12, 13, 14, 15],\n",
       "       [16, 17, 18, 19, 20]])"
      ]
     },
     "execution_count": 20,
     "metadata": {},
     "output_type": "execute_result"
    }
   ],
   "source": [
    "# Append rows or columns   - at the end of array\n",
    "# np.append(array_1, array_2, axis)\n",
    "numbers = np.arange(1,21)\n",
    "numbers = numbers.reshape(4,5)\n",
    "numbers"
   ]
  },
  {
   "cell_type": "code",
   "execution_count": 22,
   "metadata": {},
   "outputs": [
    {
     "name": "stdout",
     "output_type": "stream",
     "text": [
      "[[ 1  2  3  4  5]\n",
      " [ 6  7  8  9 10]\n",
      " [11 12 13 14 15]\n",
      " [16 17 18 19 20]\n",
      " [21 22 23 24 25]]\n"
     ]
    }
   ],
   "source": [
    "extras = np.array([21,22,23,24,25])\n",
    "numbers = np.append(numbers,[extras],axis=0)\n",
    " \n",
    "print ( numbers )"
   ]
  },
  {
   "cell_type": "code",
   "execution_count": 23,
   "metadata": {},
   "outputs": [
    {
     "name": "stdout",
     "output_type": "stream",
     "text": [
      "[[ 1  2  3  4  5 21]\n",
      " [ 6  7  8  9 10 22]\n",
      " [11 12 13 14 15 23]\n",
      " [16 17 18 19 20 24]\n",
      " [21 22 23 24 25 25]]\n"
     ]
    }
   ],
   "source": [
    "# append along column\n",
    "numbers = np.append(numbers,extras.reshape(5,-1),axis=1)\n",
    "print ( numbers )"
   ]
  },
  {
   "cell_type": "code",
   "execution_count": 26,
   "metadata": {},
   "outputs": [
    {
     "data": {
      "text/plain": [
       "array([[ 1,  2,  3,  4,  5],\n",
       "       [ 6,  7,  8,  9, 10],\n",
       "       [21, 22, 23, 24, 25],\n",
       "       [11, 12, 13, 14, 15],\n",
       "       [16, 17, 18, 19, 20]])"
      ]
     },
     "execution_count": 26,
     "metadata": {},
     "output_type": "execute_result"
    }
   ],
   "source": [
    "# Insert rows or columns - insert at a desired position\n",
    "#np.insert(array_1, index, array_2, axis)\n",
    "numbers = np.arange(1,21)\n",
    "numbers = numbers.reshape(4,5)\n",
    "extras = np.array([21,22,23,24,25])\n",
    "numbers_new = np.insert(numbers,2,[extras],axis=0)         # inserts at row index 2\n",
    "numbers_new"
   ]
  },
  {
   "cell_type": "code",
   "execution_count": 31,
   "metadata": {},
   "outputs": [
    {
     "name": "stdout",
     "output_type": "stream",
     "text": [
      "[[ 1  2  3 21  4  5]\n",
      " [ 6  7  8 22  9 10]\n",
      " [11 12 13 23 14 15]\n",
      " [16 17 18 24 19 20]]\n"
     ]
    }
   ],
   "source": [
    "# inserting along columns\n",
    "extras = np.array([21,22,23,24])\n",
    "numbers_new = np.insert(numbers,3,extras,axis=1)      # inserts at column index 3\n",
    "print ( numbers_new)"
   ]
  },
  {
   "cell_type": "code",
   "execution_count": 34,
   "metadata": {},
   "outputs": [
    {
     "name": "stdout",
     "output_type": "stream",
     "text": [
      "[[ 1  2  3  4  5]\n",
      " [ 6  7  8  9 10]\n",
      " [11 12 13 14 15]\n",
      " [16 17 18 19 20]]\n",
      "\n",
      "[[ 1  2  4  5]\n",
      " [ 6  7  9 10]\n",
      " [11 12 14 15]\n",
      " [16 17 19 20]]\n"
     ]
    }
   ],
   "source": [
    "# Delete rows or columns\n",
    "# np.delete(array, index, axis)\n",
    "print(numbers)\n",
    "numbers_new = np.delete(numbers,2,axis=1)     # deletes column at index 2\n",
    "print()\n",
    "print ( numbers_new )"
   ]
  },
  {
   "cell_type": "code",
   "execution_count": 35,
   "metadata": {},
   "outputs": [
    {
     "name": "stdout",
     "output_type": "stream",
     "text": [
      "[[ 1  2  3  4  5]\n",
      " [11 12 13 14 15]\n",
      " [16 17 18 19 20]]\n"
     ]
    }
   ],
   "source": [
    "numbers_new = np.delete(numbers,1,axis=0)         # deletes row at index 1\n",
    "print ( numbers_new )"
   ]
  },
  {
   "cell_type": "code",
   "execution_count": 37,
   "metadata": {},
   "outputs": [
    {
     "name": "stdout",
     "output_type": "stream",
     "text": [
      "[[0 1 2 3 4 5 6 7 8]]\n"
     ]
    },
    {
     "data": {
      "text/plain": [
       "(1, 9)"
      ]
     },
     "execution_count": 37,
     "metadata": {},
     "output_type": "execute_result"
    }
   ],
   "source": [
    "# Squeeze\n",
    "\n",
    "# Squeeze function let’s you get rid of useless dimensions in NumPy arrays. \n",
    "# For example, look at the following NumPy array.\n",
    "\n",
    "x = np.arange(9).reshape(1,9) \n",
    "print(x)\n",
    "x.shape"
   ]
  },
  {
   "cell_type": "code",
   "execution_count": 43,
   "metadata": {},
   "outputs": [
    {
     "name": "stdout",
     "output_type": "stream",
     "text": [
      "[0 1 2 3 4 5 6 7 8]\n"
     ]
    },
    {
     "data": {
      "text/plain": [
       "(9,)"
      ]
     },
     "execution_count": 43,
     "metadata": {},
     "output_type": "execute_result"
    }
   ],
   "source": [
    "#A series of numbers (0–9) can easily be represented as a vector of size 9– just a 1 dimensional array\n",
    "#However, the additional dimension here is useless. \n",
    "#We can remove the extra fictitious dimension, using the squeeze function.\n",
    "x_squeeze = np.squeeze(x)\n",
    "print(x_squeeze)\n",
    "x_squeeze.shape"
   ]
  },
  {
   "cell_type": "code",
   "execution_count": 45,
   "metadata": {},
   "outputs": [
    {
     "data": {
      "text/plain": [
       "array([[0, 1, 2],\n",
       "       [3, 4, 5],\n",
       "       [6, 7, 8]])"
      ]
     },
     "execution_count": 45,
     "metadata": {},
     "output_type": "execute_result"
    }
   ],
   "source": [
    "# Ravel - Flattens an array.\n",
    "x = np.arange(9).reshape(3,3)\n",
    "x"
   ]
  },
  {
   "cell_type": "code",
   "execution_count": 47,
   "metadata": {},
   "outputs": [
    {
     "data": {
      "text/plain": [
       "array([0, 1, 2, 3, 4, 5, 6, 7, 8])"
      ]
     },
     "execution_count": 47,
     "metadata": {},
     "output_type": "execute_result"
    }
   ],
   "source": [
    "x.ravel()"
   ]
  },
  {
   "cell_type": "code",
   "execution_count": 19,
   "metadata": {},
   "outputs": [
    {
     "data": {
      "text/plain": [
       "False"
      ]
     },
     "execution_count": 19,
     "metadata": {},
     "output_type": "execute_result"
    }
   ],
   "source": [
    "# np.array_equal(array1, array2) - checks if two arrays are equal\n",
    "n1=np.array([10,20,30])\n",
    "n2=np.array([10,30,20])\n",
    "\n",
    "np.array_equal(n1,n2)"
   ]
  },
  {
   "cell_type": "code",
   "execution_count": 25,
   "metadata": {},
   "outputs": [
    {
     "data": {
      "text/plain": [
       "array([50, 60])"
      ]
     },
     "execution_count": 25,
     "metadata": {},
     "output_type": "execute_result"
    }
   ],
   "source": [
    "# np.intersect1d(array1, array2) - intersection of two arrays\n",
    "\n",
    "n1=np.array([10,20,30,40,50,60])\n",
    "n2=np.array([50,60,70,80,90])\n",
    "\n",
    "np.intersect1d(n1, n2)"
   ]
  },
  {
   "cell_type": "code",
   "execution_count": 26,
   "metadata": {},
   "outputs": [
    {
     "data": {
      "text/plain": [
       "array([10, 20, 30, 40, 50, 60, 70, 80, 90])"
      ]
     },
     "execution_count": 26,
     "metadata": {},
     "output_type": "execute_result"
    }
   ],
   "source": [
    "# np.union1d(array1, array2) - Union of two arrays\n",
    "\n",
    "np.union1d(n1,n2)"
   ]
  },
  {
   "cell_type": "code",
   "execution_count": 27,
   "metadata": {},
   "outputs": [
    {
     "data": {
      "text/plain": [
       "array([10, 20, 30, 40])"
      ]
     },
     "execution_count": 27,
     "metadata": {},
     "output_type": "execute_result"
    }
   ],
   "source": [
    "# np.setdiff1d(array1, array2) - set difference of two arrays\n",
    "\n",
    "np.setdiff1d(n1,n2)    # n1-n2"
   ]
  },
  {
   "cell_type": "markdown",
   "metadata": {},
   "source": [
    "Joining Arrays"
   ]
  },
  {
   "cell_type": "code",
   "execution_count": 20,
   "metadata": {},
   "outputs": [
    {
     "data": {
      "text/plain": [
       "array([[10, 20, 30],\n",
       "       [40, 50, 60]])"
      ]
     },
     "execution_count": 20,
     "metadata": {},
     "output_type": "execute_result"
    }
   ],
   "source": [
    "# np.vstack - joins arrays vertically  (row below row)\n",
    "\n",
    "n1=np.array([10,20,30])\n",
    "n2=np.array([40,50,60])\n",
    "\n",
    "np.vstack((n1,n2))"
   ]
  },
  {
   "cell_type": "code",
   "execution_count": 21,
   "metadata": {},
   "outputs": [
    {
     "data": {
      "text/plain": [
       "array([10, 20, 30, 40, 50, 60])"
      ]
     },
     "execution_count": 21,
     "metadata": {},
     "output_type": "execute_result"
    }
   ],
   "source": [
    "# np.hstack - Joins arrays horizontally\n",
    "\n",
    "n1=np.array([10,20,30])\n",
    "n2=np.array([40,50,60])\n",
    "\n",
    "np.hstack((n1,n2))"
   ]
  },
  {
   "cell_type": "code",
   "execution_count": 23,
   "metadata": {},
   "outputs": [
    {
     "data": {
      "text/plain": [
       "array([[10, 40],\n",
       "       [20, 50],\n",
       "       [30, 60]])"
      ]
     },
     "execution_count": 23,
     "metadata": {},
     "output_type": "execute_result"
    }
   ],
   "source": [
    "# np.column_stack - converts array in columns of new array\n",
    "\n",
    "n1=np.array([10,20,30])\n",
    "n2=np.array([40,50,60])\n",
    "\n",
    "np.column_stack((n1,n2))"
   ]
  },
  {
   "cell_type": "code",
   "execution_count": 24,
   "metadata": {},
   "outputs": [
    {
     "data": {
      "text/plain": [
       "array([[10, 20, 30],\n",
       "       [40, 50, 60]])"
      ]
     },
     "execution_count": 24,
     "metadata": {},
     "output_type": "execute_result"
    }
   ],
   "source": [
    "# np.stack() - converts the array as rows of new array (same as vstack)\n",
    "\n",
    "n1=np.array([10,20,30])\n",
    "n2=np.array([40,50,60])\n",
    "\n",
    "np.stack((n1,n2))"
   ]
  },
  {
   "cell_type": "markdown",
   "metadata": {},
   "source": [
    "Matrix Operations"
   ]
  },
  {
   "cell_type": "code",
   "execution_count": 14,
   "metadata": {},
   "outputs": [
    {
     "name": "stdout",
     "output_type": "stream",
     "text": [
      "[[ 1  2 -1  3]\n",
      " [-1  5  2  1]\n",
      " [ 4  6 -2 -3]\n",
      " [ 1  1  2  1]] \n",
      "\n",
      "[[ 1 -1  4  1]\n",
      " [ 2  5  6  1]\n",
      " [-1  2 -2  2]\n",
      " [ 3  1 -3  1]]\n"
     ]
    }
   ],
   "source": [
    "# Transpose of a matrix\n",
    "a = np.array([[1,2,-1,3],[-1,5,2,1],[4,6,-2,-3],[1,1,2,1]])\n",
    "print(a,\"\\n\")\n",
    "print(a.T)"
   ]
  },
  {
   "cell_type": "code",
   "execution_count": 17,
   "metadata": {},
   "outputs": [
    {
     "name": "stdout",
     "output_type": "stream",
     "text": [
      "[[ 0 17 21 13]\n",
      " [-2  0 30 46]\n",
      " [26 17  7 35]\n",
      " [ 0  4 16 22]]\n",
      "\n",
      "[[ 0 17 21 13]\n",
      " [-2  0 30 46]\n",
      " [26 17  7 35]\n",
      " [ 0  4 16 22]]\n"
     ]
    }
   ],
   "source": [
    "# Matrix multiplication\n",
    "\n",
    "b = np.array([[3,4,1,2],[1,1,4,7],[-1,-2,3,6],[-2,3,5,1]])\n",
    "print(np.dot(a,b))                         # by using dot(matrix, matrix)\n",
    "print()\n",
    "print(a @ b)                               # by using @ operator"
   ]
  },
  {
   "cell_type": "code",
   "execution_count": 22,
   "metadata": {},
   "outputs": [
    {
     "name": "stdout",
     "output_type": "stream",
     "text": [
      "[[ 0.05673759 -0.20921986  0.09929078  0.33687943]\n",
      " [ 0.02836879  0.14539007  0.04964539 -0.08156028]\n",
      " [-0.16312057  0.03900709 -0.03546099  0.34397163]\n",
      " [ 0.24113475 -0.0141844  -0.07801418  0.05673759]]\n"
     ]
    }
   ],
   "source": [
    "# Inverse of a matrix\n",
    "a_inv = np.linalg.inv(a)\n",
    "print(a_inv)"
   ]
  },
  {
   "cell_type": "code",
   "execution_count": 24,
   "metadata": {},
   "outputs": [
    {
     "name": "stdout",
     "output_type": "stream",
     "text": [
      "[[ 1.00000000e+00  0.00000000e+00  2.77555756e-17 -4.85722573e-17]\n",
      " [ 5.55111512e-17  1.00000000e+00  0.00000000e+00 -5.55111512e-17]\n",
      " [ 0.00000000e+00  0.00000000e+00  1.00000000e+00 -1.11022302e-16]\n",
      " [ 0.00000000e+00  2.77555756e-17 -1.38777878e-17  1.00000000e+00]]\n"
     ]
    }
   ],
   "source": [
    "I = np.dot(a, a_inv)\n",
    "print(I)                     # gives identity matrix(approx)"
   ]
  },
  {
   "cell_type": "code",
   "execution_count": 26,
   "metadata": {},
   "outputs": [
    {
     "name": "stdout",
     "output_type": "stream",
     "text": [
      "281.99999999999983\n"
     ]
    }
   ],
   "source": [
    "# Determinant of matrix\n",
    "\n",
    "print(np.linalg.det(a))"
   ]
  },
  {
   "cell_type": "code",
   "execution_count": 27,
   "metadata": {},
   "outputs": [
    {
     "name": "stdout",
     "output_type": "stream",
     "text": [
      "22\n"
     ]
    }
   ],
   "source": [
    "# Sum of all elements of matrix\n",
    "\n",
    "print(np.sum(a))"
   ]
  },
  {
   "cell_type": "code",
   "execution_count": 29,
   "metadata": {},
   "outputs": [
    {
     "name": "stdout",
     "output_type": "stream",
     "text": [
      "(array([-2.17707942+3.25108281j, -2.17707942-3.25108281j,\n",
      "        2.81837215+0.j        ,  6.53578669+0.j        ]), array([[ 0.12133524+0.40746017j,  0.12133524-0.40746017j,\n",
      "         0.78288607+0.j        ,  0.3564549 +0.j        ],\n",
      "       [-0.19103336+0.01327346j, -0.19103336-0.01327346j,\n",
      "        -0.07973069+0.j        ,  0.68327272+0.j        ],\n",
      "       [ 0.81083469+0.j        ,  0.81083469-0.j        ,\n",
      "         0.18392095+0.j        ,  0.51581932+0.j        ],\n",
      "       [-0.17242568-0.30886977j, -0.17242568+0.30886977j,\n",
      "         0.58898685+0.j        ,  0.3741774 +0.j        ]]))\n"
     ]
    }
   ],
   "source": [
    "# eigen values and eigen vectors of matrix\n",
    "\n",
    "eig_a = np.linalg.eig(a)\n",
    "print(eig_a)\n",
    "# It gives two results - first is the eigen values and second is the eigen vectors corresponding to these eigen values\n",
    "# It gives tuple of two elements"
   ]
  },
  {
   "cell_type": "code",
   "execution_count": 35,
   "metadata": {},
   "outputs": [
    {
     "name": "stdout",
     "output_type": "stream",
     "text": [
      "[-2.17707942+3.25108281j -2.17707942-3.25108281j  2.81837215+0.j\n",
      "  6.53578669+0.j        ]\n",
      "\n",
      "[[ 0.12133524+0.40746017j  0.12133524-0.40746017j  0.78288607+0.j\n",
      "   0.3564549 +0.j        ]\n",
      " [-0.19103336+0.01327346j -0.19103336-0.01327346j -0.07973069+0.j\n",
      "   0.68327272+0.j        ]\n",
      " [ 0.81083469+0.j          0.81083469-0.j          0.18392095+0.j\n",
      "   0.51581932+0.j        ]\n",
      " [-0.17242568-0.30886977j -0.17242568+0.30886977j  0.58898685+0.j\n",
      "   0.3741774 +0.j        ]]\n"
     ]
    }
   ],
   "source": [
    "# extracting them\n",
    "print(eig_a[0])             #eigen values\n",
    "print()\n",
    "print(eig_a[1])             #eigen vectors"
   ]
  },
  {
   "cell_type": "code",
   "execution_count": 34,
   "metadata": {},
   "outputs": [
    {
     "name": "stdout",
     "output_type": "stream",
     "text": [
      "[-2.17707942+3.25108281j -2.17707942-3.25108281j  2.81837215+0.j\n",
      "  6.53578669+0.j        ] \n",
      "\n",
      "[[ 0.12133524+0.40746017j  0.12133524-0.40746017j  0.78288607+0.j\n",
      "   0.3564549 +0.j        ]\n",
      " [-0.19103336+0.01327346j -0.19103336-0.01327346j -0.07973069+0.j\n",
      "   0.68327272+0.j        ]\n",
      " [ 0.81083469+0.j          0.81083469-0.j          0.18392095+0.j\n",
      "   0.51581932+0.j        ]\n",
      " [-0.17242568-0.30886977j -0.17242568+0.30886977j  0.58898685+0.j\n",
      "   0.3741774 +0.j        ]]\n"
     ]
    }
   ],
   "source": [
    "# or\n",
    "eval, evec = np.linalg.eig(a)\n",
    "print(eval,\"\\n\")\n",
    "print(evec)"
   ]
  },
  {
   "cell_type": "code",
   "execution_count": 30,
   "metadata": {},
   "outputs": [
    {
     "name": "stdout",
     "output_type": "stream",
     "text": [
      "[-2.17707942+3.25108281j -2.17707942-3.25108281j  2.81837215+0.j\n",
      "  6.53578669+0.j        ]\n"
     ]
    }
   ],
   "source": [
    "# only eigen values of matrix\n",
    "eig_val_a = np.linalg.eigvals(a)\n",
    "print(eig_val_a)"
   ]
  },
  {
   "cell_type": "code",
   "execution_count": 38,
   "metadata": {},
   "outputs": [
    {
     "data": {
      "text/plain": [
       "10.862780491200215"
      ]
     },
     "execution_count": 38,
     "metadata": {},
     "output_type": "execute_result"
    }
   ],
   "source": [
    "# computing norms\n",
    "np.linalg.norm(a)"
   ]
  },
  {
   "cell_type": "code",
   "execution_count": 39,
   "metadata": {},
   "outputs": [],
   "source": [
    "np.linalg.norm?"
   ]
  },
  {
   "cell_type": "code",
   "execution_count": 42,
   "metadata": {},
   "outputs": [
    {
     "data": {
      "text/plain": [
       "(array([[-0.20350296, -0.35104082, -0.90795723,  0.1047404 ],\n",
       "        [-0.42808094, -0.73549741,  0.41711715,  0.31906669],\n",
       "        [-0.87430693,  0.48053651,  0.00229182, -0.06831404],\n",
       "        [-0.10450191, -0.32388048,  0.04027034, -0.93944616]]),\n",
       " array([8.7610644 , 5.22708386, 3.19466029, 1.9275608 ]),\n",
       " array([[-0.38547276, -0.90146057,  0.10123783,  0.16890973],\n",
       "        [ 0.37931707, -0.34823052, -0.52204787, -0.67994124],\n",
       "        [-0.39930279,  0.10132299,  0.5691211 , -0.71161233],\n",
       "        [-0.74032871,  0.23630065, -0.62715079, -0.05250996]]))"
      ]
     },
     "execution_count": 42,
     "metadata": {},
     "output_type": "execute_result"
    }
   ],
   "source": [
    "# Singular Value Decomposition\n",
    "np.linalg.svd(a)"
   ]
  },
  {
   "cell_type": "code",
   "execution_count": 43,
   "metadata": {},
   "outputs": [],
   "source": [
    "np.linalg.svd?"
   ]
  },
  {
   "cell_type": "code",
   "execution_count": 2,
   "metadata": {},
   "outputs": [
    {
     "data": {
      "text/plain": [
       "array([[ True, False, False],\n",
       "       [False,  True, False]])"
      ]
     },
     "execution_count": 2,
     "metadata": {},
     "output_type": "execute_result"
    }
   ],
   "source": [
    "# numpy fromfunction() - The fromfunction() function is used to construct an array by executing \n",
    "# a function over the resulting array therefore has a value fn(x,y,z) at coordinate(x,y,z) .\n",
    "# numpy.fromfunction(function, shape, *, dtype=<class 'float'>, **kwargs)[source]\n",
    "\n",
    "np.fromfunction(lambda i, j: i==j, (2,3), dtype=int)\n",
    "\n",
    "#euivalent to\n",
    "# for(i=0; i<2; i++)\n",
    "#     for(j=0; j<3; j++)\n",
    "#         return i==j;"
   ]
  },
  {
   "cell_type": "code",
   "execution_count": 3,
   "metadata": {},
   "outputs": [
    {
     "data": {
      "text/plain": [
       "array([[0, 1, 2],\n",
       "       [1, 2, 3],\n",
       "       [2, 3, 4]])"
      ]
     },
     "execution_count": 3,
     "metadata": {},
     "output_type": "execute_result"
    }
   ],
   "source": [
    "np.fromfunction(lambda i,j: i+j, (3,3), dtype=int)"
   ]
  },
  {
   "cell_type": "code",
   "execution_count": 9,
   "metadata": {},
   "outputs": [
    {
     "name": "stdout",
     "output_type": "stream",
     "text": [
      "[[1 1 1]\n",
      " [1 1 1]] \n",
      " [[0.23851295 0.35895847 0.34096907]\n",
      " [0.19218138 0.74116769 0.94048272]]\n"
     ]
    }
   ],
   "source": [
    "a = np.ones((2,3), dtype=int)\n",
    "b = np.random.random((2,3))\n",
    "print(a ,\"\\n\",b)"
   ]
  },
  {
   "cell_type": "code",
   "execution_count": 10,
   "metadata": {},
   "outputs": [
    {
     "data": {
      "text/plain": [
       "array([[1.23851295, 1.35895847, 1.34096907],\n",
       "       [1.19218138, 1.74116769, 1.94048272]])"
      ]
     },
     "execution_count": 10,
     "metadata": {},
     "output_type": "execute_result"
    }
   ],
   "source": [
    "b += a\n",
    "b"
   ]
  },
  {
   "cell_type": "code",
   "execution_count": 12,
   "metadata": {},
   "outputs": [
    {
     "ename": "UFuncTypeError",
     "evalue": "Cannot cast ufunc 'add' output from dtype('float64') to dtype('int32') with casting rule 'same_kind'",
     "output_type": "error",
     "traceback": [
      "\u001b[1;31m---------------------------------------------------------------------------\u001b[0m",
      "\u001b[1;31mUFuncTypeError\u001b[0m                            Traceback (most recent call last)",
      "\u001b[1;32m<ipython-input-12-b0f7d0e94841>\u001b[0m in \u001b[0;36m<module>\u001b[1;34m\u001b[0m\n\u001b[1;32m----> 1\u001b[1;33m \u001b[0ma\u001b[0m \u001b[1;33m+=\u001b[0m \u001b[0mb\u001b[0m\u001b[1;33m\u001b[0m\u001b[1;33m\u001b[0m\u001b[0m\n\u001b[0m\u001b[0;32m      2\u001b[0m \u001b[0ma\u001b[0m\u001b[1;33m\u001b[0m\u001b[1;33m\u001b[0m\u001b[0m\n",
      "\u001b[1;31mUFuncTypeError\u001b[0m: Cannot cast ufunc 'add' output from dtype('float64') to dtype('int32') with casting rule 'same_kind'"
     ]
    }
   ],
   "source": [
    "a += b             # cannot store float addition to int variable\n",
    "a"
   ]
  },
  {
   "cell_type": "code",
   "execution_count": null,
   "metadata": {},
   "outputs": [],
   "source": [
    "# difference between np.random.rand(row,col) and np.random.random((row,col))\n",
    "# The only difference is in how the arguments are handled \n",
    "# with np.random.rand(row,col) the length of each dimension of the output array is a separate argument\n",
    "# with np.random.random((row,col)) the shape argument is a single tuple"
   ]
  },
  {
   "cell_type": "code",
   "execution_count": 13,
   "metadata": {},
   "outputs": [
    {
     "data": {
      "text/plain": [
       "array([[   nan,    nan],\n",
       "       [ 73.85, 241.89],\n",
       "       [ 68.78, 162.31],\n",
       "       ...,\n",
       "       [ 63.87, 128.48],\n",
       "       [ 69.03, 163.85],\n",
       "       [ 61.94, 113.65]])"
      ]
     },
     "execution_count": 13,
     "metadata": {},
     "output_type": "execute_result"
    }
   ],
   "source": [
    "# To read from file\n",
    "# To read the file, all we have to do is to use the genfromtxt ( ) function. \n",
    "\n",
    "data = np.genfromtxt(\"height-weight-only.txt\",delimiter=\",\")\n",
    "data"
   ]
  },
  {
   "cell_type": "markdown",
   "metadata": {},
   "source": [
    "The key parameters in the signature of this function look like this.\n",
    "\n",
    "- numpy.genfromtxt( fname = \"file name\",  # file name to be read\n",
    "                  dtype = float,        # default data type is float, but can be configured.\n",
    "                  comments = \"#\",       # indicates comments - therefore should not be read\n",
    "                  delimiter = None,     # specifies the character used to delimit values in the array\n",
    "                  skip_header = 0,      # the number of lines to skip at the beginning of the file\n",
    "                  missing_values = None )"
   ]
  },
  {
   "cell_type": "code",
   "execution_count": 15,
   "metadata": {},
   "outputs": [
    {
     "data": {
      "text/plain": [
       "array([[ 73.85, 241.89],\n",
       "       [ 68.78, 162.31],\n",
       "       [ 74.11, 212.74],\n",
       "       ...,\n",
       "       [ 63.87, 128.48],\n",
       "       [ 69.03, 163.85],\n",
       "       [ 61.94, 113.65]])"
      ]
     },
     "execution_count": 15,
     "metadata": {},
     "output_type": "execute_result"
    }
   ],
   "source": [
    "# There is a nan (not a number ) in the first row because the first row contains text headers \n",
    "# and so cannot be read as floats. To skip the first row, just use the skip_header switch. \n",
    "\n",
    "data = np.genfromtxt(\"height-weight-only.txt\",delimiter=\",\", skip_header = 1)\n",
    "data"
   ]
  },
  {
   "cell_type": "code",
   "execution_count": 10,
   "metadata": {},
   "outputs": [
    {
     "name": "stdout",
     "output_type": "stream",
     "text": [
      "[[1 2 3]\n",
      " [5 6 8]]\n"
     ]
    },
    {
     "data": {
      "text/plain": [
       "8"
      ]
     },
     "execution_count": 10,
     "metadata": {},
     "output_type": "execute_result"
    }
   ],
   "source": [
    "x = np.array([[1,2,3],[5,6,8]])\n",
    "print(x)\n",
    "x.max()"
   ]
  },
  {
   "cell_type": "code",
   "execution_count": 15,
   "metadata": {},
   "outputs": [
    {
     "data": {
      "text/plain": [
       "5"
      ]
     },
     "execution_count": 15,
     "metadata": {},
     "output_type": "execute_result"
    }
   ],
   "source": [
    "# Find the position of value\n",
    "x.argmax()"
   ]
  },
  {
   "cell_type": "code",
   "execution_count": 17,
   "metadata": {},
   "outputs": [
    {
     "name": "stdout",
     "output_type": "stream",
     "text": [
      "1\n"
     ]
    },
    {
     "data": {
      "text/plain": [
       "0"
      ]
     },
     "execution_count": 17,
     "metadata": {},
     "output_type": "execute_result"
    }
   ],
   "source": [
    "print(x.min())\n",
    "x.argmin()"
   ]
  }
 ],
 "metadata": {
  "kernelspec": {
   "display_name": "Python 3",
   "language": "python",
   "name": "python3"
  },
  "language_info": {
   "codemirror_mode": {
    "name": "ipython",
    "version": 3
   },
   "file_extension": ".py",
   "mimetype": "text/x-python",
   "name": "python",
   "nbconvert_exporter": "python",
   "pygments_lexer": "ipython3",
   "version": "3.8.3"
  }
 },
 "nbformat": 4,
 "nbformat_minor": 4
}
