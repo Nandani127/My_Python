{
 "cells": [
  {
   "cell_type": "markdown",
   "metadata": {},
   "source": [
    "### Date Object \n",
    "- The date object just deals with the date – year, month and day of the month – and doesn’t include time. "
   ]
  },
  {
   "cell_type": "code",
   "execution_count": 7,
   "metadata": {},
   "outputs": [
    {
     "data": {
      "text/plain": [
       "datetime.date(2021, 5, 7)"
      ]
     },
     "execution_count": 7,
     "metadata": {},
     "output_type": "execute_result"
    }
   ],
   "source": [
    "from datetime import date \n",
    "d = date(2021, 5, 7)             # Initialize a date object\n",
    "d"
   ]
  },
  {
   "cell_type": "code",
   "execution_count": 18,
   "metadata": {},
   "outputs": [
    {
     "data": {
      "text/plain": [
       "2021"
      ]
     },
     "execution_count": 18,
     "metadata": {},
     "output_type": "execute_result"
    }
   ],
   "source": [
    "d.year"
   ]
  },
  {
   "cell_type": "code",
   "execution_count": 32,
   "metadata": {},
   "outputs": [
    {
     "data": {
      "text/plain": [
       "datetime.date(2021, 5, 8)"
      ]
     },
     "execution_count": 32,
     "metadata": {},
     "output_type": "execute_result"
    }
   ],
   "source": [
    "today = date.today()             # Initialize a date object from today's date\n",
    "today"
   ]
  },
  {
   "cell_type": "code",
   "execution_count": 33,
   "metadata": {},
   "outputs": [
    {
     "data": {
      "text/plain": [
       "datetime.date(2021, 5, 8)"
      ]
     },
     "execution_count": 33,
     "metadata": {},
     "output_type": "execute_result"
    }
   ],
   "source": [
    "import time\n",
    "from datetime import date\n",
    "today = date.fromtimestamp(time.time())       # Initialize a date object from time in seconds\n",
    "today"
   ]
  },
  {
   "cell_type": "code",
   "execution_count": 34,
   "metadata": {},
   "outputs": [
    {
     "data": {
      "text/plain": [
       "8"
      ]
     },
     "execution_count": 34,
     "metadata": {},
     "output_type": "execute_result"
    }
   ],
   "source": [
    "# The key attributes ( day, month and year ) can be extracted using the read-only attributes – \n",
    "# day, month & year\n",
    "today.day"
   ]
  },
  {
   "cell_type": "code",
   "execution_count": 12,
   "metadata": {},
   "outputs": [
    {
     "data": {
      "text/plain": [
       "5"
      ]
     },
     "execution_count": 12,
     "metadata": {},
     "output_type": "execute_result"
    }
   ],
   "source": [
    "today.month"
   ]
  },
  {
   "cell_type": "code",
   "execution_count": 13,
   "metadata": {},
   "outputs": [
    {
     "data": {
      "text/plain": [
       "2021"
      ]
     },
     "execution_count": 13,
     "metadata": {},
     "output_type": "execute_result"
    }
   ],
   "source": [
    "today.year"
   ]
  },
  {
   "cell_type": "code",
   "execution_count": 35,
   "metadata": {},
   "outputs": [
    {
     "data": {
      "text/plain": [
       "datetime.date(2020, 5, 8)"
      ]
     },
     "execution_count": 35,
     "metadata": {},
     "output_type": "execute_result"
    }
   ],
   "source": [
    "# date.replace() - replace specific attributes (day, month or year) .\n",
    "today.replace(year = 2020)"
   ]
  },
  {
   "cell_type": "code",
   "execution_count": 19,
   "metadata": {},
   "outputs": [
    {
     "data": {
      "text/plain": [
       "4"
      ]
     },
     "execution_count": 19,
     "metadata": {},
     "output_type": "execute_result"
    }
   ],
   "source": [
    "# weekday - returns the day of the week\n",
    "# 0-Monday, 1-Tuesday, 2-Wednesday ...\n",
    "today.weekday()"
   ]
  },
  {
   "cell_type": "code",
   "execution_count": 23,
   "metadata": {},
   "outputs": [
    {
     "name": "stdout",
     "output_type": "stream",
     "text": [
      "May '21\n",
      "May '21\n"
     ]
    }
   ],
   "source": [
    "# We can format the date object into a string using the strftime () function.\n",
    "# Just provide the formatting info.\n",
    "print ( today.strftime(\"%b '%y\"))\n",
    "print ( today.strftime(\"%B '%y\"))\n",
    "\n",
    "'''\n",
    "%b - Month as locale’s abbreviated name. (Jan, Feb, ..., Dec)\n",
    "%y - Year without century as a zero-padded decimal number.(00, 01, ..., 99)\n",
    "%B - Month as locale’s full name. (January, February, ..., December)\n",
    "'''"
   ]
  },
  {
   "cell_type": "code",
   "execution_count": 21,
   "metadata": {},
   "outputs": [
    {
     "name": "stdout",
     "output_type": "stream",
     "text": [
      "2021-05-07\n"
     ]
    }
   ],
   "source": [
    "print ( today.strftime(\"%Y-%m-%d\"))\n",
    "\n",
    "'''\n",
    "%Y - Year with century as a decimal number.(0001, 0002, ..., 2013, 2014, ..., 9998, 9999)\n",
    "%m - Month as a zero-padded decimal number.(01, 02, ..., 12)\n",
    "%d - Day of the month as a zero-padded decimal number. (01, 02, ..., 31)\n",
    "For more - https://docs.python.org/3.3/library/datetime.html#strftime-and-strptime-behavior\n",
    "'''"
   ]
  },
  {
   "cell_type": "code",
   "execution_count": 24,
   "metadata": {},
   "outputs": [
    {
     "name": "stdout",
     "output_type": "stream",
     "text": [
      "-1 day, 0:00:00\n"
     ]
    }
   ],
   "source": [
    "from datetime import date\n",
    " \n",
    "today     = date(2019,1,7)\n",
    "yesterday = date(2019,1,6)\n",
    " \n",
    "print ( yesterday-today)"
   ]
  },
  {
   "cell_type": "markdown",
   "metadata": {},
   "source": [
    "### timedelta Object"
   ]
  },
  {
   "cell_type": "code",
   "execution_count": 5,
   "metadata": {
    "scrolled": true
   },
   "outputs": [
    {
     "name": "stdout",
     "output_type": "stream",
     "text": [
      "Today  2021-05-08\n",
      "Tomorrow  2021-05-09\n"
     ]
    }
   ],
   "source": [
    "# The module timedelta can be used to add a particular delta unit of time\n",
    "# We can add weeks, days, hours, minutes, seconds or even microseconds\n",
    "\n",
    "from datetime import timedelta, date \n",
    "today = date.today()\n",
    "print(\"Today \",today)\n",
    "tomorrow = today + timedelta(days = 1 ) \n",
    "print(\"Tomorrow \",tomorrow)"
   ]
  },
  {
   "cell_type": "code",
   "execution_count": 6,
   "metadata": {},
   "outputs": [
    {
     "data": {
      "text/plain": [
       "9"
      ]
     },
     "execution_count": 6,
     "metadata": {},
     "output_type": "execute_result"
    }
   ],
   "source": [
    "tomorrow.day"
   ]
  },
  {
   "cell_type": "code",
   "execution_count": 7,
   "metadata": {},
   "outputs": [
    {
     "data": {
      "text/plain": [
       "datetime.timedelta(days=7)"
      ]
     },
     "execution_count": 7,
     "metadata": {},
     "output_type": "execute_result"
    }
   ],
   "source": [
    "# how many days between today and 1 week from now \n",
    "today = date.today()\n",
    "week  = today + timedelta(weeks = 1) \n",
    "week-today \n",
    "\n",
    "'''Allowed operations:  + , - , compare (= , <) etc.'''"
   ]
  },
  {
   "cell_type": "code",
   "execution_count": 9,
   "metadata": {},
   "outputs": [
    {
     "data": {
      "text/plain": [
       "datetime.timedelta(days=1)"
      ]
     },
     "execution_count": 9,
     "metadata": {},
     "output_type": "execute_result"
    }
   ],
   "source": [
    "from datetime import date\n",
    " \n",
    "today     = date(2019,1,7)\n",
    "yesterday = date(2019,1,6)\n",
    " \n",
    "today - yesterday"
   ]
  },
  {
   "cell_type": "code",
   "execution_count": 10,
   "metadata": {},
   "outputs": [
    {
     "data": {
      "text/plain": [
       "False"
      ]
     },
     "execution_count": 10,
     "metadata": {},
     "output_type": "execute_result"
    }
   ],
   "source": [
    "today < yesterday"
   ]
  },
  {
   "cell_type": "code",
   "execution_count": 11,
   "metadata": {},
   "outputs": [
    {
     "name": "stdout",
     "output_type": "stream",
     "text": [
      "Today  2019-01-07\n",
      "5\n"
     ]
    }
   ],
   "source": [
    "print(\"Today \", today)\n",
    "print ( (today - timedelta(days = 2)).day )"
   ]
  },
  {
   "cell_type": "code",
   "execution_count": 13,
   "metadata": {},
   "outputs": [
    {
     "ename": "TypeError",
     "evalue": "'month' is an invalid keyword argument for __new__()",
     "output_type": "error",
     "traceback": [
      "\u001b[1;31m---------------------------------------------------------------------------\u001b[0m",
      "\u001b[1;31mTypeError\u001b[0m                                 Traceback (most recent call last)",
      "\u001b[1;32m<ipython-input-13-8a9f71dbc5c6>\u001b[0m in \u001b[0;36m<module>\u001b[1;34m\u001b[0m\n\u001b[1;32m----> 1\u001b[1;33m \u001b[0mprint\u001b[0m \u001b[1;33m(\u001b[0m \u001b[1;33m(\u001b[0m\u001b[0mtoday\u001b[0m \u001b[1;33m-\u001b[0m \u001b[0mtimedelta\u001b[0m\u001b[1;33m(\u001b[0m\u001b[0mmonth\u001b[0m \u001b[1;33m=\u001b[0m \u001b[1;36m2\u001b[0m\u001b[1;33m)\u001b[0m\u001b[1;33m)\u001b[0m\u001b[1;33m.\u001b[0m\u001b[0mmonth\u001b[0m\u001b[1;33m)\u001b[0m\u001b[1;33m\u001b[0m\u001b[1;33m\u001b[0m\u001b[0m\n\u001b[0m",
      "\u001b[1;31mTypeError\u001b[0m: 'month' is an invalid keyword argument for __new__()"
     ]
    }
   ],
   "source": [
    "# month is not allowed in timedelta\n",
    "print ( (today - timedelta(months = 2)).month)"
   ]
  },
  {
   "cell_type": "code",
   "execution_count": 20,
   "metadata": {
    "scrolled": true
   },
   "outputs": [
    {
     "name": "stdout",
     "output_type": "stream",
     "text": [
      "65 days, 0:00:00\n"
     ]
    }
   ],
   "source": [
    "# How many days till my next birthday?\n",
    "today = date.today()                  # Today's date\n",
    "birthday = date(2001,7,12)            # My birthdate\n",
    "next_birthday = date(today.year, birthday.month, birthday.day)    \n",
    "\n",
    "# birthday already passed this year. So, calculate until the next year \n",
    "if next_birthday < today :     \n",
    "    next_birthday = date(today.year+1, birthday.month, birthday.day) \n",
    "\n",
    "# so number of days till my next birthday will be\n",
    "number_days = next_birthday - today\n",
    "print(number_days)"
   ]
  },
  {
   "cell_type": "markdown",
   "metadata": {},
   "source": [
    "### datetime.time Object \n",
    "- key attributes -\n",
    "  hour, minute, second, microsecond"
   ]
  },
  {
   "cell_type": "code",
   "execution_count": 23,
   "metadata": {},
   "outputs": [
    {
     "name": "stdout",
     "output_type": "stream",
     "text": [
      "07:12:21.320000\n"
     ]
    }
   ],
   "source": [
    "# Initialize a time object, It is time relative to 12:00 midnight of a day\n",
    "from datetime import time\n",
    "now = time(7,12,21,320000)\n",
    "print(now)"
   ]
  },
  {
   "cell_type": "code",
   "execution_count": 24,
   "metadata": {},
   "outputs": [
    {
     "data": {
      "text/plain": [
       "7"
      ]
     },
     "execution_count": 24,
     "metadata": {},
     "output_type": "execute_result"
    }
   ],
   "source": [
    "# the time object also has read-only attributes to get the key parameters. \n",
    "now.hour"
   ]
  },
  {
   "cell_type": "code",
   "execution_count": 25,
   "metadata": {},
   "outputs": [
    {
     "data": {
      "text/plain": [
       "12"
      ]
     },
     "execution_count": 25,
     "metadata": {},
     "output_type": "execute_result"
    }
   ],
   "source": [
    "now.minute"
   ]
  },
  {
   "cell_type": "code",
   "execution_count": 29,
   "metadata": {},
   "outputs": [
    {
     "data": {
      "text/plain": [
       "21"
      ]
     },
     "execution_count": 29,
     "metadata": {},
     "output_type": "execute_result"
    }
   ],
   "source": [
    "now.second"
   ]
  },
  {
   "cell_type": "code",
   "execution_count": 27,
   "metadata": {},
   "outputs": [
    {
     "data": {
      "text/plain": [
       "320000"
      ]
     },
     "execution_count": 27,
     "metadata": {},
     "output_type": "execute_result"
    }
   ],
   "source": [
    "now.microsecond"
   ]
  },
  {
   "cell_type": "code",
   "execution_count": 31,
   "metadata": {},
   "outputs": [
    {
     "data": {
      "text/plain": [
       "datetime.time(20, 12, 21, 320000)"
      ]
     },
     "execution_count": 31,
     "metadata": {},
     "output_type": "execute_result"
    }
   ],
   "source": [
    "# time object replace method\n",
    "now.replace(hour=20)"
   ]
  },
  {
   "cell_type": "code",
   "execution_count": 36,
   "metadata": {},
   "outputs": [
    {
     "data": {
      "text/plain": [
       "'07'"
      ]
     },
     "execution_count": 36,
     "metadata": {},
     "output_type": "execute_result"
    }
   ],
   "source": [
    "# strftime() - formatting\n",
    "now.strftime(\"%I\")\n",
    "'''\n",
    "%I - Hour (12-hour clock) as a zero-padded decimal number. (01, 02, ..., 12)\n",
    "%p -  Locale’s equivalent of either AM or PM. ( AM, PM (en_US);  am, pm (de_DE) )\n",
    "%X \tLocale’s appropriate time representation.  ( 21:30:00 (en_US); 21:30:00 (de_DE) )\n",
    "'''"
   ]
  },
  {
   "cell_type": "code",
   "execution_count": 37,
   "metadata": {},
   "outputs": [
    {
     "data": {
      "text/plain": [
       "'AM'"
      ]
     },
     "execution_count": 37,
     "metadata": {},
     "output_type": "execute_result"
    }
   ],
   "source": [
    "now.strftime(\"%p\")"
   ]
  },
  {
   "cell_type": "code",
   "execution_count": 38,
   "metadata": {},
   "outputs": [
    {
     "data": {
      "text/plain": [
       "'07:12:21'"
      ]
     },
     "execution_count": 38,
     "metadata": {},
     "output_type": "execute_result"
    }
   ],
   "source": [
    "now.strftime(\"%X\")"
   ]
  },
  {
   "attachments": {},
   "cell_type": "markdown",
   "metadata": {},
   "source": [
    "Time Object\n",
    "\n",
    "This is a different time object compared to the one above. It is not part of the datetime module. Every computer measures time in seconds since a starting point. Typically, its 1970. The time ( ) functions gives the number of seconds since."
   ]
  },
  {
   "cell_type": "code",
   "execution_count": 43,
   "metadata": {},
   "outputs": [
    {
     "data": {
      "text/plain": [
       "1620487857.8831153"
      ]
     },
     "execution_count": 43,
     "metadata": {},
     "output_type": "execute_result"
    }
   ],
   "source": [
    "import time \n",
    "now = time.time() \n",
    "now\n",
    "# number of seconds passed since Jan 1st 1970 (Also called Epoch)"
   ]
  },
  {
   "cell_type": "code",
   "execution_count": 44,
   "metadata": {},
   "outputs": [
    {
     "data": {
      "text/plain": [
       "1.8908185958862305"
      ]
     },
     "execution_count": 44,
     "metadata": {},
     "output_type": "execute_result"
    }
   ],
   "source": [
    "# This simple function can be pretty useful in programs, specifically to calculate how long \n",
    "# it takes for a piece of code to execute.\n",
    "before = time.time() \n",
    "sum = 0\n",
    "for i in range(10000000) :     \n",
    "    sum = sum + i \n",
    "after = time.time() \n",
    "time_taken = after - before \n",
    "time_taken "
   ]
  },
  {
   "cell_type": "code",
   "execution_count": 45,
   "metadata": {},
   "outputs": [
    {
     "name": "stdout",
     "output_type": "stream",
     "text": [
      "time.struct_time(tm_year=2021, tm_mon=5, tm_mday=8, tm_hour=21, tm_min=3, tm_sec=30, tm_wday=5, tm_yday=128, tm_isdst=0)\n"
     ]
    }
   ],
   "source": [
    "# localtime() - a function in the time object that can return the local time, \n",
    "# broken down into year, month, day, hour… etc. \n",
    "import time\n",
    " \n",
    "print (time.localtime())\n",
    "'''\n",
    "localtime function returns the local time (as per the system's locale)\n",
    "The returned object is a tuple. It is of type struct_time\n",
    "tm_year = year\n",
    "tm_mon = month\n",
    "tm_mday = day\n",
    "tm_hour = hour\n",
    "tm_min = minutes\n",
    "tm_sec = seconds\n",
    "tm_wday = weekday\n",
    "tm_yday = day of the year\n",
    "'''"
   ]
  },
  {
   "cell_type": "markdown",
   "metadata": {},
   "source": [
    "### Datetime Object\n",
    "\n",
    "datetime object contains info on both date and time. "
   ]
  },
  {
   "cell_type": "code",
   "execution_count": 49,
   "metadata": {},
   "outputs": [
    {
     "data": {
      "text/plain": [
       "datetime.datetime(2021, 5, 8, 21, 10, 42, 26959)"
      ]
     },
     "execution_count": 49,
     "metadata": {},
     "output_type": "execute_result"
    }
   ],
   "source": [
    "import datetime \n",
    "datetime.datetime.now() \n",
    "# year, month, date, hour, minutes, seconds, microseconds"
   ]
  },
  {
   "cell_type": "code",
   "execution_count": 51,
   "metadata": {},
   "outputs": [
    {
     "data": {
      "text/plain": [
       "datetime.datetime(2021, 5, 8, 21, 10, 42, 26959)"
      ]
     },
     "execution_count": 51,
     "metadata": {},
     "output_type": "execute_result"
    }
   ],
   "source": [
    "now = datetime.datetime(2021, 5, 8, 21, 10, 42, 26959) \n",
    "now"
   ]
  },
  {
   "cell_type": "code",
   "execution_count": 52,
   "metadata": {},
   "outputs": [
    {
     "data": {
      "text/plain": [
       "8"
      ]
     },
     "execution_count": 52,
     "metadata": {},
     "output_type": "execute_result"
    }
   ],
   "source": [
    "# We can also extract all of the info back from the datetime object.\n",
    "now.day"
   ]
  },
  {
   "cell_type": "code",
   "execution_count": 53,
   "metadata": {},
   "outputs": [
    {
     "data": {
      "text/plain": [
       "42"
      ]
     },
     "execution_count": 53,
     "metadata": {},
     "output_type": "execute_result"
    }
   ],
   "source": [
    "now.second"
   ]
  },
  {
   "cell_type": "code",
   "execution_count": 54,
   "metadata": {},
   "outputs": [
    {
     "data": {
      "text/plain": [
       "datetime.date(2021, 5, 8)"
      ]
     },
     "execution_count": 54,
     "metadata": {},
     "output_type": "execute_result"
    }
   ],
   "source": [
    "# We can even extract specific dateand time objects.\n",
    "now.date()"
   ]
  },
  {
   "cell_type": "code",
   "execution_count": 55,
   "metadata": {},
   "outputs": [
    {
     "data": {
      "text/plain": [
       "datetime.time(21, 10, 42, 26959)"
      ]
     },
     "execution_count": 55,
     "metadata": {},
     "output_type": "execute_result"
    }
   ],
   "source": [
    "now.time()"
   ]
  },
  {
   "cell_type": "code",
   "execution_count": 57,
   "metadata": {},
   "outputs": [
    {
     "data": {
      "text/plain": [
       "datetime.datetime(1980, 6, 15, 0, 0)"
      ]
     },
     "execution_count": 57,
     "metadata": {},
     "output_type": "execute_result"
    }
   ],
   "source": [
    "'''\n",
    "We can also extract date and time from text.\n",
    "To extract text and convert it into date or time objects, use the strptime function of datetime\n",
    "object.\n",
    "'''\n",
    "\n",
    "from datetime import datetime  \n",
    "d = \"JUN-15-1980\"\n",
    "date = datetime.strptime(d, \"%b-%d-%Y\") \n",
    "date"
   ]
  },
  {
   "cell_type": "code",
   "execution_count": 58,
   "metadata": {},
   "outputs": [
    {
     "data": {
      "text/plain": [
       "6"
      ]
     },
     "execution_count": 58,
     "metadata": {},
     "output_type": "execute_result"
    }
   ],
   "source": [
    "date.weekday()               # 6 = Saturday"
   ]
  },
  {
   "cell_type": "markdown",
   "metadata": {},
   "source": [
    "Challenges"
   ]
  },
  {
   "cell_type": "code",
   "execution_count": 60,
   "metadata": {},
   "outputs": [
    {
     "name": "stdout",
     "output_type": "stream",
     "text": [
      "2021-05-08\n",
      "2021-05-15\n"
     ]
    }
   ],
   "source": [
    "# Add 7 days to the current day\n",
    "from datetime import date, timedelta\n",
    "today =  date.today()\n",
    "print(today)\n",
    "days_seven = today + timedelta(days = 7)\n",
    "print(days_seven)"
   ]
  },
  {
   "cell_type": "code",
   "execution_count": 68,
   "metadata": {},
   "outputs": [
    {
     "name": "stdout",
     "output_type": "stream",
     "text": [
      "2021-05-08 21:22:58.578943\n",
      "2021-05-08 21:23:05.578943\n"
     ]
    }
   ],
   "source": [
    "# Add 7 seconds to the current time.\n",
    "from datetime import time,timedelta\n",
    "now = datetime.now()\n",
    "print(now)\n",
    "now_7 = now + timedelta(seconds = 7)\n",
    "print(now_7)"
   ]
  },
  {
   "cell_type": "code",
   "execution_count": 69,
   "metadata": {},
   "outputs": [
    {
     "name": "stdout",
     "output_type": "stream",
     "text": [
      "(2021, 18, 6)\n"
     ]
    }
   ],
   "source": [
    "# Get the current week number of the year.\n",
    "from datetime import datetime, time\n",
    " \n",
    "now = datetime.now ()\n",
    "current_week = now.isocalendar()\n",
    " \n",
    "# tuple of year, week number, week day\n",
    "print ( current_week)"
   ]
  },
  {
   "cell_type": "code",
   "execution_count": 75,
   "metadata": {},
   "outputs": [
    {
     "name": "stdout",
     "output_type": "stream",
     "text": [
      "2021-05-08 21:31:38.482759 \n",
      " 2022-07-11 21:31:38.482759\n"
     ]
    }
   ],
   "source": [
    "# Add 1 year, 2 months and 3 days to the current date\n",
    "\n",
    "from datetime import datetime, timedelta\n",
    " \n",
    "now = datetime.now ()\n",
    "now_new = now\n",
    " \n",
    "# add one year\n",
    "now_new = now_new.replace ( year = now.year + 1)\n",
    " \n",
    "# add two month\n",
    "year  = now_new.year\n",
    "month = now_new.month + 2\n",
    " \n",
    "if month > 12 :\n",
    "    year  = year + 1\n",
    "    month = month - 12\n",
    "\n",
    "now_new = now_new.replace ( year = year, month = month)\n",
    " \n",
    "# add 3 days\n",
    "now_new = now_new + timedelta(days = 3)\n",
    " \n",
    "print ( now ,\"\\n\",now_new)"
   ]
  },
  {
   "cell_type": "code",
   "execution_count": 79,
   "metadata": {
    "scrolled": true
   },
   "outputs": [
    {
     "name": "stdout",
     "output_type": "stream",
     "text": [
      "2021-01-03\n",
      "2021-01-10\n",
      "2021-01-17\n",
      "2021-01-24\n",
      "2021-01-31\n",
      "2021-02-07\n",
      "2021-02-14\n",
      "2021-02-21\n",
      "2021-02-28\n",
      "2021-03-07\n",
      "2021-03-14\n",
      "2021-03-21\n",
      "2021-03-28\n",
      "2021-04-04\n",
      "2021-04-11\n",
      "2021-04-18\n",
      "2021-04-25\n",
      "2021-05-02\n",
      "2021-05-09\n",
      "2021-05-16\n",
      "2021-05-23\n",
      "2021-05-30\n",
      "2021-06-06\n",
      "2021-06-13\n",
      "2021-06-20\n",
      "2021-06-27\n",
      "2021-07-04\n",
      "2021-07-11\n",
      "2021-07-18\n",
      "2021-07-25\n",
      "2021-08-01\n",
      "2021-08-08\n",
      "2021-08-15\n",
      "2021-08-22\n",
      "2021-08-29\n",
      "2021-09-05\n",
      "2021-09-12\n",
      "2021-09-19\n",
      "2021-09-26\n",
      "2021-10-03\n",
      "2021-10-10\n",
      "2021-10-17\n",
      "2021-10-24\n",
      "2021-10-31\n",
      "2021-11-07\n",
      "2021-11-14\n",
      "2021-11-21\n",
      "2021-11-28\n",
      "2021-12-05\n",
      "2021-12-12\n",
      "2021-12-19\n",
      "2021-12-26\n",
      "2022-01-02\n"
     ]
    }
   ],
   "source": [
    "# Get all the dates of sundays in the current year\n",
    "\n",
    "from datetime import date, timedelta\n",
    " \n",
    "#get the first sunday in the year\n",
    "today = date(date.today().year,1,1)\n",
    "today.weekday()  # monday = 0, tuesday = 1...\n",
    "sunday = today + timedelta(days = 6 - today.weekday())\n",
    "print(sunday)\n",
    "while ( sunday.year == today.year) :\n",
    "    sunday = sunday + timedelta(days=7)\n",
    "    print ( sunday )"
   ]
  },
  {
   "cell_type": "code",
   "execution_count": 80,
   "metadata": {},
   "outputs": [
    {
     "name": "stdout",
     "output_type": "stream",
     "text": [
      "2000 29\n",
      "2001 28\n",
      "2002 28\n",
      "2003 28\n",
      "2004 29\n",
      "2005 28\n",
      "2006 28\n",
      "2007 28\n",
      "2008 29\n",
      "2009 28\n",
      "2010 28\n",
      "2011 28\n",
      "2012 29\n",
      "2013 28\n",
      "2014 28\n",
      "2015 28\n",
      "2016 29\n",
      "2017 28\n",
      "2018 28\n",
      "2019 28\n",
      "2020 29\n",
      "2021 28\n"
     ]
    }
   ],
   "source": [
    "# Print the number of days in February across all the years starting 2000 till date.\n",
    "\n",
    "from datetime import date, timedelta\n",
    " \n",
    "#we are iterating over each day and finding out the total number of days. \n",
    "#This is definitely not efficient\n",
    " \n",
    "# get the date for feb month of 2000\n",
    "feb = date(2000,2,1)\n",
    " \n",
    "for year in range(2000,date.today().year + 1) :\n",
    "    month = feb.month\n",
    "     \n",
    "    count = 1\n",
    "    for i in range(1,31) :  # at most 31 days  \n",
    "        feb = feb + timedelta(days = 1)\n",
    "         \n",
    "        # as long as we are still in feb\n",
    "        if feb.month == month : \n",
    "            count = count + 1\n",
    "     \n",
    "    # print out the count\n",
    "    print ( year, count)\n",
    "     \n",
    "    # add one year \n",
    "    feb = feb.replace( year = feb.year + 1)\n",
    "     \n",
    "    # and reset the date to 1st of feb\n",
    "    feb = feb.replace(month = 2, day = 1)"
   ]
  },
  {
   "cell_type": "code",
   "execution_count": 83,
   "metadata": {},
   "outputs": [
    {
     "name": "stdout",
     "output_type": "stream",
     "text": [
      "Nandani\n",
      "Nandani\n",
      "Nandani\n",
      "Nandani\n",
      "Nandani\n",
      "Nandani\n",
      "Nandani\n",
      "Nandani\n",
      "Nandani\n",
      "Nandani\n"
     ]
    }
   ],
   "source": [
    "# Print your name 10 times with a delay of 1 second. \n",
    "import time\n",
    " \n",
    "for i in range(10) : \n",
    "    print ( \"Nandani\") \n",
    "    time.sleep(1)"
   ]
  }
 ],
 "metadata": {
  "kernelspec": {
   "display_name": "Python 3",
   "language": "python",
   "name": "python3"
  },
  "language_info": {
   "codemirror_mode": {
    "name": "ipython",
    "version": 3
   },
   "file_extension": ".py",
   "mimetype": "text/x-python",
   "name": "python",
   "nbconvert_exporter": "python",
   "pygments_lexer": "ipython3",
   "version": "3.8.3"
  }
 },
 "nbformat": 4,
 "nbformat_minor": 4
}
