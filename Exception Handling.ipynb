{
 "cells": [
  {
   "cell_type": "markdown",
   "metadata": {},
   "source": [
    "- Exceptions are used to signal errors to users\n",
    "- Exceptions are caught via try-except block"
   ]
  },
  {
   "cell_type": "code",
   "execution_count": 2,
   "metadata": {},
   "outputs": [
    {
     "name": "stdout",
     "output_type": "stream",
     "text": [
      "enter divisor - 2\n",
      "If I were half my age, I would be 9.5 years old\n"
     ]
    }
   ],
   "source": [
    "age = 19\n",
    "divisor = int(input(\"enter divisor - \"))\n",
    "new_age = age / divisor\n",
    "print ( \"If I were half my age, I would be\", new_age, \"years old\")"
   ]
  },
  {
   "cell_type": "code",
   "execution_count": 3,
   "metadata": {},
   "outputs": [
    {
     "name": "stdout",
     "output_type": "stream",
     "text": [
      "enter divisor - 0\n"
     ]
    },
    {
     "ename": "ZeroDivisionError",
     "evalue": "division by zero",
     "output_type": "error",
     "traceback": [
      "\u001b[1;31m---------------------------------------------------------------------------\u001b[0m",
      "\u001b[1;31mZeroDivisionError\u001b[0m                         Traceback (most recent call last)",
      "\u001b[1;32m<ipython-input-3-1c3bb10c411a>\u001b[0m in \u001b[0;36m<module>\u001b[1;34m\u001b[0m\n\u001b[0;32m      2\u001b[0m \u001b[0mdivisor\u001b[0m \u001b[1;33m=\u001b[0m \u001b[0mint\u001b[0m\u001b[1;33m(\u001b[0m\u001b[0minput\u001b[0m\u001b[1;33m(\u001b[0m\u001b[1;34m\"enter divisor - \"\u001b[0m\u001b[1;33m)\u001b[0m\u001b[1;33m)\u001b[0m\u001b[1;33m\u001b[0m\u001b[1;33m\u001b[0m\u001b[0m\n\u001b[0;32m      3\u001b[0m \u001b[1;33m\u001b[0m\u001b[0m\n\u001b[1;32m----> 4\u001b[1;33m \u001b[0mnew_age\u001b[0m \u001b[1;33m=\u001b[0m \u001b[0mage\u001b[0m \u001b[1;33m/\u001b[0m \u001b[0mdivisor\u001b[0m\u001b[1;33m\u001b[0m\u001b[1;33m\u001b[0m\u001b[0m\n\u001b[0m\u001b[0;32m      5\u001b[0m \u001b[1;33m\u001b[0m\u001b[0m\n\u001b[0;32m      6\u001b[0m \u001b[0mprint\u001b[0m \u001b[1;33m(\u001b[0m \u001b[1;34m\"If I were half my age, I would be\"\u001b[0m\u001b[1;33m,\u001b[0m \u001b[0mnew_age\u001b[0m\u001b[1;33m,\u001b[0m \u001b[1;34m\"years old\"\u001b[0m\u001b[1;33m)\u001b[0m\u001b[1;33m\u001b[0m\u001b[1;33m\u001b[0m\u001b[0m\n",
      "\u001b[1;31mZeroDivisionError\u001b[0m: division by zero"
     ]
    }
   ],
   "source": [
    "# But what if we input 0 -- Its an error\n",
    "divisor = int(input(\"enter divisor - \"))\n",
    " \n",
    "new_age = age / divisor\n",
    " \n",
    "print ( \"If I were half my age, I would be\", new_age, \"years old\")"
   ]
  },
  {
   "cell_type": "code",
   "execution_count": 4,
   "metadata": {},
   "outputs": [
    {
     "name": "stdout",
     "output_type": "stream",
     "text": [
      "enter divisor - 0\n",
      "exception occured\n"
     ]
    }
   ],
   "source": [
    "# Handling this error\n",
    "# try catch block\n",
    "try : \n",
    "    divisor = int(input(\"enter divisor - \"))\n",
    " \n",
    "    new_age = age / divisor\n",
    "    print ( \"If I were half my age, I would be\", new_age, \"years old\")\n",
    "\n",
    "except : \n",
    "    print ( \"exception occured\")"
   ]
  },
  {
   "cell_type": "code",
   "execution_count": 5,
   "metadata": {},
   "outputs": [
    {
     "ename": "KeyError",
     "evalue": "'canada'",
     "output_type": "error",
     "traceback": [
      "\u001b[1;31m---------------------------------------------------------------------------\u001b[0m",
      "\u001b[1;31mKeyError\u001b[0m                                  Traceback (most recent call last)",
      "\u001b[1;32m<ipython-input-5-501654528dec>\u001b[0m in \u001b[0;36m<module>\u001b[1;34m\u001b[0m\n\u001b[0;32m      3\u001b[0m               \u001b[1;34m\"china\"\u001b[0m    \u001b[1;33m:\u001b[0m\u001b[1;36m1419518156\u001b[0m\u001b[1;33m,\u001b[0m\u001b[1;33m\u001b[0m\u001b[1;33m\u001b[0m\u001b[0m\n\u001b[0;32m      4\u001b[0m               \"US\"       :328830848 }\n\u001b[1;32m----> 5\u001b[1;33m \u001b[0mpopulation\u001b[0m\u001b[1;33m[\u001b[0m\u001b[1;34m\"canada\"\u001b[0m\u001b[1;33m]\u001b[0m\u001b[1;33m\u001b[0m\u001b[1;33m\u001b[0m\u001b[0m\n\u001b[0m",
      "\u001b[1;31mKeyError\u001b[0m: 'canada'"
     ]
    }
   ],
   "source": [
    "# Key error\n",
    "population = {\"india\"    :1367097934,\n",
    "              \"china\"    :1419518156,\n",
    "              \"US\"       :328830848 }\n",
    "population[\"canada\"]"
   ]
  },
  {
   "cell_type": "code",
   "execution_count": 6,
   "metadata": {},
   "outputs": [
    {
     "name": "stdout",
     "output_type": "stream",
     "text": [
      "Exception 'canada' occured\n"
     ]
    }
   ],
   "source": [
    "try :\n",
    "    print ( population[\"canada\"])\n",
    "except Exception as e :\n",
    "    print ( \"Exception\", e, \"occured\")"
   ]
  },
  {
   "cell_type": "code",
   "execution_count": 17,
   "metadata": {},
   "outputs": [
    {
     "name": "stdout",
     "output_type": "stream",
     "text": [
      "Exception <class 'KeyError'> occured\n"
     ]
    }
   ],
   "source": [
    "# That’s not the name of the exception. \n",
    "# To get the actual exception class, use the __class__ attribute of the Exception base class.\n",
    "try :\n",
    "    print ( population[\"canada\"])\n",
    "except Exception as e :\n",
    "    print ( \"Exception\", e.__class__, \"occured\")"
   ]
  },
  {
   "cell_type": "code",
   "execution_count": 12,
   "metadata": {},
   "outputs": [
    {
     "name": "stdout",
     "output_type": "stream",
     "text": [
      "Enter a number (e to exit)u\n"
     ]
    },
    {
     "ename": "ValueError",
     "evalue": "invalid literal for int() with base 10: 'u'",
     "output_type": "error",
     "traceback": [
      "\u001b[1;31m---------------------------------------------------------------------------\u001b[0m",
      "\u001b[1;31mValueError\u001b[0m                                Traceback (most recent call last)",
      "\u001b[1;32m<ipython-input-12-ab7d5962f08f>\u001b[0m in \u001b[0;36m<module>\u001b[1;34m\u001b[0m\n\u001b[0;32m      4\u001b[0m     \u001b[0mprint\u001b[0m\u001b[1;33m(\u001b[0m\u001b[1;34m'Exiting...'\u001b[0m\u001b[1;33m)\u001b[0m\u001b[1;33m\u001b[0m\u001b[1;33m\u001b[0m\u001b[0m\n\u001b[0;32m      5\u001b[0m \u001b[1;32melse\u001b[0m\u001b[1;33m:\u001b[0m\u001b[1;33m\u001b[0m\u001b[1;33m\u001b[0m\u001b[0m\n\u001b[1;32m----> 6\u001b[1;33m     \u001b[0mnum\u001b[0m \u001b[1;33m=\u001b[0m \u001b[0mint\u001b[0m\u001b[1;33m(\u001b[0m\u001b[0ma\u001b[0m\u001b[1;33m)\u001b[0m\u001b[1;33m\u001b[0m\u001b[1;33m\u001b[0m\u001b[0m\n\u001b[0m\u001b[0;32m      7\u001b[0m     \u001b[0mprint\u001b[0m\u001b[1;33m(\u001b[0m\u001b[0ma\u001b[0m\u001b[1;33m)\u001b[0m\u001b[1;33m\u001b[0m\u001b[1;33m\u001b[0m\u001b[0m\n",
      "\u001b[1;31mValueError\u001b[0m: invalid literal for int() with base 10: 'u'"
     ]
    }
   ],
   "source": [
    "# Value Error - here on giving invalid input\n",
    "prompt = 'Enter a number (e to exit)'\n",
    "a = input(prompt)\n",
    "if a == 'e':\n",
    "    print('Exiting...')\n",
    "else:\n",
    "    num = int(a)\n",
    "    print(a)"
   ]
  },
  {
   "cell_type": "code",
   "execution_count": 9,
   "metadata": {},
   "outputs": [
    {
     "name": "stdout",
     "output_type": "stream",
     "text": [
      "Enter a number (e to exit)u\n",
      "Wrong Input\n"
     ]
    }
   ],
   "source": [
    "prompt = 'Enter a number (e to exit)'\n",
    "a = input(prompt)\n",
    "try:\n",
    "    num = int(a)\n",
    "    print(num)\n",
    "except:\n",
    "    if a == 'e':\n",
    "        print('Exiting...')\n",
    "    else:\n",
    "        print('Wrong Input')"
   ]
  },
  {
   "cell_type": "code",
   "execution_count": 15,
   "metadata": {},
   "outputs": [
    {
     "name": "stdout",
     "output_type": "stream",
     "text": [
      "Enter a number (e to exit)r\n",
      "Wrong Input\n"
     ]
    }
   ],
   "source": [
    "# Use specific Exceptions\n",
    "# Any other error except ValueError is not handled\n",
    "prompt = 'Enter a number (e to exit)'\n",
    "a = input(prompt)\n",
    "try:\n",
    "    num = int(a)\n",
    "    print(num)\n",
    "except ValueError:\n",
    "    if a == 'e':\n",
    "        print('Exiting...')\n",
    "    else:\n",
    "        print('Wrong Input')"
   ]
  },
  {
   "cell_type": "code",
   "execution_count": 16,
   "metadata": {},
   "outputs": [
    {
     "name": "stdout",
     "output_type": "stream",
     "text": [
      "Enter a number: e\n",
      "Invalid Input.Try again...\n",
      "Enter a number: v\n",
      "Invalid Input.Try again...\n",
      "Enter a number: w\n",
      "Invalid Input.Try again...\n",
      "Enter a number: 13\n"
     ]
    }
   ],
   "source": [
    "prompt = 'Enter a number: '\n",
    "while True:\n",
    "    try:\n",
    "        a = int(input(prompt))\n",
    "        break\n",
    "    except ValueError:\n",
    "        print('Invalid Input.Try again...')"
   ]
  },
  {
   "cell_type": "code",
   "execution_count": 23,
   "metadata": {},
   "outputs": [
    {
     "name": "stdout",
     "output_type": "stream",
     "text": [
      "cannot add integer to string\n"
     ]
    }
   ],
   "source": [
    "# Catching Multiple Exceptions\n",
    "age = 21\n",
    "try :\n",
    "    age = age + '1'\n",
    "    age = age / 0\n",
    "except TypeError:\n",
    "    print ( \"cannot add integer to string\")\n",
    "except ZeroDivisionError :\n",
    "    print ( \" divide by zero error \")\n",
    "except KeyError :\n",
    "    print ( \" dictionary key error \")"
   ]
  },
  {
   "cell_type": "code",
   "execution_count": 27,
   "metadata": {},
   "outputs": [
    {
     "name": "stdout",
     "output_type": "stream",
     "text": [
      "Something wrong\n"
     ]
    }
   ],
   "source": [
    "# Shortening the code\n",
    "age = 21\n",
    "try :\n",
    "    age = age + '1'          # TypeError\n",
    "    age = age / 0            # ZeroDivisionError\n",
    "except (TypeError, ZeroDivisionError, KeyError):\n",
    "    print ( \"Something wrong\")"
   ]
  },
  {
   "cell_type": "code",
   "execution_count": 30,
   "metadata": {},
   "outputs": [
    {
     "name": "stdout",
     "output_type": "stream",
     "text": [
      "2\n",
      "Input atleast two values\n",
      "2,e\n",
      "Invalid input.Try again...\n",
      "2,3\n"
     ]
    }
   ],
   "source": [
    "while True:\n",
    "    try:\n",
    "        data = input()\n",
    "        x = int(data.split(',')[1])\n",
    "        break\n",
    "    except IndexError:\n",
    "        print('Input atleast two values')\n",
    "    except ValueError:\n",
    "        print('Invalid input.Try again...')"
   ]
  },
  {
   "cell_type": "code",
   "execution_count": 2,
   "metadata": {},
   "outputs": [
    {
     "name": "stdout",
     "output_type": "stream",
     "text": [
      "2\n",
      "Invalid Input\n",
      "2,e\n",
      "Invalid Input\n",
      "e,5\n"
     ]
    }
   ],
   "source": [
    "while True:\n",
    "    try:\n",
    "        data = input()\n",
    "        x = int(data.split(',')[1])\n",
    "        break\n",
    "    except (IndexError,ValueError):\n",
    "        print('Invalid Input')"
   ]
  },
  {
   "cell_type": "code",
   "execution_count": 4,
   "metadata": {},
   "outputs": [
    {
     "name": "stdout",
     "output_type": "stream",
     "text": [
      "e\n",
      "Invalid Input\n",
      "2\n",
      "Invalid Input\n",
      "2,e\n",
      "Invalid Input\n",
      "2,6\n",
      "All is Well\n"
     ]
    }
   ],
   "source": [
    "# try,except,else\n",
    "while True:\n",
    "    try:\n",
    "        data = input()\n",
    "        x = int(data.split(',')[1])\n",
    "    except (IndexError,ValueError):\n",
    "        print('Invalid Input')\n",
    "    else:\n",
    "        print('All is Well')\n",
    "        break\n",
    "        \n",
    "# If there is no exception, and try is executed well, else clause is executed"
   ]
  },
  {
   "cell_type": "code",
   "execution_count": 5,
   "metadata": {},
   "outputs": [
    {
     "name": "stdout",
     "output_type": "stream",
     "text": [
      "e\n",
      "Invalid Input\n",
      "All good\n",
      "s\n",
      "Invalid Input\n",
      "All good\n",
      "1\n",
      "All good\n"
     ]
    }
   ],
   "source": [
    "# finally clause - cleanup action \n",
    "# always runs the finally clause\n",
    "while True:\n",
    "    try:\n",
    "        x = int(input())\n",
    "        break\n",
    "    except ValueError:\n",
    "        print(\"Invalid Input\")\n",
    "    finally:\n",
    "        print(\"All good\")"
   ]
  },
  {
   "cell_type": "code",
   "execution_count": 6,
   "metadata": {},
   "outputs": [
    {
     "name": "stdout",
     "output_type": "stream",
     "text": [
      " file not found \n",
      "closing file\n"
     ]
    },
    {
     "ename": "NameError",
     "evalue": "name 'file' is not defined",
     "output_type": "error",
     "traceback": [
      "\u001b[1;31m---------------------------------------------------------------------------\u001b[0m",
      "\u001b[1;31mNameError\u001b[0m                                 Traceback (most recent call last)",
      "\u001b[1;32m<ipython-input-6-f8245c803d37>\u001b[0m in \u001b[0;36m<module>\u001b[1;34m\u001b[0m\n\u001b[0;32m     17\u001b[0m \u001b[1;32mfinally\u001b[0m \u001b[1;33m:\u001b[0m\u001b[1;33m\u001b[0m\u001b[1;33m\u001b[0m\u001b[0m\n\u001b[0;32m     18\u001b[0m     \u001b[0mprint\u001b[0m \u001b[1;33m(\u001b[0m \u001b[1;34m\"closing file\"\u001b[0m\u001b[1;33m)\u001b[0m\u001b[1;33m\u001b[0m\u001b[1;33m\u001b[0m\u001b[0m\n\u001b[1;32m---> 19\u001b[1;33m     \u001b[0mfile\u001b[0m\u001b[1;33m.\u001b[0m\u001b[0mclose\u001b[0m\u001b[1;33m(\u001b[0m\u001b[1;33m)\u001b[0m\u001b[1;33m\u001b[0m\u001b[1;33m\u001b[0m\u001b[0m\n\u001b[0m",
      "\u001b[1;31mNameError\u001b[0m: name 'file' is not defined"
     ]
    }
   ],
   "source": [
    "age = 21\n",
    "try : \n",
    "    file = open ( \"./data/divisor.txt\")\n",
    "    line= file.read()\n",
    "    print ( \"divisor = \", line )\n",
    "     \n",
    "    # now divide the age by the divisor\n",
    "    new_age = age/int(line)\n",
    "    print ( \"new age = \", new_age)\n",
    "\n",
    "except FileNotFoundError :\n",
    "    print ( \" file not found \")\n",
    "\n",
    "except ZeroDivisionError :\n",
    "    print ( \"Divide by zero error\" )\n",
    "\n",
    "finally :\n",
    "    print ( \"closing file\")\n",
    "    file.close()"
   ]
  },
  {
   "cell_type": "code",
   "execution_count": 12,
   "metadata": {},
   "outputs": [
    {
     "name": "stdout",
     "output_type": "stream",
     "text": [
      "finally!\n"
     ]
    },
    {
     "data": {
      "text/plain": [
       "10"
      ]
     },
     "execution_count": 12,
     "metadata": {},
     "output_type": "execute_result"
    }
   ],
   "source": [
    "def f(x):\n",
    "    try:\n",
    "        y = int(x)\n",
    "        return y   \n",
    "    except ValueError:\n",
    "        print(x)\n",
    "    finally:\n",
    "        print(\"finally!\")\n",
    "        \n",
    "f(10)"
   ]
  },
  {
   "cell_type": "code",
   "execution_count": 11,
   "metadata": {},
   "outputs": [
    {
     "name": "stdout",
     "output_type": "stream",
     "text": [
      "s\n",
      "finally!\n"
     ]
    }
   ],
   "source": [
    "f('s')"
   ]
  },
  {
   "cell_type": "code",
   "execution_count": 13,
   "metadata": {},
   "outputs": [
    {
     "ename": "Exception",
     "evalue": "x should not exceed 5. The value of x was: 10",
     "output_type": "error",
     "traceback": [
      "\u001b[1;31m---------------------------------------------------------------------------\u001b[0m",
      "\u001b[1;31mException\u001b[0m                                 Traceback (most recent call last)",
      "\u001b[1;32m<ipython-input-13-2f5ed0141ecd>\u001b[0m in \u001b[0;36m<module>\u001b[1;34m\u001b[0m\n\u001b[0;32m      3\u001b[0m \u001b[0mx\u001b[0m \u001b[1;33m=\u001b[0m \u001b[1;36m10\u001b[0m\u001b[1;33m\u001b[0m\u001b[1;33m\u001b[0m\u001b[0m\n\u001b[0;32m      4\u001b[0m \u001b[1;32mif\u001b[0m \u001b[0mx\u001b[0m\u001b[1;33m>\u001b[0m\u001b[1;36m5\u001b[0m\u001b[1;33m:\u001b[0m\u001b[1;33m\u001b[0m\u001b[1;33m\u001b[0m\u001b[0m\n\u001b[1;32m----> 5\u001b[1;33m     \u001b[1;32mraise\u001b[0m \u001b[0mException\u001b[0m \u001b[1;33m(\u001b[0m\u001b[1;34m'x should not exceed 5. The value of x was: {}'\u001b[0m\u001b[1;33m.\u001b[0m\u001b[0mformat\u001b[0m\u001b[1;33m(\u001b[0m\u001b[0mx\u001b[0m\u001b[1;33m)\u001b[0m\u001b[1;33m)\u001b[0m\u001b[1;33m\u001b[0m\u001b[1;33m\u001b[0m\u001b[0m\n\u001b[0m",
      "\u001b[1;31mException\u001b[0m: x should not exceed 5. The value of x was: 10"
     ]
    }
   ],
   "source": [
    "# raise your own exception\n",
    "\n",
    "x = 10\n",
    "if x>5:\n",
    "    raise Exception ('x should not exceed 5. The value of x was: {}'.format(x)) "
   ]
  },
  {
   "cell_type": "code",
   "execution_count": 14,
   "metadata": {},
   "outputs": [
    {
     "ename": "AssertionError",
     "evalue": "This code runs on Linux only.",
     "output_type": "error",
     "traceback": [
      "\u001b[1;31m---------------------------------------------------------------------------\u001b[0m",
      "\u001b[1;31mAssertionError\u001b[0m                            Traceback (most recent call last)",
      "\u001b[1;32m<ipython-input-14-a69fe15e08ba>\u001b[0m in \u001b[0;36m<module>\u001b[1;34m\u001b[0m\n\u001b[0;32m      2\u001b[0m \u001b[1;33m\u001b[0m\u001b[0m\n\u001b[0;32m      3\u001b[0m \u001b[1;32mimport\u001b[0m \u001b[0msys\u001b[0m\u001b[1;33m\u001b[0m\u001b[1;33m\u001b[0m\u001b[0m\n\u001b[1;32m----> 4\u001b[1;33m \u001b[1;32massert\u001b[0m \u001b[1;33m(\u001b[0m\u001b[1;34m'linux'\u001b[0m \u001b[1;32min\u001b[0m \u001b[0msys\u001b[0m\u001b[1;33m.\u001b[0m\u001b[0mplatform\u001b[0m\u001b[1;33m)\u001b[0m\u001b[1;33m,\u001b[0m \u001b[1;34m\"This code runs on Linux only.\"\u001b[0m\u001b[1;33m\u001b[0m\u001b[1;33m\u001b[0m\u001b[0m\n\u001b[0m",
      "\u001b[1;31mAssertionError\u001b[0m: This code runs on Linux only."
     ]
    }
   ],
   "source": [
    "# AssertionError\n",
    "\n",
    "import sys\n",
    "assert ('linux' in sys.platform), \"This code runs on Linux only.\""
   ]
  },
  {
   "cell_type": "code",
   "execution_count": 17,
   "metadata": {},
   "outputs": [],
   "source": [
    "def linux_interaction():\n",
    "    assert ('linux' in sys.platform), \"This code runs on Linux only.\"\n",
    "    print(\"Doing somethin\")\n",
    "\n",
    "try:\n",
    "    linux_interaction()\n",
    "except:\n",
    "    pass\n",
    "\n",
    "# pass is executed because exception has occured"
   ]
  }
 ],
 "metadata": {
  "kernelspec": {
   "display_name": "Python 3",
   "language": "python",
   "name": "python3"
  },
  "language_info": {
   "codemirror_mode": {
    "name": "ipython",
    "version": 3
   },
   "file_extension": ".py",
   "mimetype": "text/x-python",
   "name": "python",
   "nbconvert_exporter": "python",
   "pygments_lexer": "ipython3",
   "version": "3.8.3"
  }
 },
 "nbformat": 4,
 "nbformat_minor": 4
}
