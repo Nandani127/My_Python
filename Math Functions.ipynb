{
 "cells": [
  {
   "cell_type": "markdown",
   "metadata": {},
   "source": [
    "## Basic Math - math module"
   ]
  },
  {
   "cell_type": "markdown",
   "metadata": {},
   "source": [
    "cell()"
   ]
  },
  {
   "cell_type": "code",
   "execution_count": 2,
   "metadata": {},
   "outputs": [
    {
     "data": {
      "text/plain": [
       "4"
      ]
     },
     "execution_count": 2,
     "metadata": {},
     "output_type": "execute_result"
    }
   ],
   "source": [
    "# cell value - just upper integer\n",
    "from math import ceil\n",
    " \n",
    "i = 3.5\n",
    "ceil(i)"
   ]
  },
  {
   "cell_type": "code",
   "execution_count": 4,
   "metadata": {},
   "outputs": [
    {
     "data": {
      "text/plain": [
       "-3"
      ]
     },
     "execution_count": 4,
     "metadata": {},
     "output_type": "execute_result"
    }
   ],
   "source": [
    "# negative number\n",
    "i = -3.5\n",
    "ceil(i)"
   ]
  },
  {
   "cell_type": "markdown",
   "metadata": {},
   "source": [
    "floor()"
   ]
  },
  {
   "cell_type": "code",
   "execution_count": 3,
   "metadata": {},
   "outputs": [
    {
     "data": {
      "text/plain": [
       "3"
      ]
     },
     "execution_count": 3,
     "metadata": {},
     "output_type": "execute_result"
    }
   ],
   "source": [
    "# floor value - just lower integer\n",
    "from math import floor\n",
    " \n",
    "i = 3.5\n",
    "floor (i)"
   ]
  },
  {
   "cell_type": "code",
   "execution_count": 5,
   "metadata": {},
   "outputs": [
    {
     "data": {
      "text/plain": [
       "-4"
      ]
     },
     "execution_count": 5,
     "metadata": {},
     "output_type": "execute_result"
    }
   ],
   "source": [
    "i = -3.5\n",
    "floor (i)"
   ]
  },
  {
   "cell_type": "markdown",
   "metadata": {},
   "source": [
    "trunc()"
   ]
  },
  {
   "cell_type": "code",
   "execution_count": 6,
   "metadata": {},
   "outputs": [
    {
     "data": {
      "text/plain": [
       "-3"
      ]
     },
     "execution_count": 6,
     "metadata": {},
     "output_type": "execute_result"
    }
   ],
   "source": [
    "# trunc() method returns the truncated integer part of a number.\n",
    "# This method will NOT round the number up/down to the nearest integer, \n",
    "# but simply remove the decimals.\n",
    "# or trunc() pushes towards zero\n",
    "from math import trunc\n",
    " \n",
    "i = -3.5\n",
    "trunc(i)"
   ]
  },
  {
   "cell_type": "code",
   "execution_count": 7,
   "metadata": {},
   "outputs": [
    {
     "data": {
      "text/plain": [
       "3"
      ]
     },
     "execution_count": 7,
     "metadata": {},
     "output_type": "execute_result"
    }
   ],
   "source": [
    "i = 3.5\n",
    "trunc(i)"
   ]
  },
  {
   "cell_type": "markdown",
   "metadata": {},
   "source": [
    "exp()"
   ]
  },
  {
   "cell_type": "code",
   "execution_count": 8,
   "metadata": {},
   "outputs": [
    {
     "data": {
      "text/plain": [
       "33.11545195869231"
      ]
     },
     "execution_count": 8,
     "metadata": {},
     "output_type": "execute_result"
    }
   ],
   "source": [
    "# calculates exponential of a value\n",
    "from math import exp\n",
    " \n",
    "x = 3.5\n",
    "exp(x)"
   ]
  },
  {
   "cell_type": "markdown",
   "metadata": {},
   "source": [
    "pow()"
   ]
  },
  {
   "cell_type": "code",
   "execution_count": 9,
   "metadata": {},
   "outputs": [
    {
     "data": {
      "text/plain": [
       "32.0"
      ]
     },
     "execution_count": 9,
     "metadata": {},
     "output_type": "execute_result"
    }
   ],
   "source": [
    "# calculate the power of one integer with another\n",
    "# there is python in-built pow() function also\n",
    "# and ** operator for finding power also\n",
    "from math import pow\n",
    " \n",
    "pow(2,5)            # 2 to the power 5"
   ]
  },
  {
   "cell_type": "markdown",
   "metadata": {},
   "source": [
    "sqrt ( )"
   ]
  },
  {
   "cell_type": "code",
   "execution_count": 10,
   "metadata": {},
   "outputs": [
    {
     "data": {
      "text/plain": [
       "10.0"
      ]
     },
     "execution_count": 10,
     "metadata": {},
     "output_type": "execute_result"
    }
   ],
   "source": [
    "# Calculates the square root of a value.\n",
    "from math import sqrt\n",
    " \n",
    "sqrt(100)"
   ]
  },
  {
   "cell_type": "markdown",
   "metadata": {},
   "source": [
    "log()"
   ]
  },
  {
   "cell_type": "code",
   "execution_count": 11,
   "metadata": {},
   "outputs": [
    {
     "data": {
      "text/plain": [
       "4.605170185988092"
      ]
     },
     "execution_count": 11,
     "metadata": {},
     "output_type": "execute_result"
    }
   ],
   "source": [
    "# calculates logarithmic value\n",
    "from math import log\n",
    " \n",
    "log(100)\n",
    "# By default the base is e"
   ]
  },
  {
   "cell_type": "code",
   "execution_count": 12,
   "metadata": {},
   "outputs": [
    {
     "data": {
      "text/plain": [
       "2.0"
      ]
     },
     "execution_count": 12,
     "metadata": {},
     "output_type": "execute_result"
    }
   ],
   "source": [
    "# If we want to calculate the logarithm to the base 10\n",
    "log (100,10)"
   ]
  },
  {
   "cell_type": "code",
   "execution_count": 13,
   "metadata": {},
   "outputs": [
    {
     "data": {
      "text/plain": [
       "6.643856189774725"
      ]
     },
     "execution_count": 13,
     "metadata": {},
     "output_type": "execute_result"
    }
   ],
   "source": [
    "# with base 2\n",
    "log (100,2)"
   ]
  },
  {
   "cell_type": "markdown",
   "metadata": {},
   "source": [
    "### Constants in Math module "
   ]
  },
  {
   "cell_type": "markdown",
   "metadata": {},
   "source": [
    "pi"
   ]
  },
  {
   "cell_type": "code",
   "execution_count": 14,
   "metadata": {},
   "outputs": [
    {
     "data": {
      "text/plain": [
       "3.141592653589793"
      ]
     },
     "execution_count": 14,
     "metadata": {},
     "output_type": "execute_result"
    }
   ],
   "source": [
    "from math import pi\n",
    " \n",
    "pi"
   ]
  },
  {
   "cell_type": "markdown",
   "metadata": {},
   "source": [
    "e"
   ]
  },
  {
   "cell_type": "code",
   "execution_count": 15,
   "metadata": {},
   "outputs": [
    {
     "data": {
      "text/plain": [
       "2.718281828459045"
      ]
     },
     "execution_count": 15,
     "metadata": {},
     "output_type": "execute_result"
    }
   ],
   "source": [
    "from math import e\n",
    " \n",
    "e"
   ]
  },
  {
   "cell_type": "code",
   "execution_count": 16,
   "metadata": {},
   "outputs": [
    {
     "data": {
      "text/plain": [
       "12.566370614359172"
      ]
     },
     "execution_count": 16,
     "metadata": {},
     "output_type": "execute_result"
    }
   ],
   "source": [
    "# Calculate the area of a circle with a radius of 5. \n",
    "def area(r):\n",
    "    return pi*r*r          # or pi * (r**2)\n",
    "area(2)"
   ]
  },
  {
   "cell_type": "markdown",
   "metadata": {},
   "source": [
    "## Trignometric functions "
   ]
  },
  {
   "cell_type": "markdown",
   "metadata": {},
   "source": [
    "radians() "
   ]
  },
  {
   "cell_type": "code",
   "execution_count": 19,
   "metadata": {},
   "outputs": [
    {
     "data": {
      "text/plain": [
       "1.5707963267948966"
      ]
     },
     "execution_count": 19,
     "metadata": {},
     "output_type": "execute_result"
    }
   ],
   "source": [
    "# radians(x) – converts x (in degrees) to radians\n",
    "from math import radians\n",
    "degrees = 90\n",
    "radians(degrees)"
   ]
  },
  {
   "cell_type": "markdown",
   "metadata": {},
   "source": [
    "degrees()"
   ]
  },
  {
   "cell_type": "code",
   "execution_count": 22,
   "metadata": {},
   "outputs": [
    {
     "data": {
      "text/plain": [
       "90.0"
      ]
     },
     "execution_count": 22,
     "metadata": {},
     "output_type": "execute_result"
    }
   ],
   "source": [
    "# degrees (x) – converts x (in radians) to degrees\n",
    "from math import degrees\n",
    "radian = 1.5707963267948966\n",
    "degrees(radian)"
   ]
  },
  {
   "cell_type": "code",
   "execution_count": 24,
   "metadata": {},
   "outputs": [
    {
     "data": {
      "text/plain": [
       "1.0"
      ]
     },
     "execution_count": 24,
     "metadata": {},
     "output_type": "execute_result"
    }
   ],
   "source": [
    "# All of the standard trignometric (sin,cos,tan etc ) \n",
    "# and hyperbolic (sinh, cosh, tanh etc ) functions area available in the math module.\n",
    "# the input parameter is always in radians and not in degrees.\n",
    "from math import sin\n",
    "sin(radian)              # sin(90 degree) = 1"
   ]
  },
  {
   "cell_type": "code",
   "execution_count": 25,
   "metadata": {},
   "outputs": [
    {
     "data": {
      "text/plain": [
       "2.3012989023072947"
      ]
     },
     "execution_count": 25,
     "metadata": {},
     "output_type": "execute_result"
    }
   ],
   "source": [
    "from math import sinh\n",
    "sinh(radian)"
   ]
  },
  {
   "cell_type": "markdown",
   "metadata": {},
   "source": [
    "## Special Functions "
   ]
  },
  {
   "cell_type": "markdown",
   "metadata": {},
   "source": [
    "fsum()"
   ]
  },
  {
   "cell_type": "code",
   "execution_count": 26,
   "metadata": {},
   "outputs": [
    {
     "data": {
      "text/plain": [
       "0.45"
      ]
     },
     "execution_count": 26,
     "metadata": {},
     "output_type": "execute_result"
    }
   ],
   "source": [
    "# add all the numbers in a list higher floating point accuracy\n",
    "from math import fsum\n",
    "height = [0.01,0.02,0.03,0.04,0.05,0.06,0.07,0.08,0.09]\n",
    "fsum(height)"
   ]
  },
  {
   "cell_type": "code",
   "execution_count": 27,
   "metadata": {},
   "outputs": [
    {
     "data": {
      "text/plain": [
       "0.45000000000000007"
      ]
     },
     "execution_count": 27,
     "metadata": {},
     "output_type": "execute_result"
    }
   ],
   "source": [
    "# whereas using sum() function -\n",
    "height = [0.01,0.02,0.03,0.04,0.05,0.06,0.07,0.08,0.09]\n",
    "sum(height)"
   ]
  },
  {
   "cell_type": "markdown",
   "metadata": {},
   "source": [
    "gcd()"
   ]
  },
  {
   "cell_type": "code",
   "execution_count": 28,
   "metadata": {},
   "outputs": [
    {
     "data": {
      "text/plain": [
       "20"
      ]
     },
     "execution_count": 28,
     "metadata": {},
     "output_type": "execute_result"
    }
   ],
   "source": [
    "# greatest common divisor\n",
    "from math import gcd\n",
    " \n",
    "gcd(20,100)"
   ]
  },
  {
   "cell_type": "code",
   "execution_count": 33,
   "metadata": {},
   "outputs": [
    {
     "name": "stdout",
     "output_type": "stream",
     "text": [
      "20\n"
     ]
    }
   ],
   "source": [
    "# finding gcd of two numbers without using inbuilt function\n",
    "def cal_gcd(a, b):\n",
    "    if a == 0:\n",
    "        return b\n",
    "    if b == 0:\n",
    "        return a\n",
    "    # first check the smallest number\n",
    "    if a < b:\n",
    "        smallest = a\n",
    "    elif a > b:\n",
    "        smallest = b\n",
    "    else:  # both are equal\n",
    "        return a\n",
    "    return cal_gcd(b, a%b)     # recursion\n",
    "        \n",
    "ans = cal_gcd(20, 100)\n",
    "print(ans)   "
   ]
  },
  {
   "cell_type": "markdown",
   "metadata": {},
   "source": [
    "factorial()"
   ]
  },
  {
   "cell_type": "code",
   "execution_count": 34,
   "metadata": {},
   "outputs": [
    {
     "data": {
      "text/plain": [
       "120"
      ]
     },
     "execution_count": 34,
     "metadata": {},
     "output_type": "execute_result"
    }
   ],
   "source": [
    "from math import factorial\n",
    " \n",
    "factorial(5)"
   ]
  },
  {
   "cell_type": "code",
   "execution_count": 37,
   "metadata": {},
   "outputs": [
    {
     "data": {
      "text/plain": [
       "120"
      ]
     },
     "execution_count": 37,
     "metadata": {},
     "output_type": "execute_result"
    }
   ],
   "source": [
    "# Calculate the factorial without using the math module’s factorial () function\n",
    "def cal_factorial(x):\n",
    "    \n",
    "    if x == 0:\n",
    "        return 1\n",
    "    i = x\n",
    "    factorial = 1\n",
    "    while(i >= 1):\n",
    "        factorial = factorial * i\n",
    "        i -= 1\n",
    "    return factorial\n",
    "\n",
    "cal_factorial(5)"
   ]
  },
  {
   "cell_type": "markdown",
   "metadata": {},
   "source": [
    "## Statistics - statistics module "
   ]
  },
  {
   "cell_type": "markdown",
   "metadata": {},
   "source": [
    "mean()"
   ]
  },
  {
   "cell_type": "code",
   "execution_count": 1,
   "metadata": {},
   "outputs": [
    {
     "data": {
      "text/plain": [
       "4.34"
      ]
     },
     "execution_count": 1,
     "metadata": {},
     "output_type": "execute_result"
    }
   ],
   "source": [
    "# mean() - calculates mean of the data set\n",
    "from statistics import mean\n",
    "\n",
    "ratings = [4.5, 3.9, 4.6, 4.8, 3.9]\n",
    "mean(ratings)"
   ]
  },
  {
   "cell_type": "markdown",
   "metadata": {},
   "source": [
    "median()"
   ]
  },
  {
   "cell_type": "code",
   "execution_count": 2,
   "metadata": {},
   "outputs": [
    {
     "name": "stdout",
     "output_type": "stream",
     "text": [
      "median = 5930000\n"
     ]
    }
   ],
   "source": [
    "# median() - calculates median of the data set\n",
    "from statistics import mean, median\n",
    " \n",
    "income = [5700000,5620000, 5930000, 5500000, 5780000, 5340000, 5380000, \n",
    "          4730000, 9210000, 11900000, 14700000, 10300000, 6360000, 6920000,7600000 ]\n",
    " \n",
    "print ( \"median =\", median(income) )"
   ]
  },
  {
   "cell_type": "markdown",
   "metadata": {},
   "source": [
    "mode()"
   ]
  },
  {
   "cell_type": "code",
   "execution_count": 3,
   "metadata": {},
   "outputs": [
    {
     "data": {
      "text/plain": [
       "13"
      ]
     },
     "execution_count": 3,
     "metadata": {},
     "output_type": "execute_result"
    }
   ],
   "source": [
    "# mode() - calculates mode of the data set\n",
    "from statistics import mode\n",
    " \n",
    "ages = [12,13,14,11,12,13,15,10,13 ]\n",
    "mode(ages)"
   ]
  },
  {
   "cell_type": "markdown",
   "metadata": {},
   "source": [
    "stdev()"
   ]
  },
  {
   "cell_type": "code",
   "execution_count": 4,
   "metadata": {},
   "outputs": [
    {
     "data": {
      "text/plain": [
       "2884498.470890811"
      ]
     },
     "execution_count": 4,
     "metadata": {},
     "output_type": "execute_result"
    }
   ],
   "source": [
    "# stdev() - calculates standard deviation of a dataset\n",
    "from statistics import stdev\n",
    " \n",
    "income = [5700000,5620000, 5930000, 5500000, 5780000, 5340000, 5380000, \n",
    "          4730000, 9210000, 11900000, 14700000, 10300000, 6360000, 6920000,7600000 ]\n",
    "stdev(income)"
   ]
  },
  {
   "cell_type": "markdown",
   "metadata": {},
   "source": [
    "## random module  - sampling functions"
   ]
  },
  {
   "cell_type": "markdown",
   "metadata": {},
   "source": [
    "random()"
   ]
  },
  {
   "cell_type": "code",
   "execution_count": 5,
   "metadata": {},
   "outputs": [
    {
     "data": {
      "text/plain": [
       "0.8140930417953026"
      ]
     },
     "execution_count": 5,
     "metadata": {},
     "output_type": "execute_result"
    }
   ],
   "source": [
    "# random() -  generates a random floating point number between 0 and 1\n",
    "from random import random\n",
    " \n",
    "random()"
   ]
  },
  {
   "cell_type": "code",
   "execution_count": 6,
   "metadata": {},
   "outputs": [
    {
     "name": "stdout",
     "output_type": "stream",
     "text": [
      "0.20031047000643887\n",
      "0.8249879292537505\n",
      "0.6185902592379433\n",
      "0.9475823561373655\n",
      "0.7017016031104827\n",
      "0.48029342281287934\n",
      "0.47335934436149174\n",
      "0.8083838843016947\n",
      "0.5679804935788447\n",
      "0.8876827488199658\n"
     ]
    }
   ],
   "source": [
    "# Let’s try generating a bunch of them in a for loop.\n",
    "for i in range(10) :\n",
    "    print (random())"
   ]
  },
  {
   "cell_type": "markdown",
   "metadata": {},
   "source": [
    "seed()"
   ]
  },
  {
   "cell_type": "code",
   "execution_count": 7,
   "metadata": {},
   "outputs": [
    {
     "name": "stdout",
     "output_type": "stream",
     "text": [
      "0.13436424411240122\n",
      "0.13436424411240122\n",
      "0.13436424411240122\n",
      "0.13436424411240122\n",
      "0.13436424411240122\n",
      "0.13436424411240122\n",
      "0.13436424411240122\n",
      "0.13436424411240122\n",
      "0.13436424411240122\n",
      "0.13436424411240122\n"
     ]
    }
   ],
   "source": [
    "# seed() - generates the same number everytime\n",
    "# For every seed value, you get the same random number again and again.\n",
    "from random import seed\n",
    " \n",
    "for i in range(10) :\n",
    "    seed(1)\n",
    "    print ( random () )"
   ]
  },
  {
   "cell_type": "markdown",
   "metadata": {},
   "source": [
    "uniform()"
   ]
  },
  {
   "cell_type": "code",
   "execution_count": 8,
   "metadata": {},
   "outputs": [
    {
     "name": "stdout",
     "output_type": "stream",
     "text": [
      "18.47433736937233\n",
      "17.63774618976614\n",
      "12.550690257394217\n",
      "14.95435087091941\n",
      "14.49491064788738\n",
      "16.51592972722763\n",
      "17.88723351135513\n",
      "10.938595867742348\n",
      "10.283474765220063\n",
      "18.357651039198696\n"
     ]
    }
   ],
   "source": [
    "# uniform() - Generates a random number in between a user specified range of numbers.\n",
    "from random import uniform\n",
    " \n",
    "for i in range(10):\n",
    "    print (uniform(10,20))"
   ]
  },
  {
   "cell_type": "markdown",
   "metadata": {},
   "source": [
    "randrange()"
   ]
  },
  {
   "cell_type": "code",
   "execution_count": 9,
   "metadata": {},
   "outputs": [
    {
     "name": "stdout",
     "output_type": "stream",
     "text": [
      "16\n",
      "19\n",
      "10\n",
      "17\n",
      "14\n",
      "13\n",
      "19\n",
      "11\n",
      "15\n",
      "10\n"
     ]
    }
   ],
   "source": [
    "# randrange() -This function is exactly similar to the uniform function, \n",
    "# except the random number generated is an integer and not a floating point function.\n",
    "from random import randrange\n",
    " \n",
    "for i in range(10):\n",
    "    print (randrange(10,20))"
   ]
  },
  {
   "cell_type": "markdown",
   "metadata": {},
   "source": [
    "shuffle()"
   ]
  },
  {
   "cell_type": "code",
   "execution_count": 10,
   "metadata": {},
   "outputs": [
    {
     "data": {
      "text/plain": [
       "['San Francisco', 'Sydney', 'London', 'Tokyo', 'Hyderabad']"
      ]
     },
     "execution_count": 10,
     "metadata": {},
     "output_type": "execute_result"
    }
   ],
   "source": [
    "# shuffle() - shuffles a list\n",
    "from random import shuffle\n",
    " \n",
    "names = [\"Hyderabad\",\"San Francisco\",\"London\",\"Sydney\",\"Tokyo\"]\n",
    "shuffle(names)\n",
    "names"
   ]
  },
  {
   "cell_type": "markdown",
   "metadata": {},
   "source": [
    "choice()"
   ]
  },
  {
   "cell_type": "code",
   "execution_count": 15,
   "metadata": {},
   "outputs": [
    {
     "data": {
      "text/plain": [
       "'Tokyo'"
      ]
     },
     "execution_count": 15,
     "metadata": {},
     "output_type": "execute_result"
    }
   ],
   "source": [
    "# choice() - choice function is used to pick a random choice of elements among a sequence.\n",
    "from random import choice\n",
    " \n",
    "names = [\"Hyderabad\",\"San Francisco\",\"London\",\"Sydney\",\"Tokyo\"]\n",
    "choice(names)"
   ]
  },
  {
   "cell_type": "markdown",
   "metadata": {},
   "source": [
    "sample()"
   ]
  },
  {
   "cell_type": "code",
   "execution_count": 13,
   "metadata": {},
   "outputs": [
    {
     "data": {
      "text/plain": [
       "['San Francisco', 'Sydney']"
      ]
     },
     "execution_count": 13,
     "metadata": {},
     "output_type": "execute_result"
    }
   ],
   "source": [
    "# The sample( ) function returns a random subset of elements from the list. \n",
    "# We can specify how many elements you want in one of its arguments.\n",
    "from random import sample\n",
    " \n",
    "names = [\"Hyderabad\",\"San Francisco\",\"London\",\"Sydney\",\"Tokyo\"]\n",
    "sample(names,2)          # sample without replacement"
   ]
  },
  {
   "cell_type": "markdown",
   "metadata": {},
   "source": [
    "Challenge"
   ]
  },
  {
   "cell_type": "code",
   "execution_count": 17,
   "metadata": {},
   "outputs": [
    {
     "name": "stdout",
     "output_type": "stream",
     "text": [
      "Sydney\n"
     ]
    }
   ],
   "source": [
    "# Pick a random element from a list without using inbuilt choice()\n",
    "\n",
    "cities = [\"Hyderabad\",\"San Francisco\",\"London\",\"Sydney\",\"Tokyo\"]\n",
    "index = randrange( len(cities) )\n",
    "print(cities[index])"
   ]
  },
  {
   "cell_type": "code",
   "execution_count": 36,
   "metadata": {},
   "outputs": [
    {
     "name": "stdout",
     "output_type": "stream",
     "text": [
      "['San Francisco', 'Tokyo', 'Sydney']\n"
     ]
    }
   ],
   "source": [
    "# Pick a sample of 3 elements from a list, without using sample() function\n",
    "\n",
    "cities = [\"Hyderabad\",\"San Francisco\",\"London\",\"Sydney\",\"Tokyo\"]\n",
    "sample = []\n",
    "\n",
    "# pick 3 random numbers\n",
    "while len(sample) < 3:\n",
    "    index = randrange(len(cities))\n",
    "    \n",
    "    # if the element has already been added, ignore it. \n",
    "    if cities[index] in sample:\n",
    "        continue\n",
    "    # else add it to the sample list\n",
    "    else:\n",
    "        sample.append(cities[index])\n",
    "        \n",
    "print(sample)"
   ]
  },
  {
   "cell_type": "code",
   "execution_count": 43,
   "metadata": {},
   "outputs": [
    {
     "name": "stdout",
     "output_type": "stream",
     "text": [
      "['London', 'Sydney', 'Hyderabad', 'San Francisco', 'Tokyo']\n"
     ]
    }
   ],
   "source": [
    "# Shuffle the list of cities, without using shuffle() function\n",
    "cities = [\"Hyderabad\",\"San Francisco\",\"London\",\"Sydney\",\"Tokyo\"]\n",
    "shuffle_cities = []\n",
    "\n",
    "while len(shuffle_cities) != len(cities):\n",
    "    # pick a random element from the list\n",
    "    i = randrange(len(cities))\n",
    "    \n",
    "    # if the city is already added, don't add it\n",
    "    if cities[i] in shuffle_cities:\n",
    "        continue\n",
    "        \n",
    "    # if not already added, add it to the shuffled cities list\n",
    "    else:\n",
    "        shuffle_cities.append(cities[i])\n",
    "        \n",
    "print(shuffle_cities)"
   ]
  }
 ],
 "metadata": {
  "kernelspec": {
   "display_name": "Python 3",
   "language": "python",
   "name": "python3"
  },
  "language_info": {
   "codemirror_mode": {
    "name": "ipython",
    "version": 3
   },
   "file_extension": ".py",
   "mimetype": "text/x-python",
   "name": "python",
   "nbconvert_exporter": "python",
   "pygments_lexer": "ipython3",
   "version": "3.8.3"
  }
 },
 "nbformat": 4,
 "nbformat_minor": 4
}
